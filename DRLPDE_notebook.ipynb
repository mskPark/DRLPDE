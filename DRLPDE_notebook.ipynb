{
 "cells": [
  {
   "cell_type": "code",
   "execution_count": 1,
   "metadata": {},
   "outputs": [
    {
     "ename": "RuntimeError",
     "evalue": "Expected all tensors to be on the same device, but found at least two devices, cpu and cuda:0! (when checking argument for argument mat1 in method wrapper_addmm)",
     "output_type": "error",
     "traceback": [
      "\u001b[1;31m---------------------------------------------------------------------------\u001b[0m",
      "\u001b[1;31mRuntimeError\u001b[0m                              Traceback (most recent call last)",
      "\u001b[1;32mc:\\Users\\Kevin\\Documents\\GitHub\\DRLPDE\\DRLPDE_notebook.ipynb Cell 1\u001b[0m in \u001b[0;36m<cell line: 5>\u001b[1;34m()\u001b[0m\n\u001b[0;32m      <a href='vscode-notebook-cell:/c%3A/Users/Kevin/Documents/GitHub/DRLPDE/DRLPDE_notebook.ipynb#W0sZmlsZQ%3D%3D?line=1'>2</a>\u001b[0m \u001b[39mimport\u001b[39;00m \u001b[39mtime\u001b[39;00m\n\u001b[0;32m      <a href='vscode-notebook-cell:/c%3A/Users/Kevin/Documents/GitHub/DRLPDE/DRLPDE_notebook.ipynb#W0sZmlsZQ%3D%3D?line=3'>4</a>\u001b[0m start \u001b[39m=\u001b[39m time\u001b[39m.\u001b[39mtime()\n\u001b[1;32m----> <a href='vscode-notebook-cell:/c%3A/Users/Kevin/Documents/GitHub/DRLPDE/DRLPDE_notebook.ipynb#W0sZmlsZQ%3D%3D?line=4'>5</a>\u001b[0m model \u001b[39m=\u001b[39m DRLPDE_RW\u001b[39m.\u001b[39;49mmaintraining(param\u001b[39m=\u001b[39;49m\u001b[39m'\u001b[39;49m\u001b[39mJCPexample6\u001b[39;49m\u001b[39m'\u001b[39;49m,\n\u001b[0;32m      <a href='vscode-notebook-cell:/c%3A/Users/Kevin/Documents/GitHub/DRLPDE/DRLPDE_notebook.ipynb#W0sZmlsZQ%3D%3D?line=5'>6</a>\u001b[0m                  param_solver \u001b[39m=\u001b[39;49m \u001b[39m'\u001b[39;49m\u001b[39mDRLPDE_param_solver\u001b[39;49m\u001b[39m'\u001b[39;49m,\n\u001b[0;32m      <a href='vscode-notebook-cell:/c%3A/Users/Kevin/Documents/GitHub/DRLPDE/DRLPDE_notebook.ipynb#W0sZmlsZQ%3D%3D?line=6'>7</a>\u001b[0m                  use_cuda\u001b[39m=\u001b[39;49m\u001b[39mTrue\u001b[39;49;00m)\n\u001b[0;32m      <a href='vscode-notebook-cell:/c%3A/Users/Kevin/Documents/GitHub/DRLPDE/DRLPDE_notebook.ipynb#W0sZmlsZQ%3D%3D?line=8'>9</a>\u001b[0m end \u001b[39m=\u001b[39m time\u001b[39m.\u001b[39mtime()\n\u001b[0;32m     <a href='vscode-notebook-cell:/c%3A/Users/Kevin/Documents/GitHub/DRLPDE/DRLPDE_notebook.ipynb#W0sZmlsZQ%3D%3D?line=9'>10</a>\u001b[0m \u001b[39mprint\u001b[39m(\u001b[39m'\u001b[39m\u001b[39mTime to train: \u001b[39m\u001b[39m{:3.0f}\u001b[39;00m\u001b[39m minutes\u001b[39m\u001b[39m'\u001b[39m\u001b[39m.\u001b[39mformat((end \u001b[39m-\u001b[39m start)\u001b[39m/\u001b[39m\u001b[39m60\u001b[39m))\n",
      "File \u001b[1;32mc:\\Users\\Kevin\\Documents\\GitHub\\DRLPDE\\DRLPDE_RW.py:185\u001b[0m, in \u001b[0;36mmaintraining\u001b[1;34m(param, param_solver, use_cuda)\u001b[0m\n\u001b[0;32m    182\u001b[0m Xold \u001b[39m=\u001b[39m Xold\u001b[39m.\u001b[39mto(dev)\u001b[39m.\u001b[39mrequires_grad_(\u001b[39mTrue\u001b[39;00m)\n\u001b[0;32m    184\u001b[0m \u001b[39m# Evaluate at old location and Move walkers\u001b[39;00m\n\u001b[1;32m--> 185\u001b[0m Xnew, Uold, outside \u001b[39m=\u001b[39m move_Walkers(Xold, model, Domain, \u001b[39m*\u001b[39m\u001b[39m*\u001b[39mmove_walkers_param)\n\u001b[0;32m    187\u001b[0m \u001b[39m# Evaluate at new location and average\u001b[39;00m\n\u001b[0;32m    188\u001b[0m Target \u001b[39m=\u001b[39m evaluate_model(Xold\u001b[39m.\u001b[39mrepeat(num_ghost,\u001b[39m1\u001b[39m), Xnew, model, \u001b[39m*\u001b[39m\u001b[39m*\u001b[39meval_model_param)\u001b[39m.\u001b[39mreshape(num_ghost, \n\u001b[0;32m    189\u001b[0m                                                                      num_batch,\n\u001b[0;32m    190\u001b[0m                                                                      output_dim)\u001b[39m.\u001b[39mmean(\u001b[39m0\u001b[39m)\n",
      "File \u001b[1;32mc:\\Users\\Kevin\\Documents\\GitHub\\DRLPDE\\DRLPDE_functions\\EvaluateWalkers.py:17\u001b[0m, in \u001b[0;36mmove_Walkers_NS_steady\u001b[1;34m(X, model, Domain, x_dim, mu, dt, num_batch, num_ghost, tol, **move_walkers_param)\u001b[0m\n\u001b[0;32m     14\u001b[0m \u001b[39mdef\u001b[39;00m \u001b[39mmove_Walkers_NS_steady\u001b[39m(X, model, Domain, x_dim, mu, dt, num_batch, num_ghost, tol, \u001b[39m*\u001b[39m\u001b[39m*\u001b[39mmove_walkers_param):\n\u001b[0;32m     15\u001b[0m     \n\u001b[0;32m     16\u001b[0m     \u001b[39m### Evaluate model\u001b[39;00m\n\u001b[1;32m---> 17\u001b[0m     Uold \u001b[39m=\u001b[39m model(X)\n\u001b[0;32m     19\u001b[0m     \u001b[39m### Move walkers\u001b[39;00m\n\u001b[0;32m     20\u001b[0m     Zt \u001b[39m=\u001b[39m np\u001b[39m.\u001b[39msqrt(dt)\u001b[39m*\u001b[39mtorch\u001b[39m.\u001b[39mrandn((num_batch\u001b[39m*\u001b[39mnum_ghost, x_dim), device\u001b[39m=\u001b[39mX\u001b[39m.\u001b[39mdevice, requires_grad\u001b[39m=\u001b[39m\u001b[39mTrue\u001b[39;00m)\n",
      "File \u001b[1;32mc:\\Users\\Kevin\\AppData\\Local\\Programs\\Python\\Python310\\lib\\site-packages\\torch\\nn\\modules\\module.py:1110\u001b[0m, in \u001b[0;36mModule._call_impl\u001b[1;34m(self, *input, **kwargs)\u001b[0m\n\u001b[0;32m   1106\u001b[0m \u001b[39m# If we don't have any hooks, we want to skip the rest of the logic in\u001b[39;00m\n\u001b[0;32m   1107\u001b[0m \u001b[39m# this function, and just call forward.\u001b[39;00m\n\u001b[0;32m   1108\u001b[0m \u001b[39mif\u001b[39;00m \u001b[39mnot\u001b[39;00m (\u001b[39mself\u001b[39m\u001b[39m.\u001b[39m_backward_hooks \u001b[39mor\u001b[39;00m \u001b[39mself\u001b[39m\u001b[39m.\u001b[39m_forward_hooks \u001b[39mor\u001b[39;00m \u001b[39mself\u001b[39m\u001b[39m.\u001b[39m_forward_pre_hooks \u001b[39mor\u001b[39;00m _global_backward_hooks\n\u001b[0;32m   1109\u001b[0m         \u001b[39mor\u001b[39;00m _global_forward_hooks \u001b[39mor\u001b[39;00m _global_forward_pre_hooks):\n\u001b[1;32m-> 1110\u001b[0m     \u001b[39mreturn\u001b[39;00m forward_call(\u001b[39m*\u001b[39m\u001b[39minput\u001b[39m, \u001b[39m*\u001b[39m\u001b[39m*\u001b[39mkwargs)\n\u001b[0;32m   1111\u001b[0m \u001b[39m# Do not call functions when jit is used\u001b[39;00m\n\u001b[0;32m   1112\u001b[0m full_backward_hooks, non_full_backward_hooks \u001b[39m=\u001b[39m [], []\n",
      "File \u001b[1;32mc:\\Users\\Kevin\\Documents\\GitHub\\DRLPDE\\DRLPDE_nn.py:142\u001b[0m, in \u001b[0;36mIncompressibleNN.forward\u001b[1;34m(self, x)\u001b[0m\n\u001b[0;32m    140\u001b[0m \u001b[39mdef\u001b[39;00m \u001b[39mforward\u001b[39m(\u001b[39mself\u001b[39m, x):\n\u001b[1;32m--> 142\u001b[0m     a \u001b[39m=\u001b[39m \u001b[39mself\u001b[39;49m\u001b[39m.\u001b[39;49msequential_model(x)\n\u001b[0;32m    143\u001b[0m     u \u001b[39m=\u001b[39m \u001b[39mself\u001b[39m\u001b[39m.\u001b[39mcurl(a, x)\n\u001b[0;32m    145\u001b[0m     \u001b[39mreturn\u001b[39;00m u\n",
      "File \u001b[1;32mc:\\Users\\Kevin\\AppData\\Local\\Programs\\Python\\Python310\\lib\\site-packages\\torch\\nn\\modules\\module.py:1110\u001b[0m, in \u001b[0;36mModule._call_impl\u001b[1;34m(self, *input, **kwargs)\u001b[0m\n\u001b[0;32m   1106\u001b[0m \u001b[39m# If we don't have any hooks, we want to skip the rest of the logic in\u001b[39;00m\n\u001b[0;32m   1107\u001b[0m \u001b[39m# this function, and just call forward.\u001b[39;00m\n\u001b[0;32m   1108\u001b[0m \u001b[39mif\u001b[39;00m \u001b[39mnot\u001b[39;00m (\u001b[39mself\u001b[39m\u001b[39m.\u001b[39m_backward_hooks \u001b[39mor\u001b[39;00m \u001b[39mself\u001b[39m\u001b[39m.\u001b[39m_forward_hooks \u001b[39mor\u001b[39;00m \u001b[39mself\u001b[39m\u001b[39m.\u001b[39m_forward_pre_hooks \u001b[39mor\u001b[39;00m _global_backward_hooks\n\u001b[0;32m   1109\u001b[0m         \u001b[39mor\u001b[39;00m _global_forward_hooks \u001b[39mor\u001b[39;00m _global_forward_pre_hooks):\n\u001b[1;32m-> 1110\u001b[0m     \u001b[39mreturn\u001b[39;00m forward_call(\u001b[39m*\u001b[39m\u001b[39minput\u001b[39m, \u001b[39m*\u001b[39m\u001b[39m*\u001b[39mkwargs)\n\u001b[0;32m   1111\u001b[0m \u001b[39m# Do not call functions when jit is used\u001b[39;00m\n\u001b[0;32m   1112\u001b[0m full_backward_hooks, non_full_backward_hooks \u001b[39m=\u001b[39m [], []\n",
      "File \u001b[1;32mc:\\Users\\Kevin\\AppData\\Local\\Programs\\Python\\Python310\\lib\\site-packages\\torch\\nn\\modules\\container.py:141\u001b[0m, in \u001b[0;36mSequential.forward\u001b[1;34m(self, input)\u001b[0m\n\u001b[0;32m    139\u001b[0m \u001b[39mdef\u001b[39;00m \u001b[39mforward\u001b[39m(\u001b[39mself\u001b[39m, \u001b[39minput\u001b[39m):\n\u001b[0;32m    140\u001b[0m     \u001b[39mfor\u001b[39;00m module \u001b[39min\u001b[39;00m \u001b[39mself\u001b[39m:\n\u001b[1;32m--> 141\u001b[0m         \u001b[39minput\u001b[39m \u001b[39m=\u001b[39m module(\u001b[39minput\u001b[39;49m)\n\u001b[0;32m    142\u001b[0m     \u001b[39mreturn\u001b[39;00m \u001b[39minput\u001b[39m\n",
      "File \u001b[1;32mc:\\Users\\Kevin\\AppData\\Local\\Programs\\Python\\Python310\\lib\\site-packages\\torch\\nn\\modules\\module.py:1110\u001b[0m, in \u001b[0;36mModule._call_impl\u001b[1;34m(self, *input, **kwargs)\u001b[0m\n\u001b[0;32m   1106\u001b[0m \u001b[39m# If we don't have any hooks, we want to skip the rest of the logic in\u001b[39;00m\n\u001b[0;32m   1107\u001b[0m \u001b[39m# this function, and just call forward.\u001b[39;00m\n\u001b[0;32m   1108\u001b[0m \u001b[39mif\u001b[39;00m \u001b[39mnot\u001b[39;00m (\u001b[39mself\u001b[39m\u001b[39m.\u001b[39m_backward_hooks \u001b[39mor\u001b[39;00m \u001b[39mself\u001b[39m\u001b[39m.\u001b[39m_forward_hooks \u001b[39mor\u001b[39;00m \u001b[39mself\u001b[39m\u001b[39m.\u001b[39m_forward_pre_hooks \u001b[39mor\u001b[39;00m _global_backward_hooks\n\u001b[0;32m   1109\u001b[0m         \u001b[39mor\u001b[39;00m _global_forward_hooks \u001b[39mor\u001b[39;00m _global_forward_pre_hooks):\n\u001b[1;32m-> 1110\u001b[0m     \u001b[39mreturn\u001b[39;00m forward_call(\u001b[39m*\u001b[39m\u001b[39minput\u001b[39m, \u001b[39m*\u001b[39m\u001b[39m*\u001b[39mkwargs)\n\u001b[0;32m   1111\u001b[0m \u001b[39m# Do not call functions when jit is used\u001b[39;00m\n\u001b[0;32m   1112\u001b[0m full_backward_hooks, non_full_backward_hooks \u001b[39m=\u001b[39m [], []\n",
      "File \u001b[1;32mc:\\Users\\Kevin\\AppData\\Local\\Programs\\Python\\Python310\\lib\\site-packages\\torch\\nn\\modules\\linear.py:103\u001b[0m, in \u001b[0;36mLinear.forward\u001b[1;34m(self, input)\u001b[0m\n\u001b[0;32m    102\u001b[0m \u001b[39mdef\u001b[39;00m \u001b[39mforward\u001b[39m(\u001b[39mself\u001b[39m, \u001b[39minput\u001b[39m: Tensor) \u001b[39m-\u001b[39m\u001b[39m>\u001b[39m Tensor:\n\u001b[1;32m--> 103\u001b[0m     \u001b[39mreturn\u001b[39;00m F\u001b[39m.\u001b[39;49mlinear(\u001b[39minput\u001b[39;49m, \u001b[39mself\u001b[39;49m\u001b[39m.\u001b[39;49mweight, \u001b[39mself\u001b[39;49m\u001b[39m.\u001b[39;49mbias)\n",
      "\u001b[1;31mRuntimeError\u001b[0m: Expected all tensors to be on the same device, but found at least two devices, cpu and cuda:0! (when checking argument for argument mat1 in method wrapper_addmm)"
     ]
    }
   ],
   "source": [
    "import DRLPDE_RW\n",
    "import time\n",
    "\n",
    "start = time.time()\n",
    "model = DRLPDE_RW.maintraining(param='JCPexample6',\n",
    "                 param_solver = 'DRLPDE_param_solver',\n",
    "                 use_cuda=True)\n",
    "\n",
    "end = time.time()\n",
    "print('Time to train: {:3.0f} minutes'.format((end - start)/60))"
   ]
  },
  {
   "cell_type": "code",
   "execution_count": 2,
   "metadata": {},
   "outputs": [],
   "source": [
    "import torch\n",
    "\n",
    "A = torch.zeros(10).to(\"cpu\")"
   ]
  },
  {
   "cell_type": "code",
   "execution_count": 3,
   "metadata": {},
   "outputs": [
    {
     "data": {
      "text/plain": [
       "False"
      ]
     },
     "execution_count": 3,
     "metadata": {},
     "output_type": "execute_result"
    }
   ],
   "source": [
    "torch.cuda.is_available()"
   ]
  },
  {
   "cell_type": "code",
   "execution_count": 2,
   "metadata": {},
   "outputs": [],
   "source": [
    "#import DRLPDE_postprocessing\n",
    "\n",
    "#DRLPDE_postprocessing.postprocessing(param='JCPexample2',use_model='JCPexample1')"
   ]
  },
  {
   "cell_type": "code",
   "execution_count": 3,
   "metadata": {},
   "outputs": [],
   "source": [
    "import examples.JCPexample6 as DRLPDE_param\n",
    "import DRLPDE_functions\n",
    "\n",
    "boundingbox = DRLPDE_param.boundingbox\n",
    "list_of_dirichlet_boundaries = DRLPDE_param.list_of_dirichlet_boundaries\n",
    "list_of_periodic_boundaries = DRLPDE_param.list_of_periodic_boundaries\n",
    "\n",
    "Domain = DRLPDE_functions.DefineDomain.Domain(False, boundingbox, \n",
    "                                                  list_of_dirichlet_boundaries,\n",
    "                                                  list_of_periodic_boundaries)\n",
    "\n",
    "num_bdry = 2**12\n",
    "\n",
    "Xbdry, Ubdry = DRLPDE_functions.DefineDomain.generate_boundary_points(num_bdry, boundingbox, Domain.boundaries, False)"
   ]
  },
  {
   "cell_type": "code",
   "execution_count": 4,
   "metadata": {},
   "outputs": [
    {
     "data": {
      "text/plain": [
       "<matplotlib.collections.PathCollection at 0x2c15e5de500>"
      ]
     },
     "execution_count": 4,
     "metadata": {},
     "output_type": "execute_result"
    },
    {
     "data": {
      "image/png": "[encoded data removed]",
      "text/plain": [
       "<Figure size 460.8x360 with 1 Axes>"
      ]
     },
     "metadata": {
      "needs_background": "light"
     },
     "output_type": "display_data"
    }
   ],
   "source": [
    "import matplotlib.pyplot as plt\n",
    "fig, ax = plt.subplots(nrows=1, ncols=1, figsize=[6.4, 5.0])\n",
    "ax.scatter(Xbdry[:,0].detach().numpy(), Xbdry[:,1].detach().numpy(), s=0.1, marker='o')"
   ]
  },
  {
   "cell_type": "code",
   "execution_count": null,
   "metadata": {},
   "outputs": [],
   "source": []
  }
 ],
 "metadata": {
  "kernelspec": {
   "display_name": "Python 3.10.4 64-bit",
   "language": "python",
   "name": "python3"
  },
  "language_info": {
   "codemirror_mode": {
    "name": "ipython",
    "version": 3
   },
   "file_extension": ".py",
   "mimetype": "text/x-python",
   "name": "python",
   "nbconvert_exporter": "python",
   "pygments_lexer": "ipython3",
   "version": "3.10.4"
  },
  "vscode": {
   "interpreter": {
    "hash": "06d3ad103a38a5e5980b0a2ddf222334b9b3630c94a7e75a8e45e8afe280f469"
   }
  }
 },
 "nbformat": 4,
 "nbformat_minor": 4
}
