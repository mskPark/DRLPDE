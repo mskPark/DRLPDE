{
 "cells": [
  {
   "cell_type": "code",
   "execution_count": 1,
   "metadata": {},
   "outputs": [
    {
     "name": "stdout",
     "output_type": "stream",
     "text": [
      "Using model from savedmodels/JCPexample6.pt\n",
      "No errors in first epoch\n",
      "Approx time: 40 minutes\n",
      "step = 500/2000, 0.745 s/step, time-to-go:19 min\n",
      "step = 1000/2000, 0.747 s/step, time-to-go:12 min\n",
      "step = 1500/2000, 0.745 s/step, time-to-go: 6 min\n",
      "step = 2000/2000, 0.748 s/step, time-to-go: 0 min\n",
      "Time to train:  25 minutes\n"
     ]
    }
   ],
   "source": [
    "import DRLPDE_main\n",
    "import time\n",
    "\n",
    "start = time.time()\n",
    "model = DRLPDE_main.maintraining(param='JCPexample6' , use_cuda=True)\n",
    "\n",
    "end = time.time()\n",
    "print('Time to train: {:3.0f} minutes'.format((end - start)/60))"
   ]
  },
  {
   "cell_type": "code",
   "execution_count": 2,
   "metadata": {},
   "outputs": [],
   "source": [
    "#import DRLPDE_postprocessing\n",
    "\n",
    "#DRLPDE_postprocessing.postprocessing(param='JCPexample2',use_model='JCPexample1')"
   ]
  },
  {
   "cell_type": "code",
   "execution_count": 3,
   "metadata": {},
   "outputs": [],
   "source": [
    "import examples.JCPexample6 as DRLPDE_param\n",
    "import DRLPDE_functions\n",
    "\n",
    "boundingbox = DRLPDE_param.boundingbox\n",
    "list_of_dirichlet_boundaries = DRLPDE_param.list_of_dirichlet_boundaries\n",
    "list_of_periodic_boundaries = DRLPDE_param.list_of_periodic_boundaries\n",
    "\n",
    "Domain = DRLPDE_functions.DefineDomain.Domain(False, boundingbox, \n",
    "                                                  list_of_dirichlet_boundaries,\n",
    "                                                  list_of_periodic_boundaries)\n",
    "\n",
    "num_bdry = 2**12\n",
    "\n",
    "Xbdry, Ubdry = DRLPDE_functions.DefineDomain.generate_boundary_points(num_bdry, boundingbox, Domain.boundaries, False)"
   ]
  },
  {
   "cell_type": "code",
   "execution_count": 4,
   "metadata": {},
   "outputs": [
    {
     "data": {
      "text/plain": [
       "<matplotlib.collections.PathCollection at 0x2c15e5de500>"
      ]
     },
     "execution_count": 4,
     "metadata": {},
     "output_type": "execute_result"
    },
    {
     "data": {
      "image/png": "[encoded data removed]",
      "text/plain": [
       "<Figure size 460.8x360 with 1 Axes>"
      ]
     },
     "metadata": {
      "needs_background": "light"
     },
     "output_type": "display_data"
    }
   ],
   "source": [
    "import matplotlib.pyplot as plt\n",
    "fig, ax = plt.subplots(nrows=1, ncols=1, figsize=[6.4, 5.0])\n",
    "ax.scatter(Xbdry[:,0].detach().numpy(), Xbdry[:,1].detach().numpy(), s=0.1, marker='o')"
   ]
  },
  {
   "cell_type": "code",
   "execution_count": null,
   "metadata": {},
   "outputs": [],
   "source": []
  }
 ],
 "metadata": {
  "kernelspec": {
   "display_name": "Python 3.10.4 64-bit",
   "language": "python",
   "name": "python3"
  },
  "language_info": {
   "codemirror_mode": {
    "name": "ipython",
    "version": 3
   },
   "file_extension": ".py",
   "mimetype": "text/x-python",
   "name": "python",
   "nbconvert_exporter": "python",
   "pygments_lexer": "ipython3",
   "version": "3.10.4"
  },
  "vscode": {
   "interpreter": {
    "hash": "916dbcbb3f70747c44a77c7bcd40155683ae19c65e1c03b4aa3499c5328201f1"
   }
  }
 },
 "nbformat": 4,
 "nbformat_minor": 4
}
