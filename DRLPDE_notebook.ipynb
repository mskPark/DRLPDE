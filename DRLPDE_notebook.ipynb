{
 "cells": [
  {
   "cell_type": "code",
   "execution_count": 1,
   "metadata": {},
   "outputs": [],
   "source": [
    "import DRLPDE_main\n",
    "import time"
   ]
  },
  {
   "cell_type": "code",
   "execution_count": 2,
   "metadata": {},
   "outputs": [
    {
     "name": "stdout",
     "output_type": "stream",
     "text": [
      "Pre-processing: Loading parameters from JCPexample3.py\n",
      "Initializing the model\n",
      "Training has begun\n",
      "No errors in first epoch: Training will continue\n",
      "step = 500/5000, 0.242 s/step, time-to-go:1091s\n",
      "step = 1000/5000, 0.254 s/step, time-to-go:1018s\n",
      "step = 1500/5000, 0.261 s/step, time-to-go:912s\n",
      "step = 2000/5000, 0.265 s/step, time-to-go:796s\n",
      "step = 2500/5000, 0.269 s/step, time-to-go:672s\n",
      "step = 3000/5000, 0.271 s/step, time-to-go:543s\n",
      "step = 3500/5000, 0.273 s/step, time-to-go:409s\n",
      "step = 4000/5000, 0.274 s/step, time-to-go:274s\n",
      "step = 4500/5000, 0.275 s/step, time-to-go:137s\n",
      "step = 5000/5000, 0.275 s/step, time-to-go: 0s\n",
      "model saved as savedmodels/JCPexample1.pt\n",
      "Time to train: 1375.4 seconds\n"
     ]
    }
   ],
   "source": [
    "start = time.time()\n",
    "DRLPDE_main.maintraining(param='JCPexample3' , use_cuda=True)\n",
    "\n",
    "end = time.time()\n",
    "print('Time to train: {:3.1f} seconds'.format(end - start))"
   ]
  },
  {
   "cell_type": "code",
   "execution_count": null,
   "metadata": {},
   "outputs": [],
   "source": [
    "import DRLPDE_postprocessing\n",
    "DRLPDE_postprocessing.postprocessing(param='JCPexample2',use_model='JCPexample1')"
   ]
  },
  {
   "cell_type": "code",
   "execution_count": 2,
   "metadata": {},
   "outputs": [
    {
     "data": {
      "text/plain": [
       "True"
      ]
     },
     "execution_count": 2,
     "metadata": {},
     "output_type": "execute_result"
    }
   ],
   "source": []
  },
  {
   "cell_type": "code",
   "execution_count": null,
   "metadata": {},
   "outputs": [],
   "source": []
  },
  {
   "cell_type": "code",
   "execution_count": null,
   "metadata": {},
   "outputs": [],
   "source": []
  },
  {
   "cell_type": "code",
   "execution_count": null,
   "metadata": {},
   "outputs": [],
   "source": []
  }
 ],
 "metadata": {
  "kernelspec": {
   "display_name": "Python 3",
   "language": "python",
   "name": "python3"
  },
  "language_info": {
   "codemirror_mode": {
    "name": "ipython",
    "version": 3
   },
   "file_extension": ".py",
   "mimetype": "text/x-python",
   "name": "python",
   "nbconvert_exporter": "python",
   "pygments_lexer": "ipython3",
   "version": "3.10.4"
  }
 },
 "nbformat": 4,
 "nbformat_minor": 4
}
