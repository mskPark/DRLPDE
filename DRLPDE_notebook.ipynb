{
 "cells": [
  {
   "cell_type": "code",
   "execution_count": 1,
   "metadata": {},
   "outputs": [
    {
     "name": "stdout",
     "output_type": "stream",
     "text": [
      "No errors in first epoch: Training will continue\n",
      "step = 1000/5000, 0.421 s/step, time-to-go:1684s\n",
      "step = 2000/5000, 0.411 s/step, time-to-go:1232s\n",
      "step = 3000/5000, 0.405 s/step, time-to-go:811s\n",
      "step = 4000/5000, 0.402 s/step, time-to-go:402s\n",
      "step = 5000/5000, 0.401 s/step, time-to-go: 0s\n",
      "Time to train: 2006.1 seconds\n"
     ]
    }
   ],
   "source": [
    "import DRLPDE_main\n",
    "import time\n",
    "\n",
    "start = time.time()\n",
    "model = DRLPDE_main.maintraining(param='TaylorGreen' , use_cuda=True)\n",
    "\n",
    "end = time.time()\n",
    "print('Time to train: {:3.1f} seconds'.format(end - start))"
   ]
  },
  {
   "cell_type": "code",
   "execution_count": 2,
   "metadata": {},
   "outputs": [],
   "source": [
    "#import DRLPDE_postprocessing\n",
    "#DRLPDE_postprocessing.postprocessing(param='JCPexample2',use_model='JCPexample1')"
   ]
  },
  {
   "cell_type": "code",
   "execution_count": null,
   "metadata": {},
   "outputs": [],
   "source": [
    "\n"
   ]
  },
  {
   "cell_type": "code",
   "execution_count": null,
   "metadata": {},
   "outputs": [],
   "source": []
  },
  {
   "cell_type": "code",
   "execution_count": null,
   "metadata": {},
   "outputs": [],
   "source": []
  }
 ],
 "metadata": {
  "interpreter": {
   "hash": "06d3ad103a38a5e5980b0a2ddf222334b9b3630c94a7e75a8e45e8afe280f469"
  },
  "kernelspec": {
   "display_name": "Python 3.10.4 64-bit",
   "language": "python",
   "name": "python3"
  },
  "language_info": {
   "codemirror_mode": {
    "name": "ipython",
    "version": 3
   },
   "file_extension": ".py",
   "mimetype": "text/x-python",
   "name": "python",
   "nbconvert_exporter": "python",
   "pygments_lexer": "ipython3",
   "version": "3.10.4"
  }
 },
 "nbformat": 4,
 "nbformat_minor": 4
}
