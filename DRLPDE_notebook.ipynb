{
 "cells": [
  {
   "cell_type": "code",
   "execution_count": 1,
   "metadata": {},
   "outputs": [
    {
     "name": "stdout",
     "output_type": "stream",
     "text": [
      "No errors in first epoch: Training will continue\n",
      "step = 2000/10000, 0.431 s/step, time-to-go:3449s\n",
      "step = 4000/10000, 0.434 s/step, time-to-go:2602s\n"
     ]
    }
   ],
   "source": [
    "import DRLPDE_main\n",
    "import time\n",
    "\n",
    "start = time.time()\n",
    "model = DRLPDE_main.maintraining(param='JCPexample6' , use_cuda=True)\n",
    "\n",
    "end = time.time()\n",
    "print('Time to train: {:3.1f} seconds'.format(end - start))"
   ]
  },
  {
   "cell_type": "code",
   "execution_count": null,
   "metadata": {},
   "outputs": [],
   "source": [
    "#import DRLPDE_postprocessing\n",
    "#DRLPDE_postprocessing.postprocessing(param='JCPexample2',use_model='JCPexample1')"
   ]
  }
 ],
 "metadata": {
  "kernelspec": {
   "display_name": "Python 3",
   "language": "python",
   "name": "python3"
  },
  "language_info": {
   "codemirror_mode": {
    "name": "ipython",
    "version": 3
   },
   "file_extension": ".py",
   "mimetype": "text/x-python",
   "name": "python",
   "nbconvert_exporter": "python",
   "pygments_lexer": "ipython3",
   "version": "3.10.4"
  }
 },
 "nbformat": 4,
 "nbformat_minor": 4
}
