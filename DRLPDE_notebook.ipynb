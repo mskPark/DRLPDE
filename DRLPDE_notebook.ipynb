{
 "cells": [
  {
   "cell_type": "code",
   "execution_count": 1,
   "metadata": {},
   "outputs": [],
   "source": [
    "import DRLPDE_main\n",
    "import time"
   ]
  },
  {
   "cell_type": "code",
   "execution_count": 2,
   "metadata": {},
   "outputs": [
    {
     "name": "stdout",
     "output_type": "stream",
     "text": [
      "Pre-processing: Loading parameters from JCPexample6.py\n",
      "Initializing the model\n",
      "Training has begun\n",
      "No errors in first epoch: Training will continue\n",
      "step = 50/500, 0.331 s/step, time-to-go:149s\n",
      "step = 100/500, 0.322 s/step, time-to-go:129s\n",
      "step = 150/500, 0.319 s/step, time-to-go:112s\n",
      "step = 200/500, 0.319 s/step, time-to-go:96s\n",
      "step = 250/500, 0.319 s/step, time-to-go:80s\n",
      "step = 300/500, 0.319 s/step, time-to-go:64s\n",
      "step = 350/500, 0.320 s/step, time-to-go:48s\n",
      "step = 400/500, 0.319 s/step, time-to-go:32s\n",
      "step = 450/500, 0.318 s/step, time-to-go:16s\n",
      "step = 500/500, 0.318 s/step, time-to-go: 0s\n",
      "model saved as savedmodels/JCPexample6.pt\n",
      "Time to train: 159.2 seconds\n"
     ]
    }
   ],
   "source": [
    "start = time.time()\n",
    "DRLPDE_main.maintraining(param='JCPexample6' , use_cuda=True)\n",
    "\n",
    "end = time.time()\n",
    "print('Time to train: {:3.1f} seconds'.format(end - start))"
   ]
  },
  {
   "cell_type": "code",
   "execution_count": null,
   "metadata": {},
   "outputs": [],
   "source": [
    "import DRLPDE_postprocessing\n",
    "DRLPDE_postprocessing.postprocessing(param='JCPexample2',use_model='JCPexample1')"
   ]
  }
 ],
 "metadata": {
  "kernelspec": {
   "display_name": "Python 3",
   "language": "python",
   "name": "python3"
  },
  "language_info": {
   "codemirror_mode": {
    "name": "ipython",
    "version": 3
   },
   "file_extension": ".py",
   "mimetype": "text/x-python",
   "name": "python",
   "nbconvert_exporter": "python",
   "pygments_lexer": "ipython3",
   "version": "3.10.4"
  }
 },
 "nbformat": 4,
 "nbformat_minor": 4
}
