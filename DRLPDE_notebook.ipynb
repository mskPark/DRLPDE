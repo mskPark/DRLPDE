{
 "cells": [
  {
   "cell_type": "code",
   "execution_count": null,
   "metadata": {},
   "outputs": [
    {
     "name": "stdout",
     "output_type": "stream",
     "text": [
      "Pre-processing: Loading parameters from JCPexample5.py\n",
      "Initializing the model\n",
      "Training has begun\n",
      "No errors in first epoch: Training will continue\n",
      "step = 2000/20000, 0.132 s/step, time-to-go:2369s\n",
      "step = 4000/20000, 0.134 s/step, time-to-go:2140s\n",
      "step = 6000/20000, 0.135 s/step, time-to-go:1894s\n",
      "step = 8000/20000, 0.136 s/step, time-to-go:1630s\n",
      "step = 10000/20000, 0.135 s/step, time-to-go:1351s\n",
      "step = 12000/20000, 0.137 s/step, time-to-go:1093s\n",
      "step = 14000/20000, 0.136 s/step, time-to-go:816s\n",
      "step = 16000/20000, 0.136 s/step, time-to-go:543s\n",
      "step = 18000/20000, 0.135 s/step, time-to-go:271s\n",
      "step = 20000/20000, 0.135 s/step, time-to-go: 0s\n",
      "model saved as savedmodels/JCPexample5.pt\n",
      "Time to train: 2705.2 seconds\n"
     ]
    }
   ],
   "source": [
    "import DRLPDE_main\n",
    "import time\n",
    "\n",
    "start = time.time()\n",
    "DRLPDE_main.maintraining(param='JCPexample5' , use_cuda=True)\n",
    "\n",
    "end = time.time()\n",
    "print('Time to train: {:3.1f} seconds'.format(end - start))"
   ]
  },
  {
   "cell_type": "code",
   "execution_count": null,
   "metadata": {},
   "outputs": [],
   "source": [
    "import DRLPDE_postprocessing\n",
    "DRLPDE_postprocessing.postprocessing(param='JCPexample2',use_model='JCPexample1')"
   ]
  }
 ],
 "metadata": {
  "kernelspec": {
   "display_name": "Python 3",
   "language": "python",
   "name": "python3"
  },
  "language_info": {
   "codemirror_mode": {
    "name": "ipython",
    "version": 3
   },
   "file_extension": ".py",
   "mimetype": "text/x-python",
   "name": "python",
   "nbconvert_exporter": "python",
   "pygments_lexer": "ipython3",
   "version": "3.10.4"
  }
 },
 "nbformat": 4,
 "nbformat_minor": 4
}
