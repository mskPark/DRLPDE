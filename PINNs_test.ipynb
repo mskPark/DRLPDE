{
 "cells": [
  {
   "cell_type": "code",
   "execution_count": 1,
   "metadata": {},
   "outputs": [
    {
     "name": "stdout",
     "output_type": "stream",
     "text": [
      "No errors in first epoch\n",
      "Approx time: 2 minutes\n",
      "step = 100/1000, 0.158 s/step, time-to-go: 2 min\n",
      "step = 200/1000, 0.163 s/step, time-to-go: 2 min\n",
      "step = 300/1000, 0.165 s/step, time-to-go: 2 min\n",
      "step = 400/1000, 0.167 s/step, time-to-go: 2 min\n",
      "step = 500/1000, 0.169 s/step, time-to-go: 1 min\n",
      "step = 600/1000, 0.170 s/step, time-to-go: 1 min\n",
      "step = 700/1000, 0.177 s/step, time-to-go: 1 min\n",
      "step = 800/1000, 0.183 s/step, time-to-go: 1 min\n",
      "step = 900/1000, 0.185 s/step, time-to-go: 0 min\n",
      "step = 1000/1000, 0.185 s/step, time-to-go: 0 min\n",
      "Time to train:   3 minutes\n"
     ]
    }
   ],
   "source": [
    "import DRLPDE_autodiff\n",
    "import time\n",
    "\n",
    "start = time.time()\n",
    "model = DRLPDE_autodiff.maintraining(param='JCPexample6' , use_cuda=False)\n",
    "\n",
    "end = time.time()\n",
    "print('Time to train: {:3.0f} minutes'.format((end - start)/60))"
   ]
  },
  {
   "cell_type": "code",
   "execution_count": null,
   "metadata": {},
   "outputs": [
    {
     "data": {
      "text/plain": [
       "2063967.0"
      ]
     },
     "execution_count": 5,
     "metadata": {},
     "output_type": "execute_result"
    }
   ],
   "source": []
  },
  {
   "cell_type": "code",
   "execution_count": null,
   "metadata": {},
   "outputs": [],
   "source": []
  }
 ],
 "metadata": {
  "kernelspec": {
   "display_name": "Python 3.10.4 64-bit",
   "language": "python",
   "name": "python3"
  },
  "language_info": {
   "codemirror_mode": {
    "name": "ipython",
    "version": 3
   },
   "file_extension": ".py",
   "mimetype": "text/x-python",
   "name": "python",
   "nbconvert_exporter": "python",
   "pygments_lexer": "ipython3",
   "version": "3.10.6"
  },
  "orig_nbformat": 4,
  "vscode": {
   "interpreter": {
    "hash": "916dbcbb3f70747c44a77c7bcd40155683ae19c65e1c03b4aa3499c5328201f1"
   }
  }
 },
 "nbformat": 4,
 "nbformat_minor": 2
}
