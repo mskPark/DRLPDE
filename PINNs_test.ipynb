{
 "cells": [
  {
   "cell_type": "code",
   "execution_count": 1,
   "metadata": {},
   "outputs": [
    {
     "name": "stdout",
     "output_type": "stream",
     "text": [
      "No errors in first epoch\n",
      "Approx time: 5 minutes\n",
      "step = 100/500, 0.567 s/step, time-to-go: 4 min\n",
      "step = 200/500, 0.599 s/step, time-to-go: 3 min\n",
      "step = 300/500, 0.617 s/step, time-to-go: 2 min\n",
      "step = 400/500, 0.615 s/step, time-to-go: 1 min\n",
      "step = 500/500, 0.613 s/step, time-to-go: 0 min\n",
      "Time to train:   5 minutes\n"
     ]
    }
   ],
   "source": [
    "import DRLPDE_autodiff\n",
    "import time\n",
    "\n",
    "start = time.time()\n",
    "model = DRLPDE_autodiff.maintraining(param='JCPexample6' , use_cuda=False)\n",
    "\n",
    "end = time.time()\n",
    "print('Time to train: {:3.0f} minutes'.format((end - start)/60))"
   ]
  },
  {
   "cell_type": "code",
   "execution_count": null,
   "metadata": {},
   "outputs": [],
   "source": []
  }
 ],
 "metadata": {
  "kernelspec": {
   "display_name": "Python 3.10.4 64-bit",
   "language": "python",
   "name": "python3"
  },
  "language_info": {
   "codemirror_mode": {
    "name": "ipython",
    "version": 3
   },
   "file_extension": ".py",
   "mimetype": "text/x-python",
   "name": "python",
   "nbconvert_exporter": "python",
   "pygments_lexer": "ipython3",
   "version": "3.10.4"
  },
  "orig_nbformat": 4,
  "vscode": {
   "interpreter": {
    "hash": "916dbcbb3f70747c44a77c7bcd40155683ae19c65e1c03b4aa3499c5328201f1"
   }
  }
 },
 "nbformat": 4,
 "nbformat_minor": 2
}
