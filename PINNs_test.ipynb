{
 "cells": [
  {
   "cell_type": "code",
   "execution_count": 1,
   "metadata": {},
   "outputs": [
    {
     "name": "stdout",
     "output_type": "stream",
     "text": [
      "No errors in first epoch\n",
      "Approx time: 29 minutes\n",
      "step = 100/1000, 0.143 s/step, time-to-go: 2 min\n",
      "step = 200/1000, 0.135 s/step, time-to-go: 2 min\n",
      "step = 300/1000, 0.132 s/step, time-to-go: 2 min\n",
      "step = 400/1000, 0.131 s/step, time-to-go: 1 min\n",
      "step = 500/1000, 0.131 s/step, time-to-go: 1 min\n",
      "step = 600/1000, 0.130 s/step, time-to-go: 1 min\n",
      "step = 700/1000, 0.130 s/step, time-to-go: 1 min\n",
      "step = 800/1000, 0.130 s/step, time-to-go: 0 min\n",
      "step = 900/1000, 0.130 s/step, time-to-go: 0 min\n",
      "step = 1000/1000, 0.131 s/step, time-to-go: 0 min\n",
      "Time to train:   2 minutes\n"
     ]
    }
   ],
   "source": [
    "import DRLPDE_autodiff\n",
    "import time\n",
    "\n",
    "start = time.time()\n",
    "model = DRLPDE_autodiff.maintraining(param='JCPexample6' , use_cuda=True)\n",
    "\n",
    "end = time.time()\n",
    "print('Time to train: {:3.0f} minutes'.format((end - start)/60))"
   ]
  },
  {
   "cell_type": "code",
   "execution_count": null,
   "metadata": {},
   "outputs": [],
   "source": []
  }
 ],
 "metadata": {
  "kernelspec": {
   "display_name": "Python 3.10.4 64-bit",
   "language": "python",
   "name": "python3"
  },
  "language_info": {
   "codemirror_mode": {
    "name": "ipython",
    "version": 3
   },
   "file_extension": ".py",
   "mimetype": "text/x-python",
   "name": "python",
   "nbconvert_exporter": "python",
   "pygments_lexer": "ipython3",
   "version": "3.10.4"
  },
  "orig_nbformat": 4,
  "vscode": {
   "interpreter": {
    "hash": "06d3ad103a38a5e5980b0a2ddf222334b9b3630c94a7e75a8e45e8afe280f469"
   }
  }
 },
 "nbformat": 4,
 "nbformat_minor": 2
}
