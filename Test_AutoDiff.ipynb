{
 "cells": [
  {
   "cell_type": "markdown",
   "metadata": {},
   "source": [
    "## Testing Automatic Differentiation of Derivative Operators:\n",
    "#### Gradient, Jacobian, Divergence, Laplacian, Curl"
   ]
  },
  {
   "cell_type": "code",
   "execution_count": 1,
   "metadata": {},
   "outputs": [],
   "source": [
    "import torch\n",
    "import DRLPDE_nn"
   ]
  },
  {
   "cell_type": "code",
   "execution_count": 2,
   "metadata": {},
   "outputs": [],
   "source": [
    "### Initial Variables\n",
    "num_points = 5\n",
    "dim_in = 3\n",
    "dim_out = 2\n",
    "\n",
    "x = torch.randn(num_points, dim_in).requires_grad_(True)\n",
    "y = torch.empty(num_points, dim_out)"
   ]
  },
  {
   "cell_type": "code",
   "execution_count": 3,
   "metadata": {},
   "outputs": [],
   "source": [
    "### [y0, y1] = F(x0, x1, t)\n",
    "\n",
    "y[:,0] = torch.cos(x[:,0]) * torch.sin(x[:,1]) * torch.exp(-2*x[:,2])\n",
    "y[:,1] = -torch.sin(x[:,0]) * torch.cos(x[:,1]) * torch.exp(-2*x[:,2])\n",
    "p = (torch.cos(2*x[:,0]) + torch.cos(2*x[:,1]) )*torch.exp(-4*x[:,2])/4"
   ]
  },
  {
   "cell_type": "code",
   "execution_count": 4,
   "metadata": {},
   "outputs": [],
   "source": [
    "### Check Jacobian\n",
    "J = DRLPDE_nn.jacobian(y,x)\n",
    "dy = torch.empty(num_points, dim_out, dim_in)\n",
    "\n",
    "dy[:,0,0] = -torch.sin(x[:,0]) * torch.sin(x[:,1]) * torch.exp(-2*x[:,2])\n",
    "dy[:,0,1] =  torch.cos(x[:,0]) * torch.cos(x[:,1]) * torch.exp(-2*x[:,2])\n",
    "dy[:,0,2] =  -2*torch.cos(x[:,0]) * torch.sin(x[:,1]) * torch.exp(-2*x[:,2])\n",
    "\n",
    "dy[:,1,0] = -torch.cos(x[:,0]) * torch.cos(x[:,1]) * torch.exp(-2*x[:,2])\n",
    "dy[:,1,1] = torch.sin(x[:,0]) * torch.sin(x[:,1]) * torch.exp(-2*x[:,2])\n",
    "dy[:,1,2] = 2*torch.sin(x[:,0]) * torch.cos(x[:,1]) * torch.exp(-2*x[:,2])"
   ]
  },
  {
   "cell_type": "code",
   "execution_count": 5,
   "metadata": {},
   "outputs": [],
   "source": [
    "A = DRLPDE_nn.advection(y,x,J)\n",
    "Ay = torch.empty(num_points, dim_out)\n",
    "\n",
    "Ay[:,0] = - torch.cos(x[:,0]) * torch.sin(x[:,0]) * torch.exp(-4*x[:,2])\n",
    "Ay[:,1] = - torch.cos(x[:,1]) * torch.sin(x[:,1]) * torch.exp(-4*x[:,2])"
   ]
  },
  {
   "cell_type": "code",
   "execution_count": 6,
   "metadata": {},
   "outputs": [],
   "source": [
    "L = DRLPDE_nn.laplace(y,x,J)\n",
    "Ly = torch.empty(num_points, dim_out)\n",
    "\n",
    "Ly[:,0] = -2*torch.cos(x[:,0])*torch.sin(x[:,1])*torch.exp(-2*x[:,2])\n",
    "Ly[:,1] = 2*torch.sin(x[:,0])*torch.cos(x[:,1])*torch.exp(-2*x[:,2])\n"
   ]
  },
  {
   "cell_type": "code",
   "execution_count": 7,
   "metadata": {},
   "outputs": [
    {
     "data": {
      "text/plain": [
       "tensor([[5.9605e-08, 0.0000e+00],\n",
       "        [0.0000e+00, 0.0000e+00],\n",
       "        [0.0000e+00, 1.1921e-07],\n",
       "        [0.0000e+00, 0.0000e+00],\n",
       "        [0.0000e+00, 0.0000e+00]], grad_fn=<SubBackward0>)"
      ]
     },
     "execution_count": 7,
     "metadata": {},
     "output_type": "execute_result"
    }
   ],
   "source": [
    "L - Ly"
   ]
  },
  {
   "cell_type": "code",
   "execution_count": null,
   "metadata": {},
   "outputs": [],
   "source": []
  },
  {
   "cell_type": "code",
   "execution_count": 71,
   "metadata": {},
   "outputs": [],
   "source": [
    "lap = torch.empty(x.size(0), y.size(1))\n",
    "for ii in range(y.size(1)):\n",
    "    grad = J[:,ii,:y.size(1)]\n",
    "    lap[:,ii] = DRLPDE_nn.divergence(grad,x)"
   ]
  },
  {
   "cell_type": "code",
   "execution_count": 40,
   "metadata": {},
   "outputs": [
    {
     "data": {
      "text/plain": [
       "tensor([[ 1.0412e+01, -1.8279e+01],\n",
       "        [-1.3303e-01, -9.5216e-03],\n",
       "        [ 7.6546e+00, -4.1802e+00],\n",
       "        [ 4.8353e-01, -6.7343e-01],\n",
       "        [-4.2685e+00,  6.6426e+00]], grad_fn=<CopySlices>)"
      ]
     },
     "execution_count": 40,
     "metadata": {},
     "output_type": "execute_result"
    }
   ],
   "source": [
    "div = torch.empty(x.size(0))\n",
    "for ii in range(y.size(1)):\n",
    "    div += DRLPDE_nn.gradient(y[:,ii],x)[:,ii]"
   ]
  },
  {
   "cell_type": "code",
   "execution_count": 72,
   "metadata": {},
   "outputs": [
    {
     "data": {
      "text/plain": [
       "tensor([[ 3.5476e+00,  1.3413e+01,  1.0412e+01],\n",
       "        [ 2.9693e-02, -1.0664e-02, -1.3303e-01],\n",
       "        [ 9.0713e-01,  8.8183e+00,  7.6546e+00],\n",
       "        [ 2.6333e-01,  3.0914e-01,  4.8353e-01],\n",
       "        [ 2.0782e+00,  3.4110e+00, -4.2685e+00]], grad_fn=<SliceBackward0>)"
      ]
     },
     "execution_count": 72,
     "metadata": {},
     "output_type": "execute_result"
    }
   ],
   "source": [
    "J[:,0,:]"
   ]
  },
  {
   "cell_type": "code",
   "execution_count": 41,
   "metadata": {},
   "outputs": [
    {
     "data": {
      "text/plain": [
       "tensor([[-1.2023e+02, -1.0813e+30],\n",
       "        [-2.6403e-01,  1.9894e-02],\n",
       "        [-2.0666e+33, -1.0813e+30],\n",
       "        [ 7.9930e-01,  1.5103e+00],\n",
       "        [ 7.2271e+00, -2.7467e+01]], grad_fn=<SubBackward0>)"
      ]
     },
     "execution_count": 41,
     "metadata": {},
     "output_type": "execute_result"
    }
   ],
   "source": [
    "time_deriv + A - L"
   ]
  },
  {
   "cell_type": "code",
   "execution_count": 43,
   "metadata": {},
   "outputs": [
    {
     "data": {
      "text/plain": [
       "tensor([[-1.4106e+02,  1.0225e+02],\n",
       "        [ 2.0258e-03,  8.5067e-04],\n",
       "        [-2.1903e+01,  3.5646e+01],\n",
       "        [-1.6776e-01,  1.6341e-01],\n",
       "        [ 1.5764e+01, -1.4182e+01]], grad_fn=<SliceBackward0>)"
      ]
     },
     "execution_count": 43,
     "metadata": {},
     "output_type": "execute_result"
    }
   ],
   "source": [
    "DRLPDE_nn.gradient(p,x)[:,:2]"
   ]
  },
  {
   "cell_type": "code",
   "execution_count": 24,
   "metadata": {},
   "outputs": [
    {
     "data": {
      "text/plain": [
       "tensor([[  3.5476,  13.4128,  10.4124],\n",
       "        [-13.4128,  -3.5476,  18.2793]], grad_fn=<SliceBackward0>)"
      ]
     },
     "execution_count": 24,
     "metadata": {},
     "output_type": "execute_result"
    }
   ],
   "source": [
    "J[0,:,:]"
   ]
  },
  {
   "cell_type": "code",
   "execution_count": 25,
   "metadata": {},
   "outputs": [],
   "source": [
    "dy = torch.empty(num_points, dim_out, dim_in)\n",
    "\n",
    "dy[:,0,0] = -torch.sin(x[:,0]) * torch.sin(x[:,1]) * torch.exp(-2*x[:,2])\n",
    "dy[:,0,1] =  torch.cos(x[:,0]) * torch.cos(x[:,1]) * torch.exp(-2*x[:,2])\n",
    "dy[:,0,2] =  -2*torch.cos(x[:,0]) * torch.sin(x[:,1]) * torch.exp(-2*x[:,2])\n",
    "\n",
    "dy[:,1,0] = torch.cos(x[:,0]) * torch.cos(x[:,1]) * torch.exp(-2*x[:,2])\n",
    "dy[:,1,1] = -torch.sin(x[:,0]) * torch.sin(x[:,1]) * torch.exp(-2*x[:,2])\n",
    "dy[:,1,2] = 2*torch.sin(x[:,0]) * torch.cos(x[:,1]) * torch.exp(-2*x[:,2])"
   ]
  },
  {
   "cell_type": "code",
   "execution_count": 26,
   "metadata": {},
   "outputs": [
    {
     "data": {
      "text/plain": [
       "tensor([[ 3.5476e+00,  1.3413e+01,  1.0412e+01],\n",
       "        [ 2.9693e-02, -1.0664e-02, -1.3303e-01],\n",
       "        [ 9.0713e-01,  8.8183e+00,  7.6546e+00],\n",
       "        [ 2.6333e-01,  3.0914e-01,  4.8353e-01],\n",
       "        [ 2.0782e+00,  3.4110e+00, -4.2685e+00]], grad_fn=<AddBackward0>)"
      ]
     },
     "execution_count": 26,
     "metadata": {},
     "output_type": "execute_result"
    }
   ],
   "source": [
    "DRLPDE_nn.gradient(y[:,0], x)"
   ]
  },
  {
   "cell_type": "code",
   "execution_count": 27,
   "metadata": {},
   "outputs": [
    {
     "data": {
      "text/plain": [
       "tensor([[ 3.5476e+00,  1.3413e+01,  1.0412e+01],\n",
       "        [ 2.9693e-02, -1.0664e-02, -1.3303e-01],\n",
       "        [ 9.0713e-01,  8.8183e+00,  7.6546e+00],\n",
       "        [ 2.6333e-01,  3.0914e-01,  4.8353e-01],\n",
       "        [ 2.0782e+00,  3.4110e+00, -4.2685e+00]], grad_fn=<SliceBackward0>)"
      ]
     },
     "execution_count": 27,
     "metadata": {},
     "output_type": "execute_result"
    }
   ],
   "source": [
    "dy[:,0,:]"
   ]
  },
  {
   "cell_type": "code",
   "execution_count": null,
   "metadata": {},
   "outputs": [],
   "source": []
  },
  {
   "cell_type": "code",
   "execution_count": 30,
   "metadata": {},
   "outputs": [],
   "source": []
  },
  {
   "cell_type": "code",
   "execution_count": 61,
   "metadata": {},
   "outputs": [
    {
     "data": {
      "text/plain": [
       "10"
      ]
     },
     "execution_count": 61,
     "metadata": {},
     "output_type": "execute_result"
    }
   ],
   "source": []
  },
  {
   "cell_type": "code",
   "execution_count": 51,
   "metadata": {},
   "outputs": [],
   "source": []
  },
  {
   "cell_type": "code",
   "execution_count": 53,
   "metadata": {},
   "outputs": [],
   "source": []
  },
  {
   "cell_type": "code",
   "execution_count": 52,
   "metadata": {},
   "outputs": [
    {
     "data": {
      "text/plain": [
       "torch.Size([10, 3, 4])"
      ]
     },
     "execution_count": 52,
     "metadata": {},
     "output_type": "execute_result"
    }
   ],
   "source": []
  },
  {
   "cell_type": "code",
   "execution_count": 16,
   "metadata": {},
   "outputs": [
    {
     "data": {
      "text/plain": [
       "tensor([1., 1., 1., 1., 1., 1., 1., 1., 1., 1.])"
      ]
     },
     "execution_count": 16,
     "metadata": {},
     "output_type": "execute_result"
    }
   ],
   "source": []
  },
  {
   "cell_type": "code",
   "execution_count": null,
   "metadata": {},
   "outputs": [],
   "source": []
  }
 ],
 "metadata": {
  "kernelspec": {
   "display_name": "Python 3.10.4 64-bit",
   "language": "python",
   "name": "python3"
  },
  "language_info": {
   "codemirror_mode": {
    "name": "ipython",
    "version": 3
   },
   "file_extension": ".py",
   "mimetype": "text/x-python",
   "name": "python",
   "nbconvert_exporter": "python",
   "pygments_lexer": "ipython3",
   "version": "3.10.6"
  },
  "vscode": {
   "interpreter": {
    "hash": "916dbcbb3f70747c44a77c7bcd40155683ae19c65e1c03b4aa3499c5328201f1"
   }
  }
 },
 "nbformat": 4,
 "nbformat_minor": 4
}
