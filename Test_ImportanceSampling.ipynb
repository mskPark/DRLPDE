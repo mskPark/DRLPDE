{
 "cells": [
  {
   "cell_type": "markdown",
   "metadata": {},
   "source": [
    "## This document is to test importance sampling using rejection sampling\n",
    "\n",
    "## TODO: Choose from ghost walkers with largest local loss\n",
    "\n",
    "Consider the sampling of points in our deep learning method for solving PDEs\n",
    "  - We first define a bounding box that contains our domain\n",
    "  - We define the domain through signed distance functions\n",
    "  - We sample the domain by sampling uniformly points in the bounding box, and then rejecting points outside the domain\n",
    "    + There might be a better way to do this. Right now we have to pass each point through every signed distance function\n",
    "\n",
    "Rejection sampling for importance sampling:\n",
    "  - At each point, there is some loss that the neural network is making.\n",
    "  - This loss can be used as a rating for how important the region is.\n",
    "  - Thus, the loss is proportional to the probability density that we would like to sample from\n",
    "  - Use rejection sampling. For each point, sample uniformly a number from 0 to the maximum of the loss (the sample max should work fine)\n",
    "  - If sampled value is greater than the loss at that point, then resample the point.\n",
    "\n",
    "Metropolis-Hastings for importance sampling:\n",
    "  - Original Metroplis-Hastings picks a random direction to move\n",
    "  - To accept the move, take the ratio between the probability density at the new point and the old point\n",
    "  - If the ratio is greater than 1, accept the step\n",
    "  - If the ratio is less than 1, still a chance to accept: sample uniform and if ratio is bigger, then accept\n",
    "  - If we use ghost walkers, we are going to be moving in the current fluid direction. May be necessary to use Girsanov theorem\n",
    "  - Maybe can do better: We know the average at the old location and the values at the ghost walker locations. Find the ghost walker with the biggest difference and go there.\n"
   ]
  },
  {
   "cell_type": "code",
   "execution_count": 1,
   "metadata": {},
   "outputs": [],
   "source": [
    "import numpy as np\n",
    "import torch\n",
    "import time\n",
    "import matplotlib.pyplot as plt\n",
    "import torch.nn as nn\n",
    "import torch.optim as optim\n",
    "import DRLPDE_nn\n",
    "import DRLPDE_functions.DefineDomain\n",
    "\n",
    "torch.set_default_dtype(torch.float64)\n",
    "\n",
    "import importlib\n",
    "param = 'JCPexample6'\n",
    "DRLPDE_param = importlib.import_module(\".\" + param, package='examples')\n",
    "\n",
    "DRLPDE_param_solver = importlib.import_module('DRLPDE_param_solver')\n",
    "    \n",
    "### Use cuda\n",
    "dev = torch.device(\"cuda:0\" if torch.cuda.is_available else \"cpu\")\n",
    "\n",
    "boundingbox = DRLPDE_param.boundingbox\n",
    "list_of_dirichlet_boundaries = DRLPDE_param.list_of_dirichlet_boundaries\n",
    "list_of_periodic_boundaries = []\n",
    "pde_type = DRLPDE_param.pde_type\n",
    "is_unsteady = DRLPDE_param.is_unsteady\n",
    "output_dim = DRLPDE_param.output_dim\n",
    "\n",
    "there_are_boundaries = bool(list_of_dirichlet_boundaries)\n",
    "\n",
    "nn_param = {'depth': DRLPDE_param_solver.nn_depth,\n",
    "            'width': DRLPDE_param_solver.nn_width,\n",
    "            'x_dim':DRLPDE_param.x_dim,\n",
    "            'is_unsteady':DRLPDE_param.is_unsteady,\n",
    "            'output_dim':DRLPDE_param.output_dim\n",
    "            }\n",
    "\n",
    "### Import functions\n",
    "if is_unsteady:\n",
    "    # Include time range in bounding box\n",
    "    boundingbox.append(DRLPDE_param.time_range)\n",
    "    init_con = DRLPDE_param.init_con\n",
    "\n",
    "### Organize parameters related to deep learning solver\n",
    "num_walkers = 10**5\n",
    "num_batch = 10**4\n",
    "update_walkers_every = 1\n",
    "\n",
    "num_bdry = DRLPDE_param_solver.num_bdry\n",
    "num_batch_bdry = DRLPDE_param_solver.num_batch_bdry\n",
    "\n",
    "num_epoch = DRLPDE_param_solver.num_epoch\n",
    "update_print_every = DRLPDE_param_solver.update_print_every\n",
    "\n",
    "lambda_bell = DRLPDE_param_solver.lambda_bell\n",
    "lambda_bdry = DRLPDE_param_solver.lambda_bdry\n",
    "\n",
    "if is_unsteady:\n",
    "    num_init = DRLPDE_param_solver.num_init\n",
    "    num_batch_init = DRLPDE_param_solver.num_batch_init\n",
    "    lambda_init = DRLPDE_param_solver.lambda_init\n",
    "\n",
    "################ Preparing the model #################\n",
    "\n",
    "### Make boundaries defining the domain\n",
    "Domain = DRLPDE_functions.DefineDomain.Domain(is_unsteady, boundingbox, \n",
    "                                                list_of_dirichlet_boundaries,\n",
    "                                                list_of_periodic_boundaries)\n",
    "\n",
    "### Initialize the Model\n",
    "MyNeuralNetwork = DRLPDE_nn.IncompressibleNN\n",
    "\n",
    "#model = MyNeuralNetwork(**nn_param).to(dev)\n",
    "model = MyNeuralNetwork(**nn_param)\n",
    "mseloss = nn.MSELoss(reduction = 'mean')\n",
    "optimizer = optim.Adam(model.parameters(), lr=DRLPDE_param_solver.learning_rate, betas=DRLPDE_param_solver.adam_beta, weight_decay=DRLPDE_param_solver.weight_decay)\n",
    "\n",
    "InPoints = DRLPDE_functions.DefineDomain.Walker_Data(num_walkers, boundingbox, Domain.boundaries)\n",
    "InPoints_batch = torch.utils.data.DataLoader(InPoints, batch_size=num_batch, shuffle=True)\n",
    "\n",
    "if there_are_boundaries:\n",
    "    BPoints = DRLPDE_functions.DefineDomain.Boundary_Data(num_bdry, boundingbox, Domain.boundaries, is_unsteady)\n",
    "    BPoints_batch = torch.utils.data.DataLoader(BPoints, batch_size=num_batch_bdry, shuffle=True)\n",
    "\n",
    "if is_unsteady:\n",
    "    InitPoints = DRLPDE_functions.DefineDomain.Initial_Data(num_init, boundingbox, Domain.boundaries, init_con)\n",
    "    InitPoints_batch = torch.utils.data.DataLoader(InitPoints, batch_size=num_batch_init, shuffle=True)\n",
    "\n",
    "def train_interior(Batch, model, max_loss, do_resample=False):\n",
    "\n",
    "    ### Indices to resample\n",
    "    ### dtype might be unnecessarily big\n",
    "    resample_index = torch.tensor([], dtype=torch.int64)\n",
    "\n",
    "    for X, index in Batch:\n",
    "        X.requires_grad_(True)\n",
    "        #X.to(dev).requires_grad_(True)\n",
    "        U = model(X)\n",
    "\n",
    "        Target = DRLPDE_nn.autodiff_vB(U, X)\n",
    "\n",
    "        loss = torch.norm(Target, dim=1)\n",
    "\n",
    "        if do_resample:\n",
    "            ### Rejection sampling ###\n",
    "            # generate uniform( max_loss )\n",
    "            # Compare sample < uniform\n",
    "            # Then resample\n",
    "            check_sample = max_loss*torch.rand(X.size(0), device=X.device)\n",
    "            resample_index = torch.cat( (resample_index, index[loss < check_sample]))\n",
    "\n",
    "            ### Recalculate max loss\n",
    "            max_loss = torch.max( max_loss, torch.sqrt( torch.max(loss).data ))\n",
    "\n",
    "        loss = torch.mean( loss )\n",
    "\n",
    "    return loss, max_loss, resample_index\n",
    "\n"
   ]
  },
  {
   "cell_type": "code",
   "execution_count": 3,
   "metadata": {},
   "outputs": [
    {
     "name": "stdout",
     "output_type": "stream",
     "text": [
      "No errors in first epoch\n",
      "Approx time: 54 minutes\n",
      "step = 100/1000, 3.608 s/step, time-to-go:54 min\n",
      "step = 200/1000, 3.622 s/step, time-to-go:48 min\n",
      "step = 300/1000, 3.616 s/step, time-to-go:42 min\n"
     ]
    },
    {
     "ename": "KeyboardInterrupt",
     "evalue": "",
     "output_type": "error",
     "traceback": [
      "\u001b[0;31m---------------------------------------------------------------------------\u001b[0m",
      "\u001b[0;31mKeyboardInterrupt\u001b[0m                         Traceback (most recent call last)",
      "\u001b[1;32m/home/mskpark/Research/DRLPDE/Test_ImportanceSampling.ipynb Cell 3\u001b[0m in \u001b[0;36m<cell line: 48>\u001b[0;34m()\u001b[0m\n\u001b[1;32m     <a href='vscode-notebook-cell:/home/mskpark/Research/DRLPDE/Test_ImportanceSampling.ipynb#W2sZmlsZQ%3D%3D?line=47'>48</a>\u001b[0m \u001b[39mfor\u001b[39;00m step \u001b[39min\u001b[39;00m \u001b[39mrange\u001b[39m(num_epoch):\n\u001b[1;32m     <a href='vscode-notebook-cell:/home/mskpark/Research/DRLPDE/Test_ImportanceSampling.ipynb#W2sZmlsZQ%3D%3D?line=49'>50</a>\u001b[0m     do_resample \u001b[39m=\u001b[39m (step\u001b[39m+\u001b[39m\u001b[39m1\u001b[39m) \u001b[39m%\u001b[39m update_walkers_every \u001b[39m==\u001b[39m \u001b[39m0\u001b[39m \n\u001b[0;32m---> <a href='vscode-notebook-cell:/home/mskpark/Research/DRLPDE/Test_ImportanceSampling.ipynb#W2sZmlsZQ%3D%3D?line=50'>51</a>\u001b[0m     loss, max_loss, resample_index \u001b[39m=\u001b[39m train_interior(InPoints_batch, model, max_loss, do_resample)\n\u001b[1;32m     <a href='vscode-notebook-cell:/home/mskpark/Research/DRLPDE/Test_ImportanceSampling.ipynb#W2sZmlsZQ%3D%3D?line=52'>53</a>\u001b[0m     loss\u001b[39m.\u001b[39mbackward\n\u001b[1;32m     <a href='vscode-notebook-cell:/home/mskpark/Research/DRLPDE/Test_ImportanceSampling.ipynb#W2sZmlsZQ%3D%3D?line=54'>55</a>\u001b[0m     \u001b[39m# Boundary Points\u001b[39;00m\n",
      "\u001b[1;32m/home/mskpark/Research/DRLPDE/Test_ImportanceSampling.ipynb Cell 3\u001b[0m in \u001b[0;36mtrain_interior\u001b[0;34m(Batch, model, max_loss, do_resample)\u001b[0m\n\u001b[1;32m     <a href='vscode-notebook-cell:/home/mskpark/Research/DRLPDE/Test_ImportanceSampling.ipynb#W2sZmlsZQ%3D%3D?line=95'>96</a>\u001b[0m \u001b[39m#X.to(dev).requires_grad_(True)\u001b[39;00m\n\u001b[1;32m     <a href='vscode-notebook-cell:/home/mskpark/Research/DRLPDE/Test_ImportanceSampling.ipynb#W2sZmlsZQ%3D%3D?line=96'>97</a>\u001b[0m U \u001b[39m=\u001b[39m model(X)\n\u001b[0;32m---> <a href='vscode-notebook-cell:/home/mskpark/Research/DRLPDE/Test_ImportanceSampling.ipynb#W2sZmlsZQ%3D%3D?line=98'>99</a>\u001b[0m Target \u001b[39m=\u001b[39m DRLPDE_nn\u001b[39m.\u001b[39;49mautodiff_vB(U, X)\n\u001b[1;32m    <a href='vscode-notebook-cell:/home/mskpark/Research/DRLPDE/Test_ImportanceSampling.ipynb#W2sZmlsZQ%3D%3D?line=100'>101</a>\u001b[0m loss \u001b[39m=\u001b[39m torch\u001b[39m.\u001b[39mnorm(Target, dim\u001b[39m=\u001b[39m\u001b[39m1\u001b[39m)\n\u001b[1;32m    <a href='vscode-notebook-cell:/home/mskpark/Research/DRLPDE/Test_ImportanceSampling.ipynb#W2sZmlsZQ%3D%3D?line=102'>103</a>\u001b[0m \u001b[39mif\u001b[39;00m do_resample:\n\u001b[1;32m    <a href='vscode-notebook-cell:/home/mskpark/Research/DRLPDE/Test_ImportanceSampling.ipynb#W2sZmlsZQ%3D%3D?line=103'>104</a>\u001b[0m     \u001b[39m### Rejection sampling ###\u001b[39;00m\n\u001b[1;32m    <a href='vscode-notebook-cell:/home/mskpark/Research/DRLPDE/Test_ImportanceSampling.ipynb#W2sZmlsZQ%3D%3D?line=104'>105</a>\u001b[0m     \u001b[39m# generate uniform( max_loss )\u001b[39;00m\n\u001b[1;32m    <a href='vscode-notebook-cell:/home/mskpark/Research/DRLPDE/Test_ImportanceSampling.ipynb#W2sZmlsZQ%3D%3D?line=105'>106</a>\u001b[0m     \u001b[39m# Compare sample < uniform\u001b[39;00m\n\u001b[1;32m    <a href='vscode-notebook-cell:/home/mskpark/Research/DRLPDE/Test_ImportanceSampling.ipynb#W2sZmlsZQ%3D%3D?line=106'>107</a>\u001b[0m     \u001b[39m# Then resample\u001b[39;00m\n",
      "File \u001b[0;32m~/Research/DRLPDE/DRLPDE_nn.py:67\u001b[0m, in \u001b[0;36mautodiff_vB\u001b[0;34m(y, x)\u001b[0m\n\u001b[1;32m     61\u001b[0m \u001b[39mdef\u001b[39;00m \u001b[39mautodiff_vB\u001b[39m(y,x):\n\u001b[1;32m     62\u001b[0m     \u001b[39m### dim_in\u001b[39;00m\n\u001b[1;32m     63\u001b[0m     \u001b[39m### dim_out\u001b[39;00m\n\u001b[1;32m     64\u001b[0m     \u001b[39m### Update derivative operators to allow for time derivative\u001b[39;00m\n\u001b[1;32m     66\u001b[0m     J \u001b[39m=\u001b[39m jacobian(y,x)\n\u001b[0;32m---> 67\u001b[0m     L \u001b[39m=\u001b[39m laplace(y,x, J)\n\u001b[1;32m     68\u001b[0m     A \u001b[39m=\u001b[39m advection(y,x, J)\n\u001b[1;32m     69\u001b[0m     T \u001b[39m=\u001b[39m J[:,:,\u001b[39m-\u001b[39m\u001b[39m1\u001b[39m]\n",
      "File \u001b[0;32m~/Research/DRLPDE/DRLPDE_nn.py:51\u001b[0m, in \u001b[0;36mlaplace\u001b[0;34m(y, x, J)\u001b[0m\n\u001b[1;32m     49\u001b[0m \u001b[39mfor\u001b[39;00m ii \u001b[39min\u001b[39;00m \u001b[39mrange\u001b[39m(y\u001b[39m.\u001b[39msize(\u001b[39m1\u001b[39m)):\n\u001b[1;32m     50\u001b[0m     grad \u001b[39m=\u001b[39m J[:,ii,:y\u001b[39m.\u001b[39msize(\u001b[39m1\u001b[39m)]\n\u001b[0;32m---> 51\u001b[0m     lap[:,ii] \u001b[39m=\u001b[39m divergence(grad,x)\n\u001b[1;32m     52\u001b[0m \u001b[39mreturn\u001b[39;00m lap\n",
      "File \u001b[0;32m~/Research/DRLPDE/DRLPDE_nn.py:43\u001b[0m, in \u001b[0;36mdivergence\u001b[0;34m(y, x)\u001b[0m\n\u001b[1;32m     41\u001b[0m div \u001b[39m=\u001b[39m torch\u001b[39m.\u001b[39mempty(x\u001b[39m.\u001b[39msize(\u001b[39m0\u001b[39m), device\u001b[39m=\u001b[39mx\u001b[39m.\u001b[39mdevice)\n\u001b[1;32m     42\u001b[0m \u001b[39mfor\u001b[39;00m ii \u001b[39min\u001b[39;00m \u001b[39mrange\u001b[39m(y\u001b[39m.\u001b[39msize(\u001b[39m1\u001b[39m)):\n\u001b[0;32m---> 43\u001b[0m     div \u001b[39m+\u001b[39m\u001b[39m=\u001b[39m gradient(y[:,ii],x)[:,ii]\n\u001b[1;32m     44\u001b[0m \u001b[39mreturn\u001b[39;00m div\n",
      "File \u001b[0;32m~/Research/DRLPDE/DRLPDE_nn.py:19\u001b[0m, in \u001b[0;36mgradient\u001b[0;34m(y, x)\u001b[0m\n\u001b[1;32m     11\u001b[0m \u001b[39mdef\u001b[39;00m \u001b[39mgradient\u001b[39m(y,x):\n\u001b[1;32m     12\u001b[0m     \u001b[39m### Calculates the gradient\u001b[39;00m\n\u001b[1;32m     13\u001b[0m     \u001b[39m### x - torch vector (Npoints x dim_in)\u001b[39;00m\n\u001b[0;32m   (...)\u001b[0m\n\u001b[1;32m     16\u001b[0m     \u001b[39m###\u001b[39;00m\n\u001b[1;32m     17\u001b[0m     \u001b[39m### Careful: If y vector, then gradient will be sum of gradients of y_i\u001b[39;00m\n\u001b[0;32m---> 19\u001b[0m     gradient \u001b[39m=\u001b[39m torch\u001b[39m.\u001b[39;49mautograd\u001b[39m.\u001b[39;49mgrad(y, x, grad_outputs\u001b[39m=\u001b[39;49mtorch\u001b[39m.\u001b[39;49mones_like(y), create_graph\u001b[39m=\u001b[39;49m\u001b[39mTrue\u001b[39;49;00m)[\u001b[39m0\u001b[39m]\n\u001b[1;32m     20\u001b[0m     \u001b[39mreturn\u001b[39;00m gradient\n",
      "File \u001b[0;32m~/.local/lib/python3.10/site-packages/torch/autograd/__init__.py:276\u001b[0m, in \u001b[0;36mgrad\u001b[0;34m(outputs, inputs, grad_outputs, retain_graph, create_graph, only_inputs, allow_unused, is_grads_batched)\u001b[0m\n\u001b[1;32m    274\u001b[0m     \u001b[39mreturn\u001b[39;00m _vmap_internals\u001b[39m.\u001b[39m_vmap(vjp, \u001b[39m0\u001b[39m, \u001b[39m0\u001b[39m, allow_none_pass_through\u001b[39m=\u001b[39m\u001b[39mTrue\u001b[39;00m)(grad_outputs_)\n\u001b[1;32m    275\u001b[0m \u001b[39melse\u001b[39;00m:\n\u001b[0;32m--> 276\u001b[0m     \u001b[39mreturn\u001b[39;00m Variable\u001b[39m.\u001b[39;49m_execution_engine\u001b[39m.\u001b[39;49mrun_backward(  \u001b[39m# Calls into the C++ engine to run the backward pass\u001b[39;49;00m\n\u001b[1;32m    277\u001b[0m         t_outputs, grad_outputs_, retain_graph, create_graph, t_inputs,\n\u001b[1;32m    278\u001b[0m         allow_unused, accumulate_grad\u001b[39m=\u001b[39;49m\u001b[39mFalse\u001b[39;49;00m)\n",
      "\u001b[0;31mKeyboardInterrupt\u001b[0m: "
     ]
    }
   ],
   "source": [
    "###\n",
    "### Importance Sampling: Rejection and Metropolis-Hastings\n",
    "###\n",
    "\n",
    "### TODO: Make sure to save max error throughout batches\n",
    "### Calculate max and min error - Maybe get an idea of distribution\n",
    "### \n",
    "\n",
    "#start_time = time.time()\n",
    "\n",
    "#ErrorTracker = torch.zeros(2, )\n",
    "\n",
    "# First step\n",
    "loss, max_loss, resample_index = train_interior(InPoints_batch, model, torch.tensor([100]))\n",
    "\n",
    "loss.backward\n",
    "\n",
    "# Boundary Points\n",
    "if there_are_boundaries:\n",
    "    for Xbdry, Ubtrue in BPoints_batch:\n",
    "        Xbdry = Xbdry.requires_grad_(True)\n",
    "        Ubtrue = Ubtrue.detach()\n",
    "\n",
    "        #Xbdry = Xbdry.to(dev).requires_grad_(True)\n",
    "        #Ubtrue = Ubtrue.to(dev).detach()\n",
    "        Ubdry = model(Xbdry)\n",
    "        loss = lambda_bdry*mseloss(Ubdry, Ubtrue)\n",
    "        loss.backward()\n",
    "\n",
    "# Initial Points\n",
    "    if is_unsteady:\n",
    "        for Xinit, Uinit_true in InitPoints_batch:\n",
    "            Xinit = Xinit.requires_grad_(True)\n",
    "            Uinit_true = Uinit_true.detach()\n",
    "            #Xinit = Xinit.to(dev).requires_grad_(True)\n",
    "            #Uinit_true = Uinit_true.to(dev).detach()\n",
    "            Uinit = model(Xinit)\n",
    "            loss = lambda_init*mseloss(Uinit, Uinit_true)\n",
    "            loss.backward()\n",
    "\n",
    "# Make optimization step\n",
    "optimizer.step()\n",
    "optimizer.zero_grad()\n",
    "\n",
    "print('No errors in first epoch')\n",
    "start_time = time.time()\n",
    "\n",
    "for step in range(num_epoch):\n",
    "\n",
    "    do_resample = (step+1) % update_walkers_every == 0 \n",
    "    loss, max_loss, resample_index = train_interior(InPoints_batch, model, max_loss, do_resample)\n",
    "\n",
    "    loss.backward\n",
    "\n",
    "    # Boundary Points\n",
    "    if there_are_boundaries:\n",
    "        for Xbdry, Ubtrue in BPoints_batch:\n",
    "            Xbdry = Xbdry.requires_grad_(True)\n",
    "            Ubtrue = Ubtrue.detach()\n",
    "            #Xbdry = Xbdry.to(dev).requires_grad_(True)\n",
    "            #Ubtrue = Ubtrue.to(dev).detach()\n",
    "\n",
    "            Ubdry = model(Xbdry)\n",
    "            loss = lambda_bdry*mseloss(Ubdry, Ubtrue)\n",
    "            loss.backward()\n",
    "\n",
    "    # Initial Points\n",
    "    if is_unsteady:\n",
    "        for Xinit, Uinit_true in InitPoints_batch:\n",
    "            Xinit = Xinit.requires_grad_(True)\n",
    "            Uinit_true = Uinit_true.detach()\n",
    "            #Xinit = Xinit.to(dev).requires_grad_(True)\n",
    "            #Uinit_true = Uinit_true.to(dev).detach()\n",
    "            Uinit = model(Xinit)\n",
    "            loss = lambda_init*mseloss(Uinit, Uinit_true)\n",
    "            loss.backward()\n",
    "\n",
    "    # Make optimization step\n",
    "    optimizer.step()\n",
    "    optimizer.zero_grad()\n",
    "\n",
    "    # Update walkers\n",
    "    if do_resample and any(resample_index):\n",
    "        InPoints.location[resample_index,:] = DRLPDE_functions.DefineDomain.generate_interior_points(resample_index.size(0), boundingbox, Domain.boundaries)\n",
    "        InPoints_Batch = torch.utils.data.DataLoader(InPoints, batch_size=num_batch, shuffle=True)\n",
    "\n",
    "    # Print statements\n",
    "    if step == 0:\n",
    "        current_time = time.time()\n",
    "        print('Approx time: {:.0f} minutes'.format((current_time - start_time)*num_epoch/60))\n",
    "    if (step+1) % update_print_every == 0:\n",
    "        current_time = time.time()\n",
    "        print('step = {0}/{1}, {2:2.3f} s/step, time-to-go:{3:2.0f} min'.format(\n",
    "                step+1, num_epoch, (current_time - start_time) / (step + 1), \n",
    "            (current_time - start_time) / (step + 1) * (num_epoch - step - 1)/60))\n"
   ]
  },
  {
   "cell_type": "code",
   "execution_count": 3,
   "metadata": {},
   "outputs": [
    {
     "data": {
      "text/plain": [
       "<matplotlib.collections.PathCollection at 0x1b0fba1fc40>"
      ]
     },
     "execution_count": 3,
     "metadata": {},
     "output_type": "execute_result"
    },
    {
     "data": {
      "image/png": "[encoded data removed]",
      "text/plain": [
       "<Figure size 460.8x360 with 1 Axes>"
      ]
     },
     "metadata": {
      "needs_background": "light"
     },
     "output_type": "display_data"
    }
   ],
   "source": [
    "### Plotting\n",
    "\n",
    "Xplot = InPoints.location\n",
    "\n",
    "import matplotlib.pyplot as plt\n",
    "fig, ax = plt.subplots(nrows=1, ncols=1, figsize=[6.4, 5.0])\n",
    "ax.scatter(Xplot[:,0].detach().numpy(), Xplot[:,1].detach().numpy(), s=0.1, marker='o')"
   ]
  },
  {
   "cell_type": "code",
   "execution_count": null,
   "metadata": {},
   "outputs": [],
   "source": []
  },
  {
   "cell_type": "code",
   "execution_count": null,
   "metadata": {},
   "outputs": [],
   "source": []
  },
  {
   "cell_type": "code",
   "execution_count": 4,
   "metadata": {},
   "outputs": [
    {
     "data": {
      "text/plain": [
       "(array([ 97.,  93.,  94.,  98., 103., 114., 103.,  92., 109.,  97.]),\n",
       " array([0.00199952, 0.10172164, 0.20144376, 0.30116588, 0.400888  ,\n",
       "        0.50061013, 0.60033225, 0.70005437, 0.79977649, 0.89949861,\n",
       "        0.99922073]),\n",
       " <BarContainer object of 10 artists>)"
      ]
     },
     "execution_count": 4,
     "metadata": {},
     "output_type": "execute_result"
    },
    {
     "data": {
      "image/png": "[encoded data removed]",
      "text/plain": [
       "<Figure size 432x288 with 1 Axes>"
      ]
     },
     "metadata": {
      "needs_background": "light"
     },
     "output_type": "display_data"
    }
   ],
   "source": [
    "## Test the above in 1 dimension\n",
    "import numpy as np\n",
    "import torch\n",
    "import matplotlib.pyplot as plt\n",
    "\n",
    "numpts = 1000\n",
    "numsteps = 10\n",
    "\n",
    "## For this to be a probability density multiply by 120\n",
    "target = lambda x: x*(1-x)*(x - 0.5)**2\n",
    "\n",
    "X = torch.rand(numpts)\n",
    "plt.hist(X.numpy())\n"
   ]
  },
  {
   "cell_type": "code",
   "execution_count": 5,
   "metadata": {},
   "outputs": [
    {
     "data": {
      "text/plain": [
       "(array([ 98., 284., 102.,  18.,  17.,  10.,  32.,  73., 264., 102.]),\n",
       " array([0.00567002, 0.10375735, 0.20184467, 0.299932  , 0.39801932,\n",
       "        0.49610665, 0.59419397, 0.69228129, 0.79036862, 0.88845594,\n",
       "        0.98654327]),\n",
       " <BarContainer object of 10 artists>)"
      ]
     },
     "execution_count": 5,
     "metadata": {},
     "output_type": "execute_result"
    },
    {
     "data": {
      "image/png": "[encoded data removed]",
      "text/plain": [
       "<Figure size 432x288 with 1 Axes>"
      ]
     },
     "metadata": {
      "needs_background": "light"
     },
     "output_type": "display_data"
    }
   ],
   "source": [
    "for steps in range(numsteps):\n",
    "    ## Evaluate the target distribution\n",
    "    Y = target(X)\n",
    "\n",
    "    ## Calculate maximum\n",
    "    alpha = torch.max(Y)\n",
    "\n",
    "    ## New sample from 0 to alpha\n",
    "    NewSample = torch.rand(numpts)*alpha\n",
    "\n",
    "    ## Find indices such that Y < alpha\n",
    "    indices = Y < NewSample\n",
    "\n",
    "    ## Resample\n",
    "    X[indices] = torch.rand(torch.sum(indices))\n",
    "\n",
    "plt.hist(X.numpy())"
   ]
  },
  {
   "cell_type": "code",
   "execution_count": null,
   "metadata": {},
   "outputs": [],
   "source": []
  },
  {
   "cell_type": "code",
   "execution_count": null,
   "metadata": {},
   "outputs": [],
   "source": []
  }
 ],
 "metadata": {
  "kernelspec": {
   "display_name": "Python 3.10.4 64-bit",
   "language": "python",
   "name": "python3"
  },
  "language_info": {
   "codemirror_mode": {
    "name": "ipython",
    "version": 3
   },
   "file_extension": ".py",
   "mimetype": "text/x-python",
   "name": "python",
   "nbconvert_exporter": "python",
   "pygments_lexer": "ipython3",
   "version": "3.10.6"
  },
  "orig_nbformat": 4,
  "vscode": {
   "interpreter": {
    "hash": "916dbcbb3f70747c44a77c7bcd40155683ae19c65e1c03b4aa3499c5328201f1"
   }
  }
 },
 "nbformat": 4,
 "nbformat_minor": 2
}
