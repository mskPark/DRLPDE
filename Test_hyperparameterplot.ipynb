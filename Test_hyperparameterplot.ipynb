{
 "cells": [
  {
   "cell_type": "code",
   "execution_count": 1,
   "metadata": {},
   "outputs": [],
   "source": [
    "import torch\n",
    "import torch.nn as nn\n",
    "import os\n",
    "import sys\n",
    "import numpy as np\n",
    "import math\n",
    "\n",
    "import matplotlib.pyplot as plt\n",
    "import cv2\n",
    "\n",
    "import matplotlib as mpl\n",
    "\n",
    "mpl.rcParams['figure.dpi'] = 300\n",
    "#plt.rcParams['text.usetex'] = True\n",
    "#plt.rcParams['font.family'] = 'serif'\n",
    "#plt.rcParams['font.serif'] = ['Computer Modern']\n",
    "#plt.rcParams['font.size'] = 12"
   ]
  },
  {
   "cell_type": "code",
   "execution_count": 2,
   "metadata": {},
   "outputs": [],
   "source": [
    "## Load Trained model\n",
    "\n",
    "nn_depth = 60\n",
    "nn_width = 4\n",
    "\n",
    "x_dim = 2\n",
    "output_dim = 2\n",
    "is_unsteady = True\n",
    "num_param = 2\n",
    "\n",
    "input_dim = x_dim + is_unsteady + num_param\n",
    "\n",
    "# X[:,0], X[:,1] space dimensions\n",
    "# X[:,2] time dimension\n",
    "# X[:,3] viscosity\n",
    "# X[:,4] input speed\n",
    "\n",
    "L_height = 0.5\n",
    "Tmax = 1\n",
    "\n",
    "loadmodel = 'flowpastdisk_hyper'\n",
    "\n",
    "imagefilename = 'hyper_mu02_v8'\n",
    "imagesfolder = \"images/hyperparameter/\"\n",
    "\n",
    "video_name = imagesfolder + imagefilename + '.avi'\n",
    "fourcc = cv2.VideoWriter_fourcc(*'MP4V') "
   ]
  },
  {
   "cell_type": "code",
   "execution_count": 3,
   "metadata": {},
   "outputs": [],
   "source": [
    "class IncompressibleNN(torch.nn.Module):\n",
    "    \n",
    "    ### Incompressible neural network\n",
    "    ### curl operation built in\n",
    "    \n",
    "    def __init__(self, depth, width, x_dim, is_unsteady, num_param, **nn_param):\n",
    "        super(IncompressibleNN, self).__init__()\n",
    "        \n",
    "        self.x_dim = x_dim\n",
    "        self.input_dim = self.x_dim + is_unsteady + num_param\n",
    "        \n",
    "        self.dim_out = [1, 3][self.x_dim==3]\n",
    "        \n",
    "        modules = []\n",
    "        modules.append(torch.nn.Linear(self.input_dim, depth))\n",
    "        for i in range(width - 1):\n",
    "            modules.append(torch.nn.Linear(depth, depth))\n",
    "            modules.append(torch.nn.Tanh())\n",
    "        modules.append(torch.nn.Linear(depth, self.dim_out))\n",
    "                       \n",
    "        self.sequential_model = torch.nn.Sequential(*modules)\n",
    "    \n",
    "    def curl(self, a, x):\n",
    "        if self.x_dim == 2:\n",
    "            \n",
    "            dadx = torch.autograd.grad(a, x, grad_outputs = torch.ones_like(a), \n",
    "                                        create_graph = True, retain_graph = True, allow_unused=False)[0]\n",
    "\n",
    "            u = torch.stack([dadx[:,1], -dadx[:,0]] , dim=1)\n",
    "            \n",
    "        elif self.x_dim == 3:\n",
    "            e = torch.eye(self.x_dim, device=x.device)\n",
    "\n",
    "            da0dx = torch.autograd.grad(a, x, grad_outputs=e[0,:].repeat(a.size(0), 1), \n",
    "                                        create_graph=True, retain_graph = True)[0]\n",
    "            da1dx = torch.autograd.grad(a, x, grad_outputs=e[1,:].repeat(a.size(0), 1),\n",
    "                                        create_graph=True, retain_graph = True)[0]\n",
    "            da2dx = torch.autograd.grad(a, x, grad_outputs=e[2,:].repeat(a.size(0), 1),\n",
    "                                        create_graph=True, retain_graph = True, allow_unused=True)[0]\n",
    "\n",
    "            u = torch.stack([da2dx[:,1] - da1dx[:,2], da0dx[:,2] - da2dx[:,0], da1dx[:,0] - da0dx[:,1] ], dim=1)         \n",
    "        return u\n",
    "    \n",
    "    def forward(self, x):\n",
    "        a = self.sequential_model(x)\n",
    "        u = self.curl(a, x)\n",
    "            \n",
    "        return u"
   ]
  },
  {
   "cell_type": "code",
   "execution_count": 4,
   "metadata": {},
   "outputs": [
    {
     "data": {
      "text/plain": [
       "<All keys matched successfully>"
      ]
     },
     "execution_count": 4,
     "metadata": {},
     "output_type": "execute_result"
    }
   ],
   "source": [
    "nn_param = {'depth': nn_depth,\n",
    "            'width': nn_width,\n",
    "            'x_dim': x_dim,\n",
    "            'is_unsteady': is_unsteady,\n",
    "            'output_dim': output_dim,\n",
    "            'num_param': num_param\n",
    "            }\n",
    "                \n",
    "################ Preparing the model #################\n",
    "\n",
    "#print(\"Initializing the model\")\n",
    "\n",
    "### Initialize the Model\n",
    "model = IncompressibleNN(**nn_param)\n",
    "\n",
    "model.load_state_dict(torch.load(\"savedmodels/\" + loadmodel + \".pt\", map_location=torch.device('cpu')))"
   ]
  },
  {
   "cell_type": "code",
   "execution_count": 5,
   "metadata": {},
   "outputs": [],
   "source": [
    "# Choose parameters\n",
    "\n",
    "### Choose time step\n",
    "dt = 0.01\n",
    "num_t = int( Tmax/dt )\n",
    "framerate = 5\n",
    "\n",
    "### Choose your input speed and viscosity\n",
    "Inputspeed = 8 # 1 to 10\n",
    "Viscosity = 0.2 # 0.1 to 1\n",
    "\n",
    "### Make domain\n",
    "\n",
    "numplotpts_x = 4*16\n",
    "numplotpts_y = 16\n",
    "numplotpts = numplotpts_x*numplotpts_y\n",
    "\n",
    "xg = torch.cartesian_prod(torch.linspace(0, 5*L_height, numplotpts_x), \n",
    "                           torch.linspace(-L_height, L_height, numplotpts_y))\n",
    "\n",
    "domain = torch.cat( (xg, torch.zeros((xg.size(0),1)), torch.tensor([[Viscosity, Inputspeed]])*torch.ones((xg.size(0),2))),dim=1 )\n",
    "\n",
    "xplot = xg[:,0].reshape(numplotpts_x, numplotpts_y).detach().numpy()\n",
    "yplot = xg[:,1].reshape(numplotpts_x, numplotpts_y).detach().numpy()\n",
    "\n",
    "contour_levels= np.linspace(-Inputspeed, 2*Inputspeed, 50)\n",
    "contour_ticks = [contour_levels[0], 0, contour_levels[-1]]\n",
    "\n",
    "def plot_contour(ax, x, y, u, ii):\n",
    "\n",
    "    ax.set_title(r'$u_1$ velocity at time {:.2f}'.format(ii*dt))\n",
    "\n",
    "    ax.tick_params(\n",
    "    axis='both',\n",
    "    which='both',\n",
    "    bottom=False,\n",
    "    top=False,\n",
    "    left=False,\n",
    "    right=False,\n",
    "    labelbottom=False,\n",
    "    labelleft=False\n",
    "    )\n",
    "    th = np.linspace(0,2*math.pi, 64)\n",
    "\n",
    "    xc = L_height/3 * np.cos( th ) + L_height\n",
    "    yc = L_height/3 * np.sin( th )\n",
    "\n",
    "    ax.plot(xc,yc, 'k-')\n",
    "\n",
    "    contour = ax.contourf(x, y, u, levels=contour_levels)\n",
    "    plt.colorbar(contour, ticks=contour_ticks)\n",
    "\n",
    "    return ax"
   ]
  },
  {
   "cell_type": "code",
   "execution_count": 6,
   "metadata": {},
   "outputs": [
    {
     "name": "stderr",
     "output_type": "stream",
     "text": [
      "OpenCV: FFMPEG: tag 0x5634504d/'MP4V' is not supported with codec id 12 and format 'avi / AVI (Audio Video Interleaved)'\n",
      "OpenCV: FFMPEG: fallback to use tag 0x34504d46/'FMP4'\n"
     ]
    },
    {
     "data": {
      "text/plain": [
       "<Figure size 1800x900 with 0 Axes>"
      ]
     },
     "metadata": {},
     "output_type": "display_data"
    }
   ],
   "source": [
    "plt.close('all')\n",
    "fig = plt.figure(figsize=(6,3))\n",
    "plt.tight_layout(pad=0.75)\n",
    "\n",
    "for ii in range(num_t):\n",
    "\n",
    "    domain.requires_grad=False\n",
    "    domain[:,2] = ii*dt\n",
    "\n",
    "    Trained_Vel = model(domain.requires_grad_(True)).reshape(numplotpts_x, numplotpts_y, 2).detach().numpy()\n",
    "\n",
    "    ax = fig.add_subplot(1,1,1)\n",
    "\n",
    "    plot_contour(ax, xplot, yplot, Trained_Vel[:,:,0], ii)\n",
    "\n",
    "    filename = imagesfolder + imagefilename + str(ii) + \".png\"\n",
    "    if os.path.isfile(filename):\n",
    "        os.remove(filename)\n",
    "    fig.savefig(filename)\n",
    "\n",
    "    if ii==0:\n",
    "        frame = cv2.imread(imagesfolder + imagefilename + str(ii) + \".png\") \n",
    "        # setting the frame width, height width \n",
    "        # the width, height of first image \n",
    "        height, width, layers = frame.shape   \n",
    "        video = cv2.VideoWriter(video_name, fourcc, framerate, (width, height)) \n",
    "        video.write(cv2.imread(imagesfolder + imagefilename + str(ii) + \".png\")) \n",
    "    else:\n",
    "        video.write(cv2.imread(imagesfolder + imagefilename + str(ii) + \".png\"))  \n",
    "\n",
    "    #quiver = ax.quiver(xplot,yplot, Trained_Vel[:,:,0], Trained_Vel[:,:,1], pivot='mid')\n",
    "\n",
    "    fig.clf()\n",
    "\n",
    "video.release()  # releasing the video generated     \n",
    "cv2.destroyAllWindows()"
   ]
  },
  {
   "cell_type": "code",
   "execution_count": null,
   "metadata": {},
   "outputs": [],
   "source": []
  },
  {
   "cell_type": "code",
   "execution_count": null,
   "metadata": {},
   "outputs": [],
   "source": []
  },
  {
   "cell_type": "code",
   "execution_count": null,
   "metadata": {},
   "outputs": [],
   "source": []
  },
  {
   "cell_type": "code",
   "execution_count": null,
   "metadata": {},
   "outputs": [],
   "source": []
  }
 ],
 "metadata": {
  "kernelspec": {
   "display_name": "Python 3.10.6 64-bit",
   "language": "python",
   "name": "python3"
  },
  "language_info": {
   "codemirror_mode": {
    "name": "ipython",
    "version": 3
   },
   "file_extension": ".py",
   "mimetype": "text/x-python",
   "name": "python",
   "nbconvert_exporter": "python",
   "pygments_lexer": "ipython3",
   "version": "3.10.6"
  },
  "orig_nbformat": 4,
  "vscode": {
   "interpreter": {
    "hash": "916dbcbb3f70747c44a77c7bcd40155683ae19c65e1c03b4aa3499c5328201f1"
   }
  }
 },
 "nbformat": 4,
 "nbformat_minor": 2
}
