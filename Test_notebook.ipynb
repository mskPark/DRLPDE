{
 "cells": [
  {
   "cell_type": "code",
   "execution_count": 1,
   "metadata": {},
   "outputs": [],
   "source": [
    "import torch\n",
    "import numpy as np\n",
    "import time\n",
    "import DRLPDE_nn\n"
   ]
  },
  {
   "cell_type": "code",
   "execution_count": 7,
   "metadata": {},
   "outputs": [],
   "source": [
    "class IncompressibleNN(torch.nn.Module):\n",
    "    \n",
    "    ### Incompressible neural network\n",
    "    ### curl operation built in\n",
    "    \n",
    "    def __init__(self, depth, width, x_dim, is_unsteady, num_param, **nn_param):\n",
    "        super(IncompressibleNN, self).__init__()\n",
    "        \n",
    "        self.x_dim = x_dim\n",
    "        self.input_dim = self.x_dim + is_unsteady + num_param\n",
    "        \n",
    "        self.dim_out = 1\n",
    "        \n",
    "        modules = []\n",
    "        modules.append(torch.nn.Linear(self.input_dim, depth))\n",
    "        for i in range(width - 1):\n",
    "            modules.append(torch.nn.Linear(depth, depth))\n",
    "            modules.append(torch.nn.Tanh())\n",
    "        modules.append(torch.nn.Linear(depth, self.dim_out))\n",
    "                       \n",
    "        self.sequential_model = torch.nn.Sequential(*modules)\n",
    "    \n",
    "    def curl(self, a, x):\n",
    "\n",
    "        dadx = torch.autograd.grad(a, x, grad_outputs = torch.ones_like(a), \n",
    "                                    create_graph = True, retain_graph = True, allow_unused=False)[0]\n",
    "\n",
    "        u = torch.stack([dadx[:,1], -dadx[:,0]] , dim=1)\n",
    "                   \n",
    "        return u\n",
    "    \n",
    "    def forward(self, x):\n",
    "        a = self.sequential_model(x)\n",
    "        u = self.curl(a, x)\n",
    "            \n",
    "        return u"
   ]
  },
  {
   "cell_type": "code",
   "execution_count": 8,
   "metadata": {},
   "outputs": [],
   "source": [
    "model = IncompressibleNN(4, 20, 2, False, 0)\n",
    "\n",
    "X = torch.randn((10,2), requires_grad=True)\n",
    "U = model(X)\n"
   ]
  },
  {
   "cell_type": "code",
   "execution_count": 10,
   "metadata": {},
   "outputs": [],
   "source": [
    "e = torch.eye(1)\n",
    "\n",
    "Ux = torch.autograd.grad(U, X, grad_outputs=e[0,:].repeat(U.size(0), 1), create_graph=True, retain_graph=True)[0]"
   ]
  },
  {
   "cell_type": "code",
   "execution_count": 16,
   "metadata": {},
   "outputs": [
    {
     "ename": "AttributeError",
     "evalue": "'NoneType' object has no attribute 'shape'",
     "output_type": "error",
     "traceback": [
      "\u001b[0;31m---------------------------------------------------------------------------\u001b[0m",
      "\u001b[0;31mAttributeError\u001b[0m                            Traceback (most recent call last)",
      "\u001b[1;32m/home/mskpark/Research/DRLPDE/Test_notebook.ipynb Cell 9\u001b[0m in \u001b[0;36m<cell line: 1>\u001b[0;34m()\u001b[0m\n\u001b[0;32m----> <a href='vscode-notebook-cell:/home/mskpark/Research/DRLPDE/Test_notebook.ipynb#X24sZmlsZQ%3D%3D?line=0'>1</a>\u001b[0m Ux\u001b[39m.\u001b[39;49mshape\n",
      "\u001b[0;31mAttributeError\u001b[0m: 'NoneType' object has no attribute 'shape'"
     ]
    }
   ],
   "source": [
    "Ux.shape"
   ]
  },
  {
   "cell_type": "code",
   "execution_count": null,
   "metadata": {},
   "outputs": [],
   "source": []
  },
  {
   "cell_type": "code",
   "execution_count": 4,
   "metadata": {},
   "outputs": [],
   "source": [
    "loss = torch.norm(Target, dim=1)\n",
    "\n",
    "### Rejection sampling ###\n",
    "# generate uniform( max_loss )\n",
    "# Compare sample < uniform\n",
    "# Then resample\n",
    "\n",
    "check_sample = torch.rand(X.size(0), device=X.device)\n",
    "resample_index = loss < check_sample\n",
    "\n",
    "loss = torch.mean( loss )"
   ]
  },
  {
   "cell_type": "code",
   "execution_count": 6,
   "metadata": {},
   "outputs": [
    {
     "data": {
      "text/plain": [
       "False"
      ]
     },
     "execution_count": 6,
     "metadata": {},
     "output_type": "execute_result"
    }
   ],
   "source": [
    "loss.is_leaf"
   ]
  },
  {
   "cell_type": "code",
   "execution_count": 10,
   "metadata": {},
   "outputs": [],
   "source": [
    "class Data(torch.utils.data.Dataset):\n",
    "    \n",
    "    def __init__(self, num):\n",
    "        \n",
    "        X = torch.randn(num,2)\n",
    "        #region = close_to_region(Xold)\n",
    "        \n",
    "        self.location = X\n",
    "        self.num_pts = num\n",
    "        #self.region = region\n",
    "        \n",
    "    def __len__(self):\n",
    "        ### How many data points are there?\n",
    "        return self.num_pts\n",
    "    \n",
    "    def __getitem__(self, index):\n",
    "        ### Gets one sample of data\n",
    "        ### \n",
    "        return self.location[index,:], index\n"
   ]
  },
  {
   "cell_type": "code",
   "execution_count": 56,
   "metadata": {},
   "outputs": [],
   "source": [
    "X = Data(10)\n",
    "\n",
    "Batch = torch.utils.data.DataLoader(X, batch_size=2, shuffle=True)"
   ]
  },
  {
   "cell_type": "code",
   "execution_count": 61,
   "metadata": {},
   "outputs": [
    {
     "name": "stdout",
     "output_type": "stream",
     "text": [
      "torch.Size([2])\n",
      "tensor([ 1.0808, -0.9571])\n",
      "torch.Size([2])\n",
      "tensor([ 1.0808, -0.9571])\n",
      "torch.Size([2])\n",
      "tensor([ 1.0808, -0.9571])\n",
      "torch.Size([2])\n",
      "tensor([ 1.0808, -0.9571])\n",
      "torch.Size([2])\n",
      "tensor([ 1.0808, -0.9571])\n"
     ]
    }
   ],
   "source": [
    "for Xbatch, index in Batch:\n",
    "    print(index.size())\n",
    "    print(X.location[0])"
   ]
  },
  {
   "cell_type": "code",
   "execution_count": 52,
   "metadata": {},
   "outputs": [
    {
     "data": {
      "text/plain": [
       "tensor([0])"
      ]
     },
     "execution_count": 52,
     "metadata": {},
     "output_type": "execute_result"
    }
   ],
   "source": [
    "index[ torch.randn(2) < 0 ]"
   ]
  },
  {
   "cell_type": "code",
   "execution_count": 39,
   "metadata": {},
   "outputs": [
    {
     "data": {
      "text/plain": [
       "tensor([0, 8, 0])"
      ]
     },
     "execution_count": 39,
     "metadata": {},
     "output_type": "execute_result"
    }
   ],
   "source": [
    "torch.cat(( index, torch.tensor( [1024] , dtype=torch.int8) ))"
   ]
  },
  {
   "cell_type": "code",
   "execution_count": 5,
   "metadata": {},
   "outputs": [],
   "source": [
    "B = torch.tensor( [1024], dtype=torch.int64)"
   ]
  },
  {
   "cell_type": "code",
   "execution_count": 6,
   "metadata": {},
   "outputs": [],
   "source": [
    "B = B.to('cpu')"
   ]
  },
  {
   "cell_type": "code",
   "execution_count": null,
   "metadata": {},
   "outputs": [],
   "source": []
  }
 ],
 "metadata": {
  "kernelspec": {
   "display_name": "Python 3.10.6 64-bit",
   "language": "python",
   "name": "python3"
  },
  "language_info": {
   "codemirror_mode": {
    "name": "ipython",
    "version": 3
   },
   "file_extension": ".py",
   "mimetype": "text/x-python",
   "name": "python",
   "nbconvert_exporter": "python",
   "pygments_lexer": "ipython3",
   "version": "3.10.6"
  },
  "orig_nbformat": 4,
  "vscode": {
   "interpreter": {
    "hash": "916dbcbb3f70747c44a77c7bcd40155683ae19c65e1c03b4aa3499c5328201f1"
   }
  }
 },
 "nbformat": 4,
 "nbformat_minor": 2
}
