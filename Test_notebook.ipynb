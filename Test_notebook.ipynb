{
 "cells": [
  {
   "cell_type": "code",
   "execution_count": 1,
   "metadata": {},
   "outputs": [],
   "source": [
    "import torch\n",
    "import numpy as np\n",
    "import time\n",
    "import DRLPDE_nn\n"
   ]
  },
  {
   "cell_type": "code",
   "execution_count": 21,
   "metadata": {},
   "outputs": [],
   "source": [
    "class IncompressibleNN(torch.nn.Module):\n",
    "    \n",
    "    ### Incompressible neural network\n",
    "    ### curl operation built in\n",
    "    \n",
    "    def __init__(self, depth, width, x_dim, is_unsteady, num_param, **nn_param):\n",
    "        super(IncompressibleNN, self).__init__()\n",
    "        \n",
    "        self.x_dim = x_dim\n",
    "        self.input_dim = self.x_dim + is_unsteady + num_param\n",
    "        \n",
    "        self.dim_out = 1\n",
    "        \n",
    "        modules = []\n",
    "        modules.append(torch.nn.Linear(self.input_dim, depth))\n",
    "        for i in range(width - 1):\n",
    "            modules.append(torch.nn.Linear(depth, depth))\n",
    "            modules.append(torch.nn.Tanh())\n",
    "        modules.append(torch.nn.Linear(depth, self.dim_out))\n",
    "                       \n",
    "        self.sequential_model = torch.nn.Sequential(*modules)\n",
    "    \n",
    "    def curl(self, a, x):\n",
    "\n",
    "        dadx = torch.autograd.grad(a, x, grad_outputs = torch.ones_like(a), \n",
    "                                    create_graph = False, retain_graph = False, allow_unused=True)[0]\n",
    "\n",
    "        u = torch.stack([dadx[:,1], -dadx[:,0]] , dim=1)\n",
    "                   \n",
    "        return u\n",
    "    \n",
    "    def forward(self, x):\n",
    "        a = self.sequential_model(x)\n",
    "        u = self.curl(a, x)\n",
    "            \n",
    "        return u"
   ]
  },
  {
   "cell_type": "code",
   "execution_count": 22,
   "metadata": {},
   "outputs": [
    {
     "ename": "TypeError",
     "evalue": "'NoneType' object is not subscriptable",
     "output_type": "error",
     "traceback": [
      "\u001b[0;31m---------------------------------------------------------------------------\u001b[0m",
      "\u001b[0;31mTypeError\u001b[0m                                 Traceback (most recent call last)",
      "\u001b[1;32m/home/mskpark/Research/DRLPDE/Test_notebook.ipynb Cell 3\u001b[0m in \u001b[0;36m<cell line: 4>\u001b[0;34m()\u001b[0m\n\u001b[1;32m      <a href='vscode-notebook-cell:/home/mskpark/Research/DRLPDE/Test_notebook.ipynb#X23sZmlsZQ%3D%3D?line=0'>1</a>\u001b[0m model \u001b[39m=\u001b[39m IncompressibleNN(\u001b[39m4\u001b[39m, \u001b[39m20\u001b[39m, \u001b[39m2\u001b[39m, \u001b[39mFalse\u001b[39;00m, \u001b[39m0\u001b[39m)\n\u001b[1;32m      <a href='vscode-notebook-cell:/home/mskpark/Research/DRLPDE/Test_notebook.ipynb#X23sZmlsZQ%3D%3D?line=2'>3</a>\u001b[0m X \u001b[39m=\u001b[39m torch\u001b[39m.\u001b[39mrandn((\u001b[39m10\u001b[39m,\u001b[39m2\u001b[39m), requires_grad\u001b[39m=\u001b[39m\u001b[39mTrue\u001b[39;00m)\n\u001b[0;32m----> <a href='vscode-notebook-cell:/home/mskpark/Research/DRLPDE/Test_notebook.ipynb#X23sZmlsZQ%3D%3D?line=3'>4</a>\u001b[0m U \u001b[39m=\u001b[39m model(X)\n\u001b[1;32m      <a href='vscode-notebook-cell:/home/mskpark/Research/DRLPDE/Test_notebook.ipynb#X23sZmlsZQ%3D%3D?line=4'>5</a>\u001b[0m \u001b[39mprint\u001b[39m(U)\n",
      "File \u001b[0;32m~/.local/lib/python3.10/site-packages/torch/nn/modules/module.py:1130\u001b[0m, in \u001b[0;36mModule._call_impl\u001b[0;34m(self, *input, **kwargs)\u001b[0m\n\u001b[1;32m   1126\u001b[0m \u001b[39m# If we don't have any hooks, we want to skip the rest of the logic in\u001b[39;00m\n\u001b[1;32m   1127\u001b[0m \u001b[39m# this function, and just call forward.\u001b[39;00m\n\u001b[1;32m   1128\u001b[0m \u001b[39mif\u001b[39;00m \u001b[39mnot\u001b[39;00m (\u001b[39mself\u001b[39m\u001b[39m.\u001b[39m_backward_hooks \u001b[39mor\u001b[39;00m \u001b[39mself\u001b[39m\u001b[39m.\u001b[39m_forward_hooks \u001b[39mor\u001b[39;00m \u001b[39mself\u001b[39m\u001b[39m.\u001b[39m_forward_pre_hooks \u001b[39mor\u001b[39;00m _global_backward_hooks\n\u001b[1;32m   1129\u001b[0m         \u001b[39mor\u001b[39;00m _global_forward_hooks \u001b[39mor\u001b[39;00m _global_forward_pre_hooks):\n\u001b[0;32m-> 1130\u001b[0m     \u001b[39mreturn\u001b[39;00m forward_call(\u001b[39m*\u001b[39;49m\u001b[39minput\u001b[39;49m, \u001b[39m*\u001b[39;49m\u001b[39m*\u001b[39;49mkwargs)\n\u001b[1;32m   1131\u001b[0m \u001b[39m# Do not call functions when jit is used\u001b[39;00m\n\u001b[1;32m   1132\u001b[0m full_backward_hooks, non_full_backward_hooks \u001b[39m=\u001b[39m [], []\n",
      "\u001b[1;32m/home/mskpark/Research/DRLPDE/Test_notebook.ipynb Cell 3\u001b[0m in \u001b[0;36mIncompressibleNN.forward\u001b[0;34m(self, x)\u001b[0m\n\u001b[1;32m     <a href='vscode-notebook-cell:/home/mskpark/Research/DRLPDE/Test_notebook.ipynb#X23sZmlsZQ%3D%3D?line=31'>32</a>\u001b[0m \u001b[39mdef\u001b[39;00m \u001b[39mforward\u001b[39m(\u001b[39mself\u001b[39m, x):\n\u001b[1;32m     <a href='vscode-notebook-cell:/home/mskpark/Research/DRLPDE/Test_notebook.ipynb#X23sZmlsZQ%3D%3D?line=32'>33</a>\u001b[0m     a \u001b[39m=\u001b[39m \u001b[39mself\u001b[39m\u001b[39m.\u001b[39msequential_model(x)\n\u001b[0;32m---> <a href='vscode-notebook-cell:/home/mskpark/Research/DRLPDE/Test_notebook.ipynb#X23sZmlsZQ%3D%3D?line=33'>34</a>\u001b[0m     u \u001b[39m=\u001b[39m \u001b[39mself\u001b[39;49m\u001b[39m.\u001b[39;49mcurl(a, x)\n\u001b[1;32m     <a href='vscode-notebook-cell:/home/mskpark/Research/DRLPDE/Test_notebook.ipynb#X23sZmlsZQ%3D%3D?line=35'>36</a>\u001b[0m     \u001b[39mreturn\u001b[39;00m u\n",
      "\u001b[1;32m/home/mskpark/Research/DRLPDE/Test_notebook.ipynb Cell 3\u001b[0m in \u001b[0;36mIncompressibleNN.curl\u001b[0;34m(self, a, x)\u001b[0m\n\u001b[1;32m     <a href='vscode-notebook-cell:/home/mskpark/Research/DRLPDE/Test_notebook.ipynb#X23sZmlsZQ%3D%3D?line=22'>23</a>\u001b[0m \u001b[39mdef\u001b[39;00m \u001b[39mcurl\u001b[39m(\u001b[39mself\u001b[39m, a, x):\n\u001b[1;32m     <a href='vscode-notebook-cell:/home/mskpark/Research/DRLPDE/Test_notebook.ipynb#X23sZmlsZQ%3D%3D?line=24'>25</a>\u001b[0m     dadx \u001b[39m=\u001b[39m torch\u001b[39m.\u001b[39mautograd\u001b[39m.\u001b[39mgrad(a, x[:,:], grad_outputs \u001b[39m=\u001b[39m torch\u001b[39m.\u001b[39mones_like(a), \n\u001b[1;32m     <a href='vscode-notebook-cell:/home/mskpark/Research/DRLPDE/Test_notebook.ipynb#X23sZmlsZQ%3D%3D?line=25'>26</a>\u001b[0m                                 create_graph \u001b[39m=\u001b[39m \u001b[39mFalse\u001b[39;00m, retain_graph \u001b[39m=\u001b[39m \u001b[39mFalse\u001b[39;00m, allow_unused\u001b[39m=\u001b[39m\u001b[39mTrue\u001b[39;00m)[\u001b[39m0\u001b[39m]\n\u001b[0;32m---> <a href='vscode-notebook-cell:/home/mskpark/Research/DRLPDE/Test_notebook.ipynb#X23sZmlsZQ%3D%3D?line=27'>28</a>\u001b[0m     u \u001b[39m=\u001b[39m torch\u001b[39m.\u001b[39mstack([dadx[:,\u001b[39m1\u001b[39;49m], \u001b[39m-\u001b[39mdadx[:,\u001b[39m0\u001b[39m]] , dim\u001b[39m=\u001b[39m\u001b[39m1\u001b[39m)\n\u001b[1;32m     <a href='vscode-notebook-cell:/home/mskpark/Research/DRLPDE/Test_notebook.ipynb#X23sZmlsZQ%3D%3D?line=29'>30</a>\u001b[0m     \u001b[39mreturn\u001b[39;00m u\n",
      "\u001b[0;31mTypeError\u001b[0m: 'NoneType' object is not subscriptable"
     ]
    }
   ],
   "source": [
    "model = IncompressibleNN(4, 20, 2, False, 0)\n",
    "\n",
    "X = torch.randn((10,2), requires_grad=True)\n",
    "U = model(X)\n"
   ]
  },
  {
   "cell_type": "code",
   "execution_count": 13,
   "metadata": {},
   "outputs": [
    {
     "data": {
      "text/plain": [
       "True"
      ]
     },
     "execution_count": 13,
     "metadata": {},
     "output_type": "execute_result"
    }
   ],
   "source": [
    "X[:,:].requires_grad"
   ]
  },
  {
   "cell_type": "code",
   "execution_count": 4,
   "metadata": {},
   "outputs": [],
   "source": [
    "loss = torch.norm(Target, dim=1)\n",
    "\n",
    "### Rejection sampling ###\n",
    "# generate uniform( max_loss )\n",
    "# Compare sample < uniform\n",
    "# Then resample\n",
    "\n",
    "check_sample = torch.rand(X.size(0), device=X.device)\n",
    "resample_index = loss < check_sample\n",
    "\n",
    "loss = torch.mean( loss )"
   ]
  },
  {
   "cell_type": "code",
   "execution_count": 6,
   "metadata": {},
   "outputs": [
    {
     "data": {
      "text/plain": [
       "False"
      ]
     },
     "execution_count": 6,
     "metadata": {},
     "output_type": "execute_result"
    }
   ],
   "source": [
    "loss.is_leaf"
   ]
  },
  {
   "cell_type": "code",
   "execution_count": 10,
   "metadata": {},
   "outputs": [],
   "source": [
    "class Data(torch.utils.data.Dataset):\n",
    "    \n",
    "    def __init__(self, num):\n",
    "        \n",
    "        X = torch.randn(num,2)\n",
    "        #region = close_to_region(Xold)\n",
    "        \n",
    "        self.location = X\n",
    "        self.num_pts = num\n",
    "        #self.region = region\n",
    "        \n",
    "    def __len__(self):\n",
    "        ### How many data points are there?\n",
    "        return self.num_pts\n",
    "    \n",
    "    def __getitem__(self, index):\n",
    "        ### Gets one sample of data\n",
    "        ### \n",
    "        return self.location[index,:], index\n"
   ]
  },
  {
   "cell_type": "code",
   "execution_count": 56,
   "metadata": {},
   "outputs": [],
   "source": [
    "X = Data(10)\n",
    "\n",
    "Batch = torch.utils.data.DataLoader(X, batch_size=2, shuffle=True)"
   ]
  },
  {
   "cell_type": "code",
   "execution_count": 61,
   "metadata": {},
   "outputs": [
    {
     "name": "stdout",
     "output_type": "stream",
     "text": [
      "torch.Size([2])\n",
      "tensor([ 1.0808, -0.9571])\n",
      "torch.Size([2])\n",
      "tensor([ 1.0808, -0.9571])\n",
      "torch.Size([2])\n",
      "tensor([ 1.0808, -0.9571])\n",
      "torch.Size([2])\n",
      "tensor([ 1.0808, -0.9571])\n",
      "torch.Size([2])\n",
      "tensor([ 1.0808, -0.9571])\n"
     ]
    }
   ],
   "source": [
    "for Xbatch, index in Batch:\n",
    "    print(index.size())\n",
    "    print(X.location[0])"
   ]
  },
  {
   "cell_type": "code",
   "execution_count": 52,
   "metadata": {},
   "outputs": [
    {
     "data": {
      "text/plain": [
       "tensor([0])"
      ]
     },
     "execution_count": 52,
     "metadata": {},
     "output_type": "execute_result"
    }
   ],
   "source": [
    "index[ torch.randn(2) < 0 ]"
   ]
  },
  {
   "cell_type": "code",
   "execution_count": 39,
   "metadata": {},
   "outputs": [
    {
     "data": {
      "text/plain": [
       "tensor([0, 8, 0])"
      ]
     },
     "execution_count": 39,
     "metadata": {},
     "output_type": "execute_result"
    }
   ],
   "source": [
    "torch.cat(( index, torch.tensor( [1024] , dtype=torch.int8) ))"
   ]
  },
  {
   "cell_type": "code",
   "execution_count": 2,
   "metadata": {},
   "outputs": [],
   "source": [
    "B = torch.tensor( [1024], dtype=torch.int64)"
   ]
  },
  {
   "cell_type": "code",
   "execution_count": 4,
   "metadata": {},
   "outputs": [],
   "source": [
    "B = B.to('cpu')"
   ]
  },
  {
   "cell_type": "code",
   "execution_count": null,
   "metadata": {},
   "outputs": [],
   "source": []
  }
 ],
 "metadata": {
  "kernelspec": {
   "display_name": "Python 3.10.6 64-bit",
   "language": "python",
   "name": "python3"
  },
  "language_info": {
   "codemirror_mode": {
    "name": "ipython",
    "version": 3
   },
   "file_extension": ".py",
   "mimetype": "text/x-python",
   "name": "python",
   "nbconvert_exporter": "python",
   "pygments_lexer": "ipython3",
   "version": "3.10.6"
  },
  "orig_nbformat": 4,
  "vscode": {
   "interpreter": {
    "hash": "916dbcbb3f70747c44a77c7bcd40155683ae19c65e1c03b4aa3499c5328201f1"
   }
  }
 },
 "nbformat": 4,
 "nbformat_minor": 2
}
