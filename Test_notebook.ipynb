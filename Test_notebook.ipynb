{
 "cells": [
  {
   "cell_type": "code",
   "execution_count": 1,
   "metadata": {},
   "outputs": [],
   "source": [
    "import torch\n",
    "import numpy as np\n",
    "import time\n",
    "import DRLPDE_nn\n"
   ]
  },
  {
   "cell_type": "code",
   "execution_count": 2,
   "metadata": {},
   "outputs": [],
   "source": [
    "model = DRLPDE_nn.IncompressibleNN(5,5,2,False).to('cpu')"
   ]
  },
  {
   "cell_type": "code",
   "execution_count": 3,
   "metadata": {},
   "outputs": [],
   "source": [
    "X = torch.randn((10,2), requires_grad=True)\n",
    "U = model(X)\n",
    "\n",
    "Target = DRLPDE_nn.autodiff_vB(U,X)"
   ]
  },
  {
   "cell_type": "code",
   "execution_count": 4,
   "metadata": {},
   "outputs": [],
   "source": [
    "loss = torch.norm(Target, dim=1)\n",
    "\n",
    "### Rejection sampling ###\n",
    "# generate uniform( max_loss )\n",
    "# Compare sample < uniform\n",
    "# Then resample\n",
    "\n",
    "check_sample = torch.rand(X.size(0), device=X.device)\n",
    "resample_index = loss < check_sample\n",
    "\n",
    "loss = torch.mean( loss )"
   ]
  },
  {
   "cell_type": "code",
   "execution_count": 6,
   "metadata": {},
   "outputs": [
    {
     "data": {
      "text/plain": [
       "False"
      ]
     },
     "execution_count": 6,
     "metadata": {},
     "output_type": "execute_result"
    }
   ],
   "source": [
    "loss.is_leaf"
   ]
  },
  {
   "cell_type": "code",
   "execution_count": 10,
   "metadata": {},
   "outputs": [],
   "source": [
    "class Data(torch.utils.data.Dataset):\n",
    "    \n",
    "    def __init__(self, num):\n",
    "        \n",
    "        X = torch.randn(num,2)\n",
    "        #region = close_to_region(Xold)\n",
    "        \n",
    "        self.location = X\n",
    "        self.num_pts = num\n",
    "        #self.region = region\n",
    "        \n",
    "    def __len__(self):\n",
    "        ### How many data points are there?\n",
    "        return self.num_pts\n",
    "    \n",
    "    def __getitem__(self, index):\n",
    "        ### Gets one sample of data\n",
    "        ### \n",
    "        return self.location[index,:], index\n"
   ]
  },
  {
   "cell_type": "code",
   "execution_count": 56,
   "metadata": {},
   "outputs": [],
   "source": [
    "X = Data(10)\n",
    "\n",
    "Batch = torch.utils.data.DataLoader(X, batch_size=2, shuffle=True)"
   ]
  },
  {
   "cell_type": "code",
   "execution_count": 61,
   "metadata": {},
   "outputs": [
    {
     "name": "stdout",
     "output_type": "stream",
     "text": [
      "torch.Size([2])\n",
      "tensor([ 1.0808, -0.9571])\n",
      "torch.Size([2])\n",
      "tensor([ 1.0808, -0.9571])\n",
      "torch.Size([2])\n",
      "tensor([ 1.0808, -0.9571])\n",
      "torch.Size([2])\n",
      "tensor([ 1.0808, -0.9571])\n",
      "torch.Size([2])\n",
      "tensor([ 1.0808, -0.9571])\n"
     ]
    }
   ],
   "source": [
    "for Xbatch, index in Batch:\n",
    "    print(index.size())\n",
    "    print(X.location[0])"
   ]
  },
  {
   "cell_type": "code",
   "execution_count": 52,
   "metadata": {},
   "outputs": [
    {
     "data": {
      "text/plain": [
       "tensor([0])"
      ]
     },
     "execution_count": 52,
     "metadata": {},
     "output_type": "execute_result"
    }
   ],
   "source": [
    "index[ torch.randn(2) < 0 ]"
   ]
  },
  {
   "cell_type": "code",
   "execution_count": 39,
   "metadata": {},
   "outputs": [
    {
     "data": {
      "text/plain": [
       "tensor([0, 8, 0])"
      ]
     },
     "execution_count": 39,
     "metadata": {},
     "output_type": "execute_result"
    }
   ],
   "source": [
    "torch.cat(( index, torch.tensor( [1024] , dtype=torch.int8) ))"
   ]
  },
  {
   "cell_type": "code",
   "execution_count": 2,
   "metadata": {},
   "outputs": [],
   "source": [
    "B = torch.tensor( [1024], dtype=torch.int64)"
   ]
  },
  {
   "cell_type": "code",
   "execution_count": 4,
   "metadata": {},
   "outputs": [],
   "source": [
    "B = B.to('cpu')"
   ]
  },
  {
   "cell_type": "code",
   "execution_count": null,
   "metadata": {},
   "outputs": [],
   "source": []
  }
 ],
 "metadata": {
  "kernelspec": {
   "display_name": "Python 3.10.6 64-bit",
   "language": "python",
   "name": "python3"
  },
  "language_info": {
   "codemirror_mode": {
    "name": "ipython",
    "version": 3
   },
   "file_extension": ".py",
   "mimetype": "text/x-python",
   "name": "python",
   "nbconvert_exporter": "python",
   "pygments_lexer": "ipython3",
   "version": "3.10.6"
  },
  "orig_nbformat": 4,
  "vscode": {
   "interpreter": {
    "hash": "916dbcbb3f70747c44a77c7bcd40155683ae19c65e1c03b4aa3499c5328201f1"
   }
  }
 },
 "nbformat": 4,
 "nbformat_minor": 2
}
