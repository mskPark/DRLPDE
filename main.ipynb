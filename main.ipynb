{
 "cells": [
  {
   "cell_type": "code",
   "execution_count": 1,
   "metadata": {},
   "outputs": [
    {
     "name": "stdout",
     "output_type": "stream",
     "text": [
      "step = 2000 of 20000, Elapsed Time: 5 min, Time to Go:45 min\n",
      "step = 4000 of 20000, Elapsed Time:10 min, Time to Go:40 min\n",
      "step = 6000 of 20000, Elapsed Time:15 min, Time to Go:35 min\n",
      "step = 8000 of 20000, Elapsed Time:20 min, Time to Go:30 min\n",
      "step = 10000 of 20000, Elapsed Time:25 min, Time to Go:25 min\n",
      "step = 12000 of 20000, Elapsed Time:30 min, Time to Go:20 min\n",
      "step = 14000 of 20000, Elapsed Time:35 min, Time to Go:15 min\n",
      "step = 16000 of 20000, Elapsed Time:40 min, Time to Go:10 min\n",
      "step = 18000 of 20000, Elapsed Time:45 min, Time to Go: 5 min\n",
      "Done\n",
      "Time to train:  50 minutes\n"
     ]
    }
   ],
   "source": [
    "import time\n",
    "import DRLPDE.main\n",
    "\n",
    "start = time.time()\n",
    "model = DRLPDE.main.solvePDE('JCPexample6',\n",
    "                             loadmodel='',  \n",
    "                             savemodel='thesis6',\n",
    "                             neuralnetwork='ResNetIncompressible')\n",
    "\n",
    "end = time.time()\n",
    "print('Time to train: {:3.0f} minutes'.format((end - start)/60))"
   ]
  },
  {
   "cell_type": "code",
   "execution_count": 1,
   "metadata": {},
   "outputs": [
    {
     "data": {
      "text/plain": [
       "tensor([[-0.2052, -0.4922],\n",
       "        [-0.2858, -0.2158],\n",
       "        [-0.3267, -0.2878],\n",
       "        [-0.4817, -0.0250],\n",
       "        [-0.4899,  0.0073],\n",
       "        [-0.4748, -0.0614],\n",
       "        [-0.3692,  0.3953],\n",
       "        [-0.3201, -0.4209],\n",
       "        [-0.4797, -0.1542],\n",
       "        [ 0.1099, -0.1277],\n",
       "        [-0.1830, -0.5222],\n",
       "        [ 0.1437, -0.1785],\n",
       "        [-0.3464,  0.4287],\n",
       "        [-0.2498, -0.2306],\n",
       "        [-0.3728,  0.3891],\n",
       "        [-0.3711,  0.1597],\n",
       "        [-0.4617,  0.0781],\n",
       "        [-0.3908,  0.3336],\n",
       "        [ 0.0809, -0.2213],\n",
       "        [-0.1804, -0.5888]], grad_fn=<AddmmBackward0>)"
      ]
     },
     "execution_count": 1,
     "metadata": {},
     "output_type": "execute_result"
    }
   ],
   "source": [
    "import DRLPDE.neuralnets as nn\n",
    "import torch\n",
    "\n",
    "model = nn.ResNetNN([2], 2, 4, 32)\n",
    "\n",
    "X = torch.randn((20,2))\n",
    "\n",
    "model(X)"
   ]
  },
  {
   "cell_type": "code",
   "execution_count": null,
   "metadata": {},
   "outputs": [],
   "source": []
  },
  {
   "cell_type": "code",
   "execution_count": null,
   "metadata": {},
   "outputs": [],
   "source": [
    "import time\n",
    "import DRLPDE.main\n",
    "\n",
    "start = time.time()\n",
    "model = DRLPDE.main.solvePDE('JCPexample3',\n",
    "                             loadmodel='', \n",
    "                             savemodel='thesis3',\n",
    "                             neuralnetwork='Incompressible')\n",
    "\n",
    "end = time.time()\n",
    "print('Time to train: {:3.0f} minutes'.format((end - start)/60))"
   ]
  },
  {
   "cell_type": "code",
   "execution_count": null,
   "metadata": {},
   "outputs": [],
   "source": [
    "import time\n",
    "import DRLPDE.main\n",
    "\n",
    "start = time.time()\n",
    "model = DRLPDE.main.solvePDE('JCPexample4',\n",
    "                             loadmodel='', \n",
    "                             savemodel='thesis4',\n",
    "                             neuralnetwork='Incompressible')\n",
    "\n",
    "end = time.time()\n",
    "print('Time to train: {:3.0f} minutes'.format((end - start)/60))"
   ]
  },
  {
   "cell_type": "code",
   "execution_count": null,
   "metadata": {},
   "outputs": [],
   "source": [
    "import time\n",
    "import DRLPDE.main\n",
    "\n",
    "start = time.time()\n",
    "model = DRLPDE.main.solvePDE('JCPexample5',\n",
    "                             loadmodel='', \n",
    "                             savemodel='thesis5',\n",
    "                             neuralnetwork='Incompressible')\n",
    "\n",
    "end = time.time()\n",
    "print('Time to train: {:3.0f} minutes'.format((end - start)/60))"
   ]
  },
  {
   "cell_type": "code",
   "execution_count": null,
   "metadata": {},
   "outputs": [],
   "source": [
    "import time\n",
    "import DRLPDE.main\n",
    "\n",
    "start = time.time()\n",
    "model = DRLPDE.main.solvePDE('JCPexample6',\n",
    "                             loadmodel='', \n",
    "                             savemodel='thesis6',\n",
    "                             neuralnetwork='Incompressible')\n",
    "\n",
    "end = time.time()\n",
    "print('Time to train: {:3.0f} minutes'.format((end - start)/60))"
   ]
  },
  {
   "cell_type": "code",
   "execution_count": null,
   "metadata": {},
   "outputs": [],
   "source": []
  }
 ],
 "metadata": {
  "kernelspec": {
   "display_name": "Python 3",
   "language": "python",
   "name": "python3"
  },
  "language_info": {
   "codemirror_mode": {
    "name": "ipython",
    "version": 3
   },
   "file_extension": ".py",
   "mimetype": "text/x-python",
   "name": "python",
   "nbconvert_exporter": "python",
   "pygments_lexer": "ipython3",
   "version": "3.10.4"
  },
  "orig_nbformat": 4
 },
 "nbformat": 4,
 "nbformat_minor": 2
}
