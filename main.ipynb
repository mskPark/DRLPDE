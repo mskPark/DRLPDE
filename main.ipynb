{
 "cells": [
  {
   "cell_type": "code",
   "execution_count": 2,
   "metadata": {},
   "outputs": [
    {
     "name": "stdout",
     "output_type": "stream",
     "text": [
      "step = 100 of 1000, Elapsed Time: 1 min, Time to Go:11 min\n",
      "step = 200 of 1000, Elapsed Time: 2 min, Time to Go:10 min\n",
      "step = 300 of 1000, Elapsed Time: 4 min, Time to Go: 8 min\n",
      "step = 400 of 1000, Elapsed Time: 5 min, Time to Go: 7 min\n",
      "step = 500 of 1000, Elapsed Time: 6 min, Time to Go: 6 min\n",
      "step = 600 of 1000, Elapsed Time: 7 min, Time to Go: 5 min\n",
      "step = 700 of 1000, Elapsed Time: 8 min, Time to Go: 4 min\n",
      "step = 800 of 1000, Elapsed Time: 9 min, Time to Go: 2 min\n",
      "step = 900 of 1000, Elapsed Time:11 min, Time to Go: 1 min\n",
      "Done\n",
      "Time to train:  12 minutes\n"
     ]
    }
   ],
   "source": [
    "import time\n",
    "import DRLPDE.main\n",
    "\n",
    "start = time.time()\n",
    "model = DRLPDE.main.solvePDE('JCPexample3',\n",
    "                             loadmodel='',  \n",
    "                             savemodel='testJCP3',\n",
    "                             neuralnetwork='ResNetIncompressible',\n",
    "                             trainingsteps= 1e3)\n",
    "\n",
    "end = time.time()\n",
    "print('Time to train: {:3.0f} minutes'.format((end - start)/60))"
   ]
  },
  {
   "cell_type": "code",
   "execution_count": 2,
   "metadata": {},
   "outputs": [
    {
     "name": "stdout",
     "output_type": "stream",
     "text": [
      "step = 10000 of 100000, Elapsed Time:87 min, Time to Go:782 min\n",
      "step = 20000 of 100000, Elapsed Time:173 min, Time to Go:691 min\n",
      "step = 30000 of 100000, Elapsed Time:259 min, Time to Go:603 min\n",
      "step = 40000 of 100000, Elapsed Time:344 min, Time to Go:516 min\n",
      "step = 50000 of 100000, Elapsed Time:430 min, Time to Go:430 min\n",
      "step = 60000 of 100000, Elapsed Time:516 min, Time to Go:344 min\n",
      "step = 70000 of 100000, Elapsed Time:602 min, Time to Go:258 min\n",
      "step = 80000 of 100000, Elapsed Time:689 min, Time to Go:172 min\n",
      "step = 90000 of 100000, Elapsed Time:776 min, Time to Go:86 min\n",
      "Done\n",
      "Time to train: 864 minutes\n"
     ]
    }
   ],
   "source": [
    "import time\n",
    "import DRLPDE.main\n",
    "\n",
    "start = time.time()\n",
    "model = DRLPDE.main.solvePDE('JCPexample6',\n",
    "                             loadmodel='',  \n",
    "                             savemodel='Longrun6',\n",
    "                             neuralnetwork='ResNetIncompressible',\n",
    "                             trainingsteps= 1e5)\n",
    "\n",
    "end = time.time()\n",
    "print('Time to train: {:3.0f} minutes'.format((end - start)/60))"
   ]
  },
  {
   "cell_type": "code",
   "execution_count": 3,
   "metadata": {},
   "outputs": [
    {
     "name": "stdout",
     "output_type": "stream",
     "text": [
      "step = 1000 of 10000, Elapsed Time:13 min, Time to Go:121 min\n",
      "step = 2000 of 10000, Elapsed Time:27 min, Time to Go:107 min\n",
      "step = 3000 of 10000, Elapsed Time:40 min, Time to Go:94 min\n",
      "step = 4000 of 10000, Elapsed Time:54 min, Time to Go:80 min\n",
      "step = 5000 of 10000, Elapsed Time:67 min, Time to Go:67 min\n",
      "step = 6000 of 10000, Elapsed Time:80 min, Time to Go:54 min\n",
      "step = 7000 of 10000, Elapsed Time:94 min, Time to Go:40 min\n",
      "step = 8000 of 10000, Elapsed Time:107 min, Time to Go:27 min\n",
      "step = 9000 of 10000, Elapsed Time:121 min, Time to Go:13 min\n",
      "Done\n",
      "Time to train: 134 minutes\n"
     ]
    }
   ],
   "source": [
    "import time\n",
    "import DRLPDE.main\n",
    "\n",
    "start = time.time()\n",
    "model = DRLPDE.main.solvePDE('JCPexample2',\n",
    "                             loadmodel='',  \n",
    "                             savemodel='thesis2',\n",
    "                             neuralnetwork='ResNetIncompressible')\n",
    "\n",
    "end = time.time()\n",
    "print('Time to train: {:3.0f} minutes'.format((end - start)/60))"
   ]
  },
  {
   "cell_type": "code",
   "execution_count": 4,
   "metadata": {},
   "outputs": [
    {
     "name": "stdout",
     "output_type": "stream",
     "text": [
      "step = 1000 of 10000, Elapsed Time:11 min, Time to Go:101 min\n",
      "step = 2000 of 10000, Elapsed Time:23 min, Time to Go:90 min\n",
      "step = 3000 of 10000, Elapsed Time:34 min, Time to Go:79 min\n",
      "step = 4000 of 10000, Elapsed Time:45 min, Time to Go:68 min\n",
      "step = 5000 of 10000, Elapsed Time:56 min, Time to Go:56 min\n",
      "step = 6000 of 10000, Elapsed Time:68 min, Time to Go:45 min\n",
      "step = 7000 of 10000, Elapsed Time:79 min, Time to Go:34 min\n",
      "step = 8000 of 10000, Elapsed Time:90 min, Time to Go:23 min\n",
      "step = 9000 of 10000, Elapsed Time:101 min, Time to Go:11 min\n",
      "Done\n",
      "Time to train: 113 minutes\n"
     ]
    }
   ],
   "source": [
    "import time\n",
    "import DRLPDE.main\n",
    "\n",
    "start = time.time()\n",
    "model = DRLPDE.main.solvePDE('JCPexample3',\n",
    "                             loadmodel='',  \n",
    "                             savemodel='thesis3',\n",
    "                             neuralnetwork='ResNetIncompressible')\n",
    "\n",
    "end = time.time()\n",
    "print('Time to train: {:3.0f} minutes'.format((end - start)/60))"
   ]
  },
  {
   "cell_type": "code",
   "execution_count": 1,
   "metadata": {},
   "outputs": [
    {
     "name": "stdout",
     "output_type": "stream",
     "text": [
      "step = 1000 of 10000, Elapsed Time:10 min, Time to Go:89 min\n",
      "step = 2000 of 10000, Elapsed Time:20 min, Time to Go:79 min\n"
     ]
    },
    {
     "ename": "KeyboardInterrupt",
     "evalue": "",
     "output_type": "error",
     "traceback": [
      "\u001b[1;31m---------------------------------------------------------------------------\u001b[0m",
      "\u001b[1;31mKeyboardInterrupt\u001b[0m                         Traceback (most recent call last)",
      "\u001b[1;32mc:\\Users\\Kevin\\Documents\\GitHub\\DRLPDE\\main.ipynb Cell 5\u001b[0m line \u001b[0;36m<cell line: 5>\u001b[1;34m()\u001b[0m\n\u001b[0;32m      <a href='vscode-notebook-cell:/c%3A/Users/Kevin/Documents/GitHub/DRLPDE/main.ipynb#X14sZmlsZQ%3D%3D?line=1'>2</a>\u001b[0m \u001b[39mimport\u001b[39;00m \u001b[39mDRLPDE\u001b[39;00m\u001b[39m.\u001b[39;00m\u001b[39mmain\u001b[39;00m\n\u001b[0;32m      <a href='vscode-notebook-cell:/c%3A/Users/Kevin/Documents/GitHub/DRLPDE/main.ipynb#X14sZmlsZQ%3D%3D?line=3'>4</a>\u001b[0m start \u001b[39m=\u001b[39m time\u001b[39m.\u001b[39mtime()\n\u001b[1;32m----> <a href='vscode-notebook-cell:/c%3A/Users/Kevin/Documents/GitHub/DRLPDE/main.ipynb#X14sZmlsZQ%3D%3D?line=4'>5</a>\u001b[0m model \u001b[39m=\u001b[39m DRLPDE\u001b[39m.\u001b[39;49mmain\u001b[39m.\u001b[39;49msolvePDE(\u001b[39m'\u001b[39;49m\u001b[39mJCPexample4\u001b[39;49m\u001b[39m'\u001b[39;49m,\n\u001b[0;32m      <a href='vscode-notebook-cell:/c%3A/Users/Kevin/Documents/GitHub/DRLPDE/main.ipynb#X14sZmlsZQ%3D%3D?line=5'>6</a>\u001b[0m                              loadmodel\u001b[39m=\u001b[39;49m\u001b[39m'\u001b[39;49m\u001b[39m'\u001b[39;49m,  \n\u001b[0;32m      <a href='vscode-notebook-cell:/c%3A/Users/Kevin/Documents/GitHub/DRLPDE/main.ipynb#X14sZmlsZQ%3D%3D?line=6'>7</a>\u001b[0m                              savemodel\u001b[39m=\u001b[39;49m\u001b[39m'\u001b[39;49m\u001b[39mthesis4\u001b[39;49m\u001b[39m'\u001b[39;49m,\n\u001b[0;32m      <a href='vscode-notebook-cell:/c%3A/Users/Kevin/Documents/GitHub/DRLPDE/main.ipynb#X14sZmlsZQ%3D%3D?line=7'>8</a>\u001b[0m                              neuralnetwork\u001b[39m=\u001b[39;49m\u001b[39m'\u001b[39;49m\u001b[39mResNetIncompressible\u001b[39;49m\u001b[39m'\u001b[39;49m)\n\u001b[0;32m     <a href='vscode-notebook-cell:/c%3A/Users/Kevin/Documents/GitHub/DRLPDE/main.ipynb#X14sZmlsZQ%3D%3D?line=9'>10</a>\u001b[0m end \u001b[39m=\u001b[39m time\u001b[39m.\u001b[39mtime()\n\u001b[0;32m     <a href='vscode-notebook-cell:/c%3A/Users/Kevin/Documents/GitHub/DRLPDE/main.ipynb#X14sZmlsZQ%3D%3D?line=10'>11</a>\u001b[0m \u001b[39mprint\u001b[39m(\u001b[39m'\u001b[39m\u001b[39mTime to train: \u001b[39m\u001b[39m{:3.0f}\u001b[39;00m\u001b[39m minutes\u001b[39m\u001b[39m'\u001b[39m\u001b[39m.\u001b[39mformat((end \u001b[39m-\u001b[39m start)\u001b[39m/\u001b[39m\u001b[39m60\u001b[39m))\n",
      "File \u001b[1;32mc:\\Users\\Kevin\\Documents\\GitHub\\DRLPDE\\DRLPDE\\main.py:251\u001b[0m, in \u001b[0;36msolvePDE\u001b[1;34m(parameters, **solver)\u001b[0m\n\u001b[0;32m    248\u001b[0m squaredlosses[step,:,:] \u001b[39m=\u001b[39m Points\u001b[39m.\u001b[39mTrainL2LinfLoss(model, Domain, dev, numbatch, squaredlosses[step\u001b[39m-\u001b[39m\u001b[39m1\u001b[39m,:,:], importance_sampling)\n\u001b[0;32m    250\u001b[0m \u001b[39mif\u001b[39;00m collect_error:\n\u001b[1;32m--> 251\u001b[0m     squarederrors[step\u001b[39m+\u001b[39m\u001b[39m1\u001b[39m,:,:] \u001b[39m=\u001b[39m ErrorPoints\u001b[39m.\u001b[39;49mCalculateError(model, dev, numbatch)\n\u001b[0;32m    253\u001b[0m \u001b[39mif\u001b[39;00m walk:\n\u001b[0;32m    254\u001b[0m     Points\u001b[39m.\u001b[39mtoTrain[\u001b[39m0\u001b[39m]\u001b[39m.\u001b[39mlocation \u001b[39m=\u001b[39m stochastic\u001b[39m.\u001b[39mwalk( Points\u001b[39m.\u001b[39mtoTrain[\u001b[39m0\u001b[39m], num, model, Domain, dev,\n\u001b[0;32m    255\u001b[0m                                                     problem_parameters[\u001b[39m'\u001b[39m\u001b[39minput_dim\u001b[39m\u001b[39m'\u001b[39m], \n\u001b[0;32m    256\u001b[0m                                                     problem_parameters[\u001b[39m'\u001b[39m\u001b[39minput_range\u001b[39m\u001b[39m'\u001b[39m],\n\u001b[0;32m    257\u001b[0m                                                     \u001b[39m*\u001b[39m\u001b[39m*\u001b[39mproblem_parameters[\u001b[39m'\u001b[39m\u001b[39mvar_train\u001b[39m\u001b[39m'\u001b[39m])\n",
      "File \u001b[1;32mc:\\Users\\Kevin\\Documents\\GitHub\\DRLPDE\\DRLPDE\\create.py:479\u001b[0m, in \u001b[0;36mforError.CalculateError\u001b[1;34m(self, model, dev, numbatch)\u001b[0m\n\u001b[0;32m    476\u001b[0m V \u001b[39m=\u001b[39m torch\u001b[39m.\u001b[39mtensor(\u001b[39m0.0\u001b[39m, device\u001b[39m=\u001b[39mdev)\n\u001b[0;32m    478\u001b[0m \u001b[39m# Do in batches\u001b[39;00m\n\u001b[1;32m--> 479\u001b[0m \u001b[39mfor\u001b[39;00m X, index \u001b[39min\u001b[39;00m Batch:\n\u001b[0;32m    481\u001b[0m     Y \u001b[39m=\u001b[39m model(X\u001b[39m.\u001b[39mrequires_grad_())\n\u001b[0;32m    482\u001b[0m     Ytrue \u001b[39m=\u001b[39m \u001b[39mself\u001b[39m\u001b[39m.\u001b[39mtrue(X\u001b[39m.\u001b[39mrequires_grad_())\n",
      "File \u001b[1;32mc:\\Users\\Kevin\\AppData\\Local\\Programs\\Python\\Python310\\lib\\site-packages\\torch\\utils\\data\\dataloader.py:530\u001b[0m, in \u001b[0;36m_BaseDataLoaderIter.__next__\u001b[1;34m(self)\u001b[0m\n\u001b[0;32m    528\u001b[0m \u001b[39mif\u001b[39;00m \u001b[39mself\u001b[39m\u001b[39m.\u001b[39m_sampler_iter \u001b[39mis\u001b[39;00m \u001b[39mNone\u001b[39;00m:\n\u001b[0;32m    529\u001b[0m     \u001b[39mself\u001b[39m\u001b[39m.\u001b[39m_reset()\n\u001b[1;32m--> 530\u001b[0m data \u001b[39m=\u001b[39m \u001b[39mself\u001b[39;49m\u001b[39m.\u001b[39;49m_next_data()\n\u001b[0;32m    531\u001b[0m \u001b[39mself\u001b[39m\u001b[39m.\u001b[39m_num_yielded \u001b[39m+\u001b[39m\u001b[39m=\u001b[39m \u001b[39m1\u001b[39m\n\u001b[0;32m    532\u001b[0m \u001b[39mif\u001b[39;00m \u001b[39mself\u001b[39m\u001b[39m.\u001b[39m_dataset_kind \u001b[39m==\u001b[39m _DatasetKind\u001b[39m.\u001b[39mIterable \u001b[39mand\u001b[39;00m \\\n\u001b[0;32m    533\u001b[0m         \u001b[39mself\u001b[39m\u001b[39m.\u001b[39m_IterableDataset_len_called \u001b[39mis\u001b[39;00m \u001b[39mnot\u001b[39;00m \u001b[39mNone\u001b[39;00m \u001b[39mand\u001b[39;00m \\\n\u001b[0;32m    534\u001b[0m         \u001b[39mself\u001b[39m\u001b[39m.\u001b[39m_num_yielded \u001b[39m>\u001b[39m \u001b[39mself\u001b[39m\u001b[39m.\u001b[39m_IterableDataset_len_called:\n",
      "File \u001b[1;32mc:\\Users\\Kevin\\AppData\\Local\\Programs\\Python\\Python310\\lib\\site-packages\\torch\\utils\\data\\dataloader.py:570\u001b[0m, in \u001b[0;36m_SingleProcessDataLoaderIter._next_data\u001b[1;34m(self)\u001b[0m\n\u001b[0;32m    568\u001b[0m \u001b[39mdef\u001b[39;00m \u001b[39m_next_data\u001b[39m(\u001b[39mself\u001b[39m):\n\u001b[0;32m    569\u001b[0m     index \u001b[39m=\u001b[39m \u001b[39mself\u001b[39m\u001b[39m.\u001b[39m_next_index()  \u001b[39m# may raise StopIteration\u001b[39;00m\n\u001b[1;32m--> 570\u001b[0m     data \u001b[39m=\u001b[39m \u001b[39mself\u001b[39;49m\u001b[39m.\u001b[39;49m_dataset_fetcher\u001b[39m.\u001b[39;49mfetch(index)  \u001b[39m# may raise StopIteration\u001b[39;00m\n\u001b[0;32m    571\u001b[0m     \u001b[39mif\u001b[39;00m \u001b[39mself\u001b[39m\u001b[39m.\u001b[39m_pin_memory:\n\u001b[0;32m    572\u001b[0m         data \u001b[39m=\u001b[39m _utils\u001b[39m.\u001b[39mpin_memory\u001b[39m.\u001b[39mpin_memory(data)\n",
      "File \u001b[1;32mc:\\Users\\Kevin\\AppData\\Local\\Programs\\Python\\Python310\\lib\\site-packages\\torch\\utils\\data\\_utils\\fetch.py:49\u001b[0m, in \u001b[0;36m_MapDatasetFetcher.fetch\u001b[1;34m(self, possibly_batched_index)\u001b[0m\n\u001b[0;32m     47\u001b[0m \u001b[39mdef\u001b[39;00m \u001b[39mfetch\u001b[39m(\u001b[39mself\u001b[39m, possibly_batched_index):\n\u001b[0;32m     48\u001b[0m     \u001b[39mif\u001b[39;00m \u001b[39mself\u001b[39m\u001b[39m.\u001b[39mauto_collation:\n\u001b[1;32m---> 49\u001b[0m         data \u001b[39m=\u001b[39m [\u001b[39mself\u001b[39m\u001b[39m.\u001b[39mdataset[idx] \u001b[39mfor\u001b[39;00m idx \u001b[39min\u001b[39;00m possibly_batched_index]\n\u001b[0;32m     50\u001b[0m     \u001b[39melse\u001b[39;00m:\n\u001b[0;32m     51\u001b[0m         data \u001b[39m=\u001b[39m \u001b[39mself\u001b[39m\u001b[39m.\u001b[39mdataset[possibly_batched_index]\n",
      "File \u001b[1;32mc:\\Users\\Kevin\\AppData\\Local\\Programs\\Python\\Python310\\lib\\site-packages\\torch\\utils\\data\\_utils\\fetch.py:49\u001b[0m, in \u001b[0;36m<listcomp>\u001b[1;34m(.0)\u001b[0m\n\u001b[0;32m     47\u001b[0m \u001b[39mdef\u001b[39;00m \u001b[39mfetch\u001b[39m(\u001b[39mself\u001b[39m, possibly_batched_index):\n\u001b[0;32m     48\u001b[0m     \u001b[39mif\u001b[39;00m \u001b[39mself\u001b[39m\u001b[39m.\u001b[39mauto_collation:\n\u001b[1;32m---> 49\u001b[0m         data \u001b[39m=\u001b[39m [\u001b[39mself\u001b[39;49m\u001b[39m.\u001b[39;49mdataset[idx] \u001b[39mfor\u001b[39;00m idx \u001b[39min\u001b[39;00m possibly_batched_index]\n\u001b[0;32m     50\u001b[0m     \u001b[39melse\u001b[39;00m:\n\u001b[0;32m     51\u001b[0m         data \u001b[39m=\u001b[39m \u001b[39mself\u001b[39m\u001b[39m.\u001b[39mdataset[possibly_batched_index]\n",
      "File \u001b[1;32mc:\\Users\\Kevin\\Documents\\GitHub\\DRLPDE\\DRLPDE\\create.py:547\u001b[0m, in \u001b[0;36mInteriorPoints.__getitem__\u001b[1;34m(self, index)\u001b[0m\n\u001b[0;32m    543\u001b[0m \u001b[39mdef\u001b[39;00m \u001b[39m__len__\u001b[39m(\u001b[39mself\u001b[39m):\n\u001b[0;32m    544\u001b[0m     \u001b[39m# How many data points are there?\u001b[39;00m\n\u001b[0;32m    545\u001b[0m     \u001b[39mreturn\u001b[39;00m \u001b[39mself\u001b[39m\u001b[39m.\u001b[39mnum_pts\n\u001b[1;32m--> 547\u001b[0m \u001b[39mdef\u001b[39;00m \u001b[39m__getitem__\u001b[39m(\u001b[39mself\u001b[39m, index):\n\u001b[0;32m    548\u001b[0m     \u001b[39m# Retrieves one sample of data\u001b[39;00m\n\u001b[0;32m    549\u001b[0m     \u001b[39mreturn\u001b[39;00m \u001b[39mself\u001b[39m\u001b[39m.\u001b[39mlocation[index,:], index\n",
      "\u001b[1;31mKeyboardInterrupt\u001b[0m: "
     ]
    }
   ],
   "source": [
    "import time\n",
    "import DRLPDE.main\n",
    "\n",
    "start = time.time()\n",
    "model = DRLPDE.main.solvePDE('JCPexample4',\n",
    "                             loadmodel='',  \n",
    "                             savemodel='thesis4',\n",
    "                             neuralnetwork='ResNetIncompressible')\n",
    "\n",
    "end = time.time()\n",
    "print('Time to train: {:3.0f} minutes'.format((end - start)/60))"
   ]
  },
  {
   "cell_type": "code",
   "execution_count": 6,
   "metadata": {},
   "outputs": [
    {
     "name": "stdout",
     "output_type": "stream",
     "text": [
      "step = 1000 of 10000, Elapsed Time: 7 min, Time to Go:62 min\n",
      "step = 2000 of 10000, Elapsed Time:14 min, Time to Go:55 min\n",
      "step = 3000 of 10000, Elapsed Time:21 min, Time to Go:48 min\n",
      "step = 4000 of 10000, Elapsed Time:28 min, Time to Go:42 min\n",
      "step = 5000 of 10000, Elapsed Time:35 min, Time to Go:35 min\n",
      "step = 6000 of 10000, Elapsed Time:42 min, Time to Go:28 min\n",
      "step = 7000 of 10000, Elapsed Time:48 min, Time to Go:21 min\n",
      "step = 8000 of 10000, Elapsed Time:55 min, Time to Go:14 min\n",
      "step = 9000 of 10000, Elapsed Time:62 min, Time to Go: 7 min\n",
      "Done\n",
      "Time to train:  69 minutes\n"
     ]
    }
   ],
   "source": [
    "import time\n",
    "import DRLPDE.main\n",
    "\n",
    "start = time.time()\n",
    "model = DRLPDE.main.solvePDE('JCPexample5',\n",
    "                             loadmodel='',  \n",
    "                             savemodel='thesis5',\n",
    "                             neuralnetwork='ResNetIncompressible')\n",
    "\n",
    "end = time.time()\n",
    "print('Time to train: {:3.0f} minutes'.format((end - start)/60))"
   ]
  },
  {
   "cell_type": "code",
   "execution_count": 7,
   "metadata": {},
   "outputs": [
    {
     "name": "stdout",
     "output_type": "stream",
     "text": [
      "step = 1000 of 10000, Elapsed Time: 6 min, Time to Go:54 min\n",
      "step = 2000 of 10000, Elapsed Time:12 min, Time to Go:48 min\n",
      "step = 3000 of 10000, Elapsed Time:18 min, Time to Go:42 min\n",
      "step = 4000 of 10000, Elapsed Time:24 min, Time to Go:36 min\n",
      "step = 5000 of 10000, Elapsed Time:30 min, Time to Go:30 min\n",
      "step = 6000 of 10000, Elapsed Time:36 min, Time to Go:24 min\n",
      "step = 7000 of 10000, Elapsed Time:42 min, Time to Go:18 min\n",
      "step = 8000 of 10000, Elapsed Time:48 min, Time to Go:12 min\n",
      "step = 9000 of 10000, Elapsed Time:54 min, Time to Go: 6 min\n",
      "Done\n",
      "Time to train:  60 minutes\n"
     ]
    }
   ],
   "source": [
    "import time\n",
    "import DRLPDE.main\n",
    "\n",
    "start = time.time()\n",
    "model = DRLPDE.main.solvePDE('JCPexample1',\n",
    "                             loadmodel='',  \n",
    "                             savemodel='thesis1',\n",
    "                             neuralnetwork='ResNetIncompressible')\n",
    "\n",
    "end = time.time()\n",
    "print('Time to train: {:3.0f} minutes'.format((end - start)/60))"
   ]
  },
  {
   "cell_type": "code",
   "execution_count": null,
   "metadata": {},
   "outputs": [],
   "source": [
    "import time\n",
    "import DRLPDE.main\n",
    "\n",
    "start = time.time()\n",
    "model = DRLPDE.main.solvePDE('JCPexample3',\n",
    "                             loadmodel='', \n",
    "                             savemodel='thesis3',\n",
    "                             neuralnetwork='Incompressible')\n",
    "\n",
    "end = time.time()\n",
    "print('Time to train: {:3.0f} minutes'.format((end - start)/60))"
   ]
  },
  {
   "cell_type": "code",
   "execution_count": null,
   "metadata": {},
   "outputs": [],
   "source": [
    "import time\n",
    "import DRLPDE.main\n",
    "\n",
    "start = time.time()\n",
    "model = DRLPDE.main.solvePDE('JCPexample4',\n",
    "                             loadmodel='', \n",
    "                             savemodel='thesis4',\n",
    "                             neuralnetwork='Incompressible')\n",
    "\n",
    "end = time.time()\n",
    "print('Time to train: {:3.0f} minutes'.format((end - start)/60))"
   ]
  },
  {
   "cell_type": "code",
   "execution_count": null,
   "metadata": {},
   "outputs": [],
   "source": [
    "import time\n",
    "import DRLPDE.main\n",
    "\n",
    "start = time.time()\n",
    "model = DRLPDE.main.solvePDE('JCPexample5',\n",
    "                             loadmodel='', \n",
    "                             savemodel='thesis5',\n",
    "                             neuralnetwork='Incompressible')\n",
    "\n",
    "end = time.time()\n",
    "print('Time to train: {:3.0f} minutes'.format((end - start)/60))"
   ]
  },
  {
   "cell_type": "code",
   "execution_count": null,
   "metadata": {},
   "outputs": [],
   "source": [
    "import time\n",
    "import DRLPDE.main\n",
    "\n",
    "start = time.time()\n",
    "model = DRLPDE.main.solvePDE('JCPexample6',\n",
    "                             loadmodel='', \n",
    "                             savemodel='thesis6',\n",
    "                             neuralnetwork='Incompressible')\n",
    "\n",
    "end = time.time()\n",
    "print('Time to train: {:3.0f} minutes'.format((end - start)/60))"
   ]
  },
  {
   "cell_type": "code",
   "execution_count": null,
   "metadata": {},
   "outputs": [],
   "source": []
  }
 ],
 "metadata": {
  "kernelspec": {
   "display_name": "Python 3",
   "language": "python",
   "name": "python3"
  },
  "language_info": {
   "codemirror_mode": {
    "name": "ipython",
    "version": 3
   },
   "file_extension": ".py",
   "mimetype": "text/x-python",
   "name": "python",
   "nbconvert_exporter": "python",
   "pygments_lexer": "ipython3",
   "version": "3.10.4"
  },
  "orig_nbformat": 4
 },
 "nbformat": 4,
 "nbformat_minor": 2
}
