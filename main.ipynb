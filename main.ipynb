{
 "cells": [
  {
   "cell_type": "code",
   "execution_count": 1,
   "metadata": {},
   "outputs": [
    {
     "name": "stdout",
     "output_type": "stream",
     "text": [
      "step = 10000 of 100000, Elapsed Time:42 min, Time to Go:379 min\n",
      "step = 20000 of 100000, Elapsed Time:84 min, Time to Go:337 min\n",
      "step = 30000 of 100000, Elapsed Time:126 min, Time to Go:294 min\n",
      "step = 40000 of 100000, Elapsed Time:168 min, Time to Go:252 min\n",
      "step = 50000 of 100000, Elapsed Time:210 min, Time to Go:210 min\n",
      "step = 60000 of 100000, Elapsed Time:252 min, Time to Go:168 min\n",
      "step = 70000 of 100000, Elapsed Time:294 min, Time to Go:126 min\n",
      "step = 80000 of 100000, Elapsed Time:336 min, Time to Go:84 min\n",
      "step = 90000 of 100000, Elapsed Time:378 min, Time to Go:42 min\n",
      "Done\n",
      "Time to train: 420 minutes\n"
     ]
    }
   ],
   "source": [
    "import time\n",
    "import DRLPDE.main\n",
    "\n",
    "start = time.time()\n",
    "model = DRLPDE.main.solvePDE('example1',\n",
    "                             savemodel='direct_feedforward',\n",
    "                             method={'type': 'direct'},\n",
    "                             neuralnetwork='FeedForward',\n",
    "                             trainingsteps= 1e5)\n",
    "\n",
    "end = time.time()\n",
    "print('Time to train: {:3.0f} minutes'.format((end - start)/60))"
   ]
  },
  {
   "cell_type": "code",
   "execution_count": 2,
   "metadata": {},
   "outputs": [
    {
     "name": "stdout",
     "output_type": "stream",
     "text": [
      "step = 10000 of 100000, Elapsed Time:44 min, Time to Go:400 min\n",
      "step = 20000 of 100000, Elapsed Time:89 min, Time to Go:355 min\n",
      "step = 30000 of 100000, Elapsed Time:133 min, Time to Go:310 min\n",
      "step = 40000 of 100000, Elapsed Time:177 min, Time to Go:266 min\n",
      "step = 50000 of 100000, Elapsed Time:222 min, Time to Go:222 min\n",
      "step = 60000 of 100000, Elapsed Time:266 min, Time to Go:177 min\n",
      "step = 70000 of 100000, Elapsed Time:311 min, Time to Go:133 min\n",
      "step = 80000 of 100000, Elapsed Time:355 min, Time to Go:89 min\n",
      "step = 90000 of 100000, Elapsed Time:399 min, Time to Go:44 min\n",
      "Done\n",
      "Time to train: 444 minutes\n"
     ]
    }
   ],
   "source": [
    "import time\n",
    "import DRLPDE.main\n",
    "\n",
    "start = time.time()\n",
    "model = DRLPDE.main.solvePDE('example1',\n",
    "                             savemodel='direct_resnet',\n",
    "                             method={'type': 'direct'},\n",
    "                             neuralnetwork='ResNet',\n",
    "                             trainingsteps= 1e5)\n",
    "\n",
    "end = time.time()\n",
    "print('Time to train: {:3.0f} minutes'.format((end - start)/60))"
   ]
  },
  {
   "cell_type": "code",
   "execution_count": 1,
   "metadata": {},
   "outputs": [
    {
     "name": "stdout",
     "output_type": "stream",
     "text": [
      "step = 10000 of 100000, Elapsed Time:60 min, Time to Go:540 min\n",
      "step = 20000 of 100000, Elapsed Time:120 min, Time to Go:478 min\n",
      "step = 30000 of 100000, Elapsed Time:179 min, Time to Go:418 min\n",
      "step = 40000 of 100000, Elapsed Time:239 min, Time to Go:358 min\n",
      "step = 50000 of 100000, Elapsed Time:298 min, Time to Go:298 min\n",
      "step = 60000 of 100000, Elapsed Time:358 min, Time to Go:239 min\n",
      "step = 70000 of 100000, Elapsed Time:418 min, Time to Go:179 min\n",
      "step = 80000 of 100000, Elapsed Time:477 min, Time to Go:119 min\n",
      "step = 90000 of 100000, Elapsed Time:537 min, Time to Go:60 min\n",
      "Done\n",
      "Time to train: 596 minutes\n"
     ]
    }
   ],
   "source": [
    "import time\n",
    "import DRLPDE.main\n",
    "\n",
    "start = time.time()\n",
    "model = DRLPDE.main.solvePDE('example1',\n",
    "                             savemodel='stochastic_resnet',\n",
    "                             neuralnetwork='ResNet',\n",
    "                             trainingsteps= 1e5)\n",
    "\n",
    "end = time.time()\n",
    "print('Time to train: {:3.0f} minutes'.format((end - start)/60))"
   ]
  },
  {
   "cell_type": "code",
   "execution_count": null,
   "metadata": {},
   "outputs": [],
   "source": []
  }
 ],
 "metadata": {
  "kernelspec": {
   "display_name": "Python 3",
   "language": "python",
   "name": "python3"
  },
  "language_info": {
   "codemirror_mode": {
    "name": "ipython",
    "version": 3
   },
   "file_extension": ".py",
   "mimetype": "text/x-python",
   "name": "python",
   "nbconvert_exporter": "python",
   "pygments_lexer": "ipython3",
   "version": "3.10.4"
  },
  "orig_nbformat": 4
 },
 "nbformat": 4,
 "nbformat_minor": 2
}
