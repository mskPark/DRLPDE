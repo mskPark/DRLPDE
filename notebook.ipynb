{
 "cells": [
  {
   "cell_type": "code",
   "execution_count": 1,
   "metadata": {},
   "outputs": [
    {
     "name": "stdout",
     "output_type": "stream",
     "text": [
      "step = 200 of 2000, Elapsed Time: 1 min, Time to Go:10 min\n",
      "step = 400 of 2000, Elapsed Time: 2 min, Time to Go: 9 min\n",
      "step = 600 of 2000, Elapsed Time: 4 min, Time to Go: 8 min\n",
      "step = 800 of 2000, Elapsed Time: 5 min, Time to Go: 7 min\n",
      "step = 1000 of 2000, Elapsed Time: 6 min, Time to Go: 6 min\n",
      "step = 1200 of 2000, Elapsed Time: 7 min, Time to Go: 5 min\n",
      "step = 1400 of 2000, Elapsed Time: 8 min, Time to Go: 4 min\n",
      "step = 1600 of 2000, Elapsed Time: 9 min, Time to Go: 2 min\n",
      "step = 1800 of 2000, Elapsed Time:11 min, Time to Go: 1 min\n",
      "Done\n",
      "Time to train:  12 minutes\n"
     ]
    }
   ],
   "source": [
    "import time\n",
    "import DRLPDE.main\n",
    "\n",
    "start = time.time()\n",
    "model = DRLPDE.main.solvePDE('example1',\n",
    "                             loadmodel='', \n",
    "                             savemodel='OneOptimizer1',\n",
    "                             nn_size= {'depth':4,\n",
    "                                       'width':64},\n",
    "                             numpts= 2**12,\n",
    "                             method= {'type': 'stochastic',\n",
    "                                      'dt':1e-3,\n",
    "                                      'num_ghost':256,\n",
    "                                      'tol':1e-6}, \n",
    "                             trainingsteps=2e3,\n",
    "                             learningrate=1e-2,\n",
    "                             inteior_weight= 1e0,\n",
    "                             bdry_weight=1e-1,\n",
    "                             resample_every= 1.1,\n",
    "                             reschedule_every = 1.1,\n",
    "                             walk= False,              \n",
    "                             importance_sampling= False)\n",
    "\n",
    "end = time.time()\n",
    "print('Time to train: {:3.0f} minutes'.format((end - start)/60))"
   ]
  },
  {
   "cell_type": "code",
   "execution_count": 2,
   "metadata": {},
   "outputs": [],
   "source": [
    "## Test results\n",
    "\n",
    "#'Baseline' : Direct training with lr 1e-4, bdry_lr=1e-5\n",
    "#'Resample' : Direct training with resample = 50\n",
    "#'Walk'     : Direct training with walk\n",
    "#'Standard' : Direct training with 4 x 64 architecture\n",
    "\n",
    "#'Stochastic': 4 x 64 architecture works better?\n",
    "# lr 1e-4, bdry_lr 1e-5 : Doesn't have good error on bdry\n",
    "# lr 1e-4, bdry_lr 1e-4 : Worse\n",
    "# Lots more points: error = 2^17, interior losss = 2^15 No improvement\n",
    "# Importance sampling: Every 20 No improvement\n",
    "# Scaled the loss by 1/dt: Loss + Error does not drop\n",
    "# lr 1e-2, bdry 1e-3 for 1000 steps too spiky\n",
    "# lr 1e-3, bdry 1e-4 Not great\n",
    "\n",
    "# SGD with momentum: Blows up\n",
    "\n",
    "# Adjust bdry orders of magnitude\n",
    "# lr 1e-3, bdry 1e-5: Better\n",
    "# lr 1e-2, bdry 1e-5: Not good\n",
    "# lr 1e-3, bdry 1e-6: Not good\n",
    "# It seems 3 orders of magnitude is too big\n",
    "# lr 1e-2, bdry 1e-4: Bad\n",
    "# lr 1e-4, bdry 1e-6: Alright\n",
    "\n",
    "# lr 1e-3, bdry 1e-5, ghost 64, training steps 3e4\n",
    "# lr 1e-4, bdry 1e-6, not good\n",
    "# lr 1e-4, bdry 1e-7, 100,000 steps: LOOKS LIKE SHIT\n",
    "#\n",
    "# Try changing dt\n",
    "\n",
    "# JCPexample1: \n",
    "#TODO JCPexample2\n",
    "#TODO JCPexample3\n",
    "#TODO JCPexample4\n",
    "#TODO JCPexample5\n",
    "#TODO JCPexample6\n",
    "#TODO TaylorGreen\n",
    "\n",
    "#TODO example2\n",
    "#TODO example3\n",
    "\n",
    "#TODO hybrid"
   ]
  },
  {
   "cell_type": "code",
   "execution_count": null,
   "metadata": {},
   "outputs": [],
   "source": []
  },
  {
   "cell_type": "code",
   "execution_count": null,
   "metadata": {},
   "outputs": [],
   "source": []
  },
  {
   "cell_type": "code",
   "execution_count": 3,
   "metadata": {},
   "outputs": [
    {
     "ename": "",
     "evalue": "",
     "output_type": "error",
     "traceback": [
      "\u001b[1;31mCanceled future for execute_request message before replies were done"
     ]
    },
    {
     "ename": "",
     "evalue": "",
     "output_type": "error",
     "traceback": [
      "\u001b[1;31mThe Kernel crashed while executing code in the the current cell or a previous cell. Please review the code in the cell(s) to identify a possible cause of the failure. Click <a href='https://aka.ms/vscodeJupyterKernelCrash'>here</a> for more info. View Jupyter <a href='command:jupyter.viewOutput'>log</a> for further details."
     ]
    }
   ],
   "source": [
    "import time\n",
    "import DRLPDE.main\n",
    "\n",
    "# TODO again with 4x64 network\n",
    "\n",
    "start = time.time()\n",
    "model = DRLPDE.main.solvePDE('JCPexample1',\n",
    "                             loadmodel='', \n",
    "                             savemodel='JCPexample1',\n",
    "                             neuralnetwork='Incompressible',\n",
    "                             nn_size= {'depth':4,\n",
    "                                       'width':64},\n",
    "                             method= {'type':'stochastic',\n",
    "                                      'dt':1e-4,\n",
    "                                      'num_ghost':128,\n",
    "                                      'tol': 1e-6}, \n",
    "                             trainingsteps=1e4,\n",
    "                             learningrate=1e-4,\n",
    "                             bdry_lr=1e-5,\n",
    "                             resample_every= 1.1,\n",
    "                             reschedule_every=1.1,\n",
    "                             walk= False,              \n",
    "                             importance_sampling= False)\n",
    "\n",
    "end = time.time()\n",
    "print('Time to train: {:3.0f} minutes'.format((end - start)/60))"
   ]
  },
  {
   "cell_type": "code",
   "execution_count": null,
   "metadata": {},
   "outputs": [
    {
     "name": "stdout",
     "output_type": "stream",
     "text": [
      "step = 1000 of 10000, Elapsed Time:35 min, Time to Go:317 min\n",
      "step = 2000 of 10000, Elapsed Time:70 min, Time to Go:281 min\n",
      "step = 3000 of 10000, Elapsed Time:108 min, Time to Go:251 min\n",
      "step = 4000 of 10000, Elapsed Time:143 min, Time to Go:214 min\n",
      "step = 5000 of 10000, Elapsed Time:178 min, Time to Go:178 min\n",
      "step = 6000 of 10000, Elapsed Time:213 min, Time to Go:142 min\n",
      "step = 7000 of 10000, Elapsed Time:248 min, Time to Go:106 min\n",
      "step = 8000 of 10000, Elapsed Time:283 min, Time to Go:71 min\n",
      "step = 9000 of 10000, Elapsed Time:318 min, Time to Go:35 min\n",
      "Done\n",
      "Time to train: 353 minutes\n"
     ]
    }
   ],
   "source": [
    "import time\n",
    "import DRLPDE.main\n",
    "\n",
    "# TODO again with 4x64 network\n",
    "\n",
    "start = time.time()\n",
    "model = DRLPDE.main.solvePDE('JCPexample2',\n",
    "                             loadmodel='', \n",
    "                             savemodel='JCPexample2',\n",
    "                             neuralnetwork='Incompressible',\n",
    "                             nn_size= {'depth':4,\n",
    "                                       'width':64},\n",
    "                             method= {'type':'stochastic',\n",
    "                                      'dt':1e-4,\n",
    "                                      'num_ghost':128,\n",
    "                                      'tol': 1e-6}, \n",
    "                             trainingsteps=1e4,\n",
    "                             learningrate=1e-4,\n",
    "                             bdry_lr=1e-5,\n",
    "                             resample_every= 1.1,\n",
    "                             reschedule_every=1.1,\n",
    "                             walk= False,              \n",
    "                             importance_sampling= False)\n",
    "\n",
    "end = time.time()\n",
    "print('Time to train: {:3.0f} minutes'.format((end - start)/60))"
   ]
  },
  {
   "cell_type": "code",
   "execution_count": null,
   "metadata": {},
   "outputs": [
    {
     "name": "stdout",
     "output_type": "stream",
     "text": [
      "step = 1000 of 10000, Elapsed Time:27 min, Time to Go:246 min\n",
      "step = 2000 of 10000, Elapsed Time:50 min, Time to Go:199 min\n",
      "step = 3000 of 10000, Elapsed Time:72 min, Time to Go:168 min\n",
      "step = 4000 of 10000, Elapsed Time:94 min, Time to Go:141 min\n",
      "step = 5000 of 10000, Elapsed Time:115 min, Time to Go:115 min\n",
      "step = 6000 of 10000, Elapsed Time:137 min, Time to Go:91 min\n",
      "step = 7000 of 10000, Elapsed Time:158 min, Time to Go:68 min\n",
      "step = 8000 of 10000, Elapsed Time:180 min, Time to Go:45 min\n",
      "step = 9000 of 10000, Elapsed Time:201 min, Time to Go:22 min\n",
      "Done\n",
      "Time to train: 223 minutes\n"
     ]
    }
   ],
   "source": [
    "import time\n",
    "import DRLPDE.main\n",
    "\n",
    "start = time.time()\n",
    "model = DRLPDE.main.solvePDE('JCPexample3',\n",
    "                             loadmodel='', \n",
    "                             savemodel='JCPexample3',\n",
    "                             neuralnetwork='Incompressible',\n",
    "                             nn_size= {'depth':4,\n",
    "                                       'width':64},\n",
    "                             method= {'type':'stochastic',\n",
    "                                      'dt':1e-4,\n",
    "                                      'num_ghost':128,\n",
    "                                      'tol': 1e-6}, \n",
    "                             trainingsteps=1e4,\n",
    "                             learningrate=1e-4,\n",
    "                             bdry_lr=1e-5,\n",
    "                             resample_every= 1.1,\n",
    "                             reschedule_every=1.1,\n",
    "                             walk= False,              \n",
    "                             importance_sampling= False)\n",
    "\n",
    "end = time.time()\n",
    "print('Time to train: {:3.0f} minutes'.format((end - start)/60))"
   ]
  },
  {
   "cell_type": "code",
   "execution_count": null,
   "metadata": {},
   "outputs": [
    {
     "name": "stdout",
     "output_type": "stream",
     "text": [
      "step = 1000 of 10000, Elapsed Time:21 min, Time to Go:190 min\n",
      "step = 2000 of 10000, Elapsed Time:42 min, Time to Go:169 min\n",
      "step = 3000 of 10000, Elapsed Time:63 min, Time to Go:147 min\n",
      "step = 4000 of 10000, Elapsed Time:84 min, Time to Go:126 min\n",
      "step = 5000 of 10000, Elapsed Time:105 min, Time to Go:105 min\n",
      "step = 6000 of 10000, Elapsed Time:126 min, Time to Go:84 min\n",
      "step = 7000 of 10000, Elapsed Time:147 min, Time to Go:63 min\n",
      "step = 8000 of 10000, Elapsed Time:169 min, Time to Go:42 min\n",
      "step = 9000 of 10000, Elapsed Time:190 min, Time to Go:21 min\n",
      "Done\n",
      "Time to train: 211 minutes\n"
     ]
    }
   ],
   "source": [
    "import time\n",
    "import DRLPDE.main\n",
    "\n",
    "start = time.time()\n",
    "model = DRLPDE.main.solvePDE('JCPexample4',\n",
    "                             loadmodel='', \n",
    "                             savemodel='JCPexample4',\n",
    "                             neuralnetwork='Incompressible',\n",
    "                             nn_size= {'depth':4,\n",
    "                                       'width':64},\n",
    "                             method= {'type':'stochastic',\n",
    "                                      'dt':1e-4,\n",
    "                                      'num_ghost':128,\n",
    "                                      'tol': 1e-6}, \n",
    "                             trainingsteps=1e4,\n",
    "                             learningrate=1e-4,\n",
    "                             bdry_lr=1e-5,\n",
    "                             resample_every= 1.1,\n",
    "                             reschedule_every=1.1,\n",
    "                             walk= False,              \n",
    "                             importance_sampling= False)\n",
    "\n",
    "end = time.time()\n",
    "print('Time to train: {:3.0f} minutes'.format((end - start)/60))"
   ]
  },
  {
   "cell_type": "code",
   "execution_count": null,
   "metadata": {},
   "outputs": [
    {
     "name": "stdout",
     "output_type": "stream",
     "text": [
      "step = 1000 of 10000, Elapsed Time: 9 min, Time to Go:85 min\n",
      "step = 2000 of 10000, Elapsed Time:19 min, Time to Go:76 min\n",
      "step = 3000 of 10000, Elapsed Time:28 min, Time to Go:66 min\n",
      "step = 4000 of 10000, Elapsed Time:38 min, Time to Go:57 min\n",
      "step = 5000 of 10000, Elapsed Time:47 min, Time to Go:47 min\n",
      "step = 6000 of 10000, Elapsed Time:57 min, Time to Go:38 min\n",
      "step = 7000 of 10000, Elapsed Time:66 min, Time to Go:28 min\n",
      "step = 8000 of 10000, Elapsed Time:76 min, Time to Go:19 min\n",
      "step = 9000 of 10000, Elapsed Time:86 min, Time to Go:10 min\n",
      "Done\n",
      "Time to train:  95 minutes\n"
     ]
    }
   ],
   "source": [
    "import time\n",
    "import DRLPDE.main\n",
    "\n",
    "start = time.time()\n",
    "model = DRLPDE.main.solvePDE('JCPexample5',\n",
    "                             loadmodel='', \n",
    "                             savemodel='JCPexample5',\n",
    "                             neuralnetwork='Incompressible',\n",
    "                             nn_size= {'depth':4,\n",
    "                                       'width':64},\n",
    "                             method= {'type':'stochastic',\n",
    "                                      'dt':1e-4,\n",
    "                                      'num_ghost':128,\n",
    "                                      'tol': 1e-6}, \n",
    "                             trainingsteps=1e4,\n",
    "                             learningrate=1e-4,\n",
    "                             bdry_lr=1e-5,\n",
    "                             resample_every= 1.1,\n",
    "                             reschedule_every=1.1,\n",
    "                             walk= False,              \n",
    "                             importance_sampling= False)\n",
    "\n",
    "end = time.time()\n",
    "print('Time to train: {:3.0f} minutes'.format((end - start)/60))"
   ]
  },
  {
   "cell_type": "code",
   "execution_count": null,
   "metadata": {},
   "outputs": [
    {
     "name": "stdout",
     "output_type": "stream",
     "text": [
      "step = 1000 of 10000, Elapsed Time:10 min, Time to Go:92 min\n",
      "step = 2000 of 10000, Elapsed Time:21 min, Time to Go:82 min\n",
      "step = 3000 of 10000, Elapsed Time:31 min, Time to Go:72 min\n",
      "step = 4000 of 10000, Elapsed Time:41 min, Time to Go:62 min\n",
      "step = 5000 of 10000, Elapsed Time:52 min, Time to Go:52 min\n",
      "step = 6000 of 10000, Elapsed Time:62 min, Time to Go:41 min\n",
      "step = 7000 of 10000, Elapsed Time:73 min, Time to Go:31 min\n",
      "step = 8000 of 10000, Elapsed Time:83 min, Time to Go:21 min\n",
      "step = 9000 of 10000, Elapsed Time:94 min, Time to Go:10 min\n",
      "Done\n",
      "Time to train: 105 minutes\n"
     ]
    }
   ],
   "source": [
    "import time\n",
    "import DRLPDE.main\n",
    "\n",
    "start = time.time()\n",
    "model = DRLPDE.main.solvePDE('JCPexample6',\n",
    "                             loadmodel='', \n",
    "                             savemodel='JCPexample6',\n",
    "                             neuralnetwork='Incompressible',\n",
    "                             nn_size= {'depth':4,\n",
    "                                       'width':64},\n",
    "                             method= {'type':'stochastic',\n",
    "                                      'dt':1e-4,\n",
    "                                      'num_ghost':128,\n",
    "                                      'tol': 1e-6}, \n",
    "                             trainingsteps=1e4,\n",
    "                             learningrate=1e-4,\n",
    "                             bdry_lr=1e-5,\n",
    "                             resample_every= 1.1,\n",
    "                             reschedule_every=1.1,\n",
    "                             walk= False,              \n",
    "                             importance_sampling= False)\n",
    "\n",
    "end = time.time()\n",
    "print('Time to train: {:3.0f} minutes'.format((end - start)/60))"
   ]
  },
  {
   "cell_type": "code",
   "execution_count": null,
   "metadata": {},
   "outputs": [
    {
     "name": "stdout",
     "output_type": "stream",
     "text": [
      "step = 1000 of 10000, Elapsed Time:10 min, Time to Go:94 min\n",
      "step = 2000 of 10000, Elapsed Time:21 min, Time to Go:83 min\n",
      "step = 3000 of 10000, Elapsed Time:31 min, Time to Go:73 min\n",
      "step = 4000 of 10000, Elapsed Time:42 min, Time to Go:63 min\n",
      "step = 5000 of 10000, Elapsed Time:52 min, Time to Go:52 min\n",
      "step = 6000 of 10000, Elapsed Time:63 min, Time to Go:42 min\n",
      "step = 7000 of 10000, Elapsed Time:73 min, Time to Go:31 min\n",
      "step = 8000 of 10000, Elapsed Time:84 min, Time to Go:21 min\n",
      "step = 9000 of 10000, Elapsed Time:94 min, Time to Go:10 min\n",
      "Done\n",
      "Time to train: 104 minutes\n"
     ]
    }
   ],
   "source": [
    "import time\n",
    "import DRLPDE.main\n",
    "\n",
    "start = time.time()\n",
    "model = DRLPDE.main.solvePDE('TaylorGreen',\n",
    "                             loadmodel='', \n",
    "                             savemodel='TaylorGreen',\n",
    "                             neuralnetwork='Incompressible',\n",
    "                             nn_size= {'depth':4,\n",
    "                                       'width':64},\n",
    "                             method= {'type':'stochastic',\n",
    "                                      'dt':1e-4,\n",
    "                                      'num_ghost':128,\n",
    "                                      'tol': 1e-6}, \n",
    "                             trainingsteps=1e4,\n",
    "                             learningrate=1e-4,\n",
    "                             bdry_lr=1e-5,\n",
    "                             resample_every= 1.1,\n",
    "                             reschedule_every=1.1,\n",
    "                             walk= False,              \n",
    "                             importance_sampling= False)\n",
    "\n",
    "end = time.time()\n",
    "print('Time to train: {:3.0f} minutes'.format((end - start)/60))"
   ]
  },
  {
   "cell_type": "code",
   "execution_count": null,
   "metadata": {},
   "outputs": [],
   "source": []
  }
 ],
 "metadata": {
  "kernelspec": {
   "display_name": "Python 3",
   "language": "python",
   "name": "python3"
  },
  "language_info": {
   "codemirror_mode": {
    "name": "ipython",
    "version": 3
   },
   "file_extension": ".py",
   "mimetype": "text/x-python",
   "name": "python",
   "nbconvert_exporter": "python",
   "pygments_lexer": "ipython3",
   "version": "3.10.4"
  },
  "orig_nbformat": 4,
  "vscode": {
   "interpreter": {
    "hash": "916dbcbb3f70747c44a77c7bcd40155683ae19c65e1c03b4aa3499c5328201f1"
   }
  }
 },
 "nbformat": 4,
 "nbformat_minor": 2
}
