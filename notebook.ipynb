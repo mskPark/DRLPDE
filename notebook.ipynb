{
 "cells": [
  {
   "cell_type": "code",
   "execution_count": 1,
   "metadata": {},
   "outputs": [
    {
     "ename": "TypeError",
     "evalue": "thePoints.TrainL2LinfLoss() missing 1 required positional argument: 'squaredlosses'",
     "output_type": "error",
     "traceback": [
      "\u001b[0;31m---------------------------------------------------------------------------\u001b[0m",
      "\u001b[0;31mTypeError\u001b[0m                                 Traceback (most recent call last)",
      "\u001b[1;32m/home/mskpark/Research/DRLPDE/notebook.ipynb Cell 1\u001b[0m in \u001b[0;36m<cell line: 5>\u001b[0;34m()\u001b[0m\n\u001b[1;32m      <a href='vscode-notebook-cell:/home/mskpark/Research/DRLPDE/notebook.ipynb#W0sZmlsZQ%3D%3D?line=1'>2</a>\u001b[0m \u001b[39mimport\u001b[39;00m \u001b[39mDRLPDE\u001b[39;00m\u001b[39m.\u001b[39;00m\u001b[39mmain\u001b[39;00m\n\u001b[1;32m      <a href='vscode-notebook-cell:/home/mskpark/Research/DRLPDE/notebook.ipynb#W0sZmlsZQ%3D%3D?line=3'>4</a>\u001b[0m start \u001b[39m=\u001b[39m time\u001b[39m.\u001b[39mtime()\n\u001b[0;32m----> <a href='vscode-notebook-cell:/home/mskpark/Research/DRLPDE/notebook.ipynb#W0sZmlsZQ%3D%3D?line=4'>5</a>\u001b[0m model \u001b[39m=\u001b[39m DRLPDE\u001b[39m.\u001b[39;49mmain\u001b[39m.\u001b[39;49msolvePDE(\u001b[39m'\u001b[39;49m\u001b[39mexample1\u001b[39;49m\u001b[39m'\u001b[39;49m, \n\u001b[1;32m      <a href='vscode-notebook-cell:/home/mskpark/Research/DRLPDE/notebook.ipynb#W0sZmlsZQ%3D%3D?line=5'>6</a>\u001b[0m                              savemodel\u001b[39m=\u001b[39;49m\u001b[39m'\u001b[39;49m\u001b[39mTest1A\u001b[39;49m\u001b[39m'\u001b[39;49m, \n\u001b[1;32m      <a href='vscode-notebook-cell:/home/mskpark/Research/DRLPDE/notebook.ipynb#W0sZmlsZQ%3D%3D?line=6'>7</a>\u001b[0m                              trainingsteps\u001b[39m=\u001b[39;49m\u001b[39m1e2\u001b[39;49m,\n\u001b[1;32m      <a href='vscode-notebook-cell:/home/mskpark/Research/DRLPDE/notebook.ipynb#W0sZmlsZQ%3D%3D?line=7'>8</a>\u001b[0m                              method\u001b[39m=\u001b[39;49m{\u001b[39m'\u001b[39;49m\u001b[39mtype\u001b[39;49m\u001b[39m'\u001b[39;49m:\u001b[39m'\u001b[39;49m\u001b[39mdirect\u001b[39;49m\u001b[39m'\u001b[39;49m},\n\u001b[1;32m      <a href='vscode-notebook-cell:/home/mskpark/Research/DRLPDE/notebook.ipynb#W0sZmlsZQ%3D%3D?line=8'>9</a>\u001b[0m                              resample_every \u001b[39m=\u001b[39;49m \u001b[39m10\u001b[39;49m)\n\u001b[1;32m     <a href='vscode-notebook-cell:/home/mskpark/Research/DRLPDE/notebook.ipynb#W0sZmlsZQ%3D%3D?line=10'>11</a>\u001b[0m end \u001b[39m=\u001b[39m time\u001b[39m.\u001b[39mtime()\n\u001b[1;32m     <a href='vscode-notebook-cell:/home/mskpark/Research/DRLPDE/notebook.ipynb#W0sZmlsZQ%3D%3D?line=11'>12</a>\u001b[0m \u001b[39mprint\u001b[39m(\u001b[39m'\u001b[39m\u001b[39mTime to train: \u001b[39m\u001b[39m{:3.0f}\u001b[39;00m\u001b[39m minutes\u001b[39m\u001b[39m'\u001b[39m\u001b[39m.\u001b[39mformat((end \u001b[39m-\u001b[39m start)\u001b[39m/\u001b[39m\u001b[39m60\u001b[39m))\n",
      "File \u001b[0;32m~/Research/DRLPDE/DRLPDE/main.py:212\u001b[0m, in \u001b[0;36msolvePDE\u001b[0;34m(parameters, **solver)\u001b[0m\n\u001b[1;32m    209\u001b[0m     squarederrors[\u001b[39m0\u001b[39m,:,:] \u001b[39m=\u001b[39m ErrorPoints\u001b[39m.\u001b[39mCalculateError(model, dev, numbatch)\n\u001b[1;32m    211\u001b[0m \u001b[39m# Train once\u001b[39;00m\n\u001b[0;32m--> 212\u001b[0m squaredlosses[\u001b[39m0\u001b[39m,:,:] \u001b[39m=\u001b[39m Points\u001b[39m.\u001b[39;49mTrainL2LinfLoss(model, dev, numbatch)\n\u001b[1;32m    214\u001b[0m \u001b[39mif\u001b[39;00m collect_error:\n\u001b[1;32m    215\u001b[0m     squarederrors[\u001b[39m1\u001b[39m,:,:] \u001b[39m=\u001b[39m ErrorPoints\u001b[39m.\u001b[39mCalculateError(model, dev, numbatch)\n",
      "\u001b[0;31mTypeError\u001b[0m: thePoints.TrainL2LinfLoss() missing 1 required positional argument: 'squaredlosses'"
     ]
    }
   ],
   "source": [
    "import time\n",
    "import DRLPDE.main\n",
    "\n",
    "start = time.time()\n",
    "model = DRLPDE.main.solvePDE('example1', \n",
    "                             savemodel='Test1A', \n",
    "                             trainingsteps=1e2,\n",
    "                             method={'type':'direct'},\n",
    "                             resample_every = 10)\n",
    "\n",
    "end = time.time()\n",
    "print('Time to train: {:3.0f} minutes'.format((end - start)/60))"
   ]
  },
  {
   "cell_type": "code",
   "execution_count": null,
   "metadata": {},
   "outputs": [],
   "source": []
  },
  {
   "cell_type": "code",
   "execution_count": 5,
   "metadata": {},
   "outputs": [
    {
     "data": {
      "text/plain": [
       "[tensor([], dtype=torch.int64),\n",
       " tensor([]),\n",
       " tensor([-0.6577]),\n",
       " tensor([-1.4361,  1.3108]),\n",
       " tensor([-0.1901,  0.3818, -0.3123]),\n",
       " tensor([ 0.9207,  1.0439, -0.2025, -0.4228]),\n",
       " tensor([ 0.3927,  1.5715,  0.3824,  0.6032, -1.0658]),\n",
       " tensor([ 0.7374,  0.6710, -0.9676, -0.6518, -0.8131, -0.8811]),\n",
       " tensor([ 1.5874, -0.2522, -1.6625, -1.5709, -1.5281, -1.4727,  0.8165]),\n",
       " tensor([-0.3417,  0.1580, -1.4939,  0.6993,  1.0436, -0.6714, -0.3181,  1.4275]),\n",
       " tensor([ 0.0281,  0.9503, -0.1693, -0.5329,  3.0040,  0.3530, -0.2851,  0.8538,\n",
       "         -0.9675])]"
      ]
     },
     "execution_count": 5,
     "metadata": {},
     "output_type": "execute_result"
    }
   ],
   "source": [
    "test"
   ]
  },
  {
   "cell_type": "code",
   "execution_count": null,
   "metadata": {},
   "outputs": [],
   "source": []
  }
 ],
 "metadata": {
  "kernelspec": {
   "display_name": "Python 3",
   "language": "python",
   "name": "python3"
  },
  "language_info": {
   "codemirror_mode": {
    "name": "ipython",
    "version": 3
   },
   "file_extension": ".py",
   "mimetype": "text/x-python",
   "name": "python",
   "nbconvert_exporter": "python",
   "pygments_lexer": "ipython3",
   "version": "3.10.6"
  },
  "orig_nbformat": 4,
  "vscode": {
   "interpreter": {
    "hash": "916dbcbb3f70747c44a77c7bcd40155683ae19c65e1c03b4aa3499c5328201f1"
   }
  }
 },
 "nbformat": 4,
 "nbformat_minor": 2
}
