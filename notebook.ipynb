{
 "cells": [
  {
   "cell_type": "code",
   "execution_count": 1,
   "metadata": {},
   "outputs": [
    {
     "name": "stdout",
     "output_type": "stream",
     "text": [
      "step = 1000 of 10000, Elapsed Time: 5 min, Time to Go:46 min\n",
      "step = 2000 of 10000, Elapsed Time:10 min, Time to Go:41 min\n",
      "step = 3000 of 10000, Elapsed Time:15 min, Time to Go:36 min\n",
      "step = 4000 of 10000, Elapsed Time:21 min, Time to Go:31 min\n",
      "step = 5000 of 10000, Elapsed Time:26 min, Time to Go:26 min\n",
      "step = 6000 of 10000, Elapsed Time:31 min, Time to Go:21 min\n",
      "step = 7000 of 10000, Elapsed Time:36 min, Time to Go:15 min\n",
      "step = 8000 of 10000, Elapsed Time:41 min, Time to Go:10 min\n",
      "step = 9000 of 10000, Elapsed Time:46 min, Time to Go: 5 min\n",
      "Done\n",
      "Time to train:  51 minutes\n"
     ]
    }
   ],
   "source": [
    "import time\n",
    "import DRLPDE.main\n",
    "\n",
    "start = time.time()\n",
    "model = DRLPDE.main.solvePDE('JCPexample1',\n",
    "                             loadmodel='', \n",
    "                             savemodel='compare'\n",
    "                             )\n",
    "\n",
    "end = time.time()\n",
    "print('Time to train: {:3.0f} minutes'.format((end - start)/60))"
   ]
  }
 ],
 "metadata": {
  "kernelspec": {
   "display_name": "Python 3",
   "language": "python",
   "name": "python3"
  },
  "language_info": {
   "codemirror_mode": {
    "name": "ipython",
    "version": 3
   },
   "file_extension": ".py",
   "mimetype": "text/x-python",
   "name": "python",
   "nbconvert_exporter": "python",
   "pygments_lexer": "ipython3",
   "version": "3.10.4"
  },
  "orig_nbformat": 4,
  "vscode": {
   "interpreter": {
    "hash": "916dbcbb3f70747c44a77c7bcd40155683ae19c65e1c03b4aa3499c5328201f1"
   }
  }
 },
 "nbformat": 4,
 "nbformat_minor": 2
}
