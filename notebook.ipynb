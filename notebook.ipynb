{
 "cells": [
  {
   "cell_type": "code",
   "execution_count": 8,
   "metadata": {},
   "outputs": [
    {
     "name": "stdout",
     "output_type": "stream",
     "text": [
      "step = 1 of 10, Elapsed Time: 0 min, Time to Go: 0 min\n",
      "step = 2 of 10, Elapsed Time: 0 min, Time to Go: 0 min\n",
      "step = 3 of 10, Elapsed Time: 0 min, Time to Go: 0 min\n",
      "step = 4 of 10, Elapsed Time: 0 min, Time to Go: 0 min\n",
      "step = 5 of 10, Elapsed Time: 0 min, Time to Go: 0 min\n",
      "step = 6 of 10, Elapsed Time: 0 min, Time to Go: 0 min\n",
      "step = 7 of 10, Elapsed Time: 0 min, Time to Go: 0 min\n",
      "step = 8 of 10, Elapsed Time: 0 min, Time to Go: 0 min\n",
      "step = 9 of 10, Elapsed Time: 0 min, Time to Go: 0 min\n",
      "Done\n",
      "Time to train:   0 minutes\n"
     ]
    }
   ],
   "source": [
    "import time\n",
    "import DRLPDE.main\n",
    "\n",
    "start = time.time()\n",
    "model = DRLPDE.main.solvePDE('JCPexample1',\n",
    "                             loadmodel='', \n",
    "                             savemodel='JCPexample1',\n",
    "                             nn_size= {'depth':2,\n",
    "                                       'width':256},\n",
    "                             method= {'type':'stochastic',\n",
    "                                      'dt':1e-4,\n",
    "                                      'num_ghost':128,\n",
    "                                      'tol': 1e-6}, \n",
    "                             trainingsteps=1e1,\n",
    "                             learningrate=1e-4,\n",
    "                             bdry_lr=1e-5,\n",
    "                             resample_every= 1.1,\n",
    "                             walk= False,              \n",
    "                             importance_sampling= False)\n",
    "\n",
    "end = time.time()\n",
    "print('Time to train: {:3.0f} minutes'.format((end - start)/60))"
   ]
  },
  {
   "cell_type": "code",
   "execution_count": null,
   "metadata": {},
   "outputs": [],
   "source": [
    "## Test results\n",
    "\n",
    "#'Baseline' : Direct training with lr 1e-4, bdry_lr=1e-5\n",
    "#'Resample' : Direct training with resample = 50\n",
    "#'Walk'     : Direct training with walk\n",
    "\n",
    "#TODO '1_Stochastic': lr 1e-4, num_batch = 256\n",
    "\n",
    "#TODO JCPexample1\n",
    "#TODO JCPexample2\n",
    "#TODO JCPexample3\n",
    "#TODO JCPexample4\n",
    "#TODO JCPexample5\n",
    "#TODO JCPexample6\n",
    "#TODO TaylorGreen\n",
    "\n",
    "#TODO example2\n",
    "#TODO example3\n",
    "\n",
    "#TODO hybrid"
   ]
  },
  {
   "cell_type": "code",
   "execution_count": 9,
   "metadata": {},
   "outputs": [
    {
     "name": "stdout",
     "output_type": "stream",
     "text": [
      "step = 1000 of 10000, Elapsed Time: 9 min, Time to Go:78 min\n",
      "step = 2000 of 10000, Elapsed Time:17 min, Time to Go:69 min\n",
      "step = 3000 of 10000, Elapsed Time:26 min, Time to Go:60 min\n",
      "step = 4000 of 10000, Elapsed Time:34 min, Time to Go:51 min\n",
      "step = 5000 of 10000, Elapsed Time:43 min, Time to Go:43 min\n",
      "step = 6000 of 10000, Elapsed Time:51 min, Time to Go:34 min\n",
      "step = 7000 of 10000, Elapsed Time:60 min, Time to Go:26 min\n",
      "step = 8000 of 10000, Elapsed Time:68 min, Time to Go:17 min\n",
      "step = 9000 of 10000, Elapsed Time:77 min, Time to Go: 9 min\n",
      "Done\n",
      "Time to train:  85 minutes\n"
     ]
    }
   ],
   "source": [
    "import time\n",
    "import DRLPDE.main\n",
    "\n",
    "start = time.time()\n",
    "model = DRLPDE.main.solvePDE('JCPexample1',\n",
    "                             loadmodel='', \n",
    "                             savemodel='JCPexample1',\n",
    "                             nn_size= {'depth':2,\n",
    "                                       'width':256},\n",
    "                             method= {'type':'stochastic',\n",
    "                                      'dt':1e-4,\n",
    "                                      'num_ghost':128,\n",
    "                                      'tol': 1e-6}, \n",
    "                             trainingsteps=1e4,\n",
    "                             learningrate=1e-4,\n",
    "                             bdry_lr=1e-5,\n",
    "                             resample_every= 1.1,\n",
    "                             walk= False,              \n",
    "                             importance_sampling= False)\n",
    "\n",
    "end = time.time()\n",
    "print('Time to train: {:3.0f} minutes'.format((end - start)/60))"
   ]
  },
  {
   "cell_type": "code",
   "execution_count": 10,
   "metadata": {},
   "outputs": [
    {
     "name": "stdout",
     "output_type": "stream",
     "text": [
      "step = 1000 of 10000, Elapsed Time:12 min, Time to Go:108 min\n",
      "step = 2000 of 10000, Elapsed Time:24 min, Time to Go:97 min\n",
      "step = 3000 of 10000, Elapsed Time:36 min, Time to Go:85 min\n",
      "step = 4000 of 10000, Elapsed Time:49 min, Time to Go:73 min\n",
      "step = 5000 of 10000, Elapsed Time:61 min, Time to Go:61 min\n",
      "step = 6000 of 10000, Elapsed Time:73 min, Time to Go:49 min\n",
      "step = 7000 of 10000, Elapsed Time:85 min, Time to Go:36 min\n",
      "step = 8000 of 10000, Elapsed Time:97 min, Time to Go:24 min\n",
      "step = 9000 of 10000, Elapsed Time:109 min, Time to Go:12 min\n",
      "Done\n",
      "Time to train: 122 minutes\n"
     ]
    }
   ],
   "source": [
    "import time\n",
    "import DRLPDE.main\n",
    "\n",
    "start = time.time()\n",
    "model = DRLPDE.main.solvePDE('JCPexample2',\n",
    "                             loadmodel='', \n",
    "                             savemodel='JCPexample2',\n",
    "                             nn_size= {'depth':2,\n",
    "                                       'width':256},\n",
    "                             method= {'type':'stochastic',\n",
    "                                      'dt':1e-4,\n",
    "                                      'num_ghost':128,\n",
    "                                      'tol': 1e-6}, \n",
    "                             trainingsteps=1e4,\n",
    "                             learningrate=1e-4,\n",
    "                             bdry_lr=1e-5,\n",
    "                             resample_every= 1.1,\n",
    "                             walk= False,              \n",
    "                             importance_sampling= False)\n",
    "\n",
    "end = time.time()\n",
    "print('Time to train: {:3.0f} minutes'.format((end - start)/60))"
   ]
  },
  {
   "cell_type": "code",
   "execution_count": 11,
   "metadata": {},
   "outputs": [
    {
     "name": "stdout",
     "output_type": "stream",
     "text": [
      "step = 1000 of 10000, Elapsed Time:10 min, Time to Go:86 min\n",
      "step = 2000 of 10000, Elapsed Time:19 min, Time to Go:76 min\n",
      "step = 3000 of 10000, Elapsed Time:28 min, Time to Go:66 min\n",
      "step = 4000 of 10000, Elapsed Time:38 min, Time to Go:57 min\n",
      "step = 5000 of 10000, Elapsed Time:48 min, Time to Go:48 min\n",
      "step = 6000 of 10000, Elapsed Time:58 min, Time to Go:38 min\n",
      "step = 7000 of 10000, Elapsed Time:67 min, Time to Go:29 min\n",
      "step = 8000 of 10000, Elapsed Time:77 min, Time to Go:19 min\n",
      "step = 9000 of 10000, Elapsed Time:87 min, Time to Go:10 min\n",
      "Done\n",
      "Time to train:  97 minutes\n"
     ]
    }
   ],
   "source": [
    "import time\n",
    "import DRLPDE.main\n",
    "\n",
    "start = time.time()\n",
    "model = DRLPDE.main.solvePDE('JCPexample3',\n",
    "                             loadmodel='', \n",
    "                             savemodel='JCPexample3',\n",
    "                             nn_size= {'depth':2,\n",
    "                                       'width':256},\n",
    "                             method= {'type':'stochastic',\n",
    "                                      'dt':1e-4,\n",
    "                                      'num_ghost':128,\n",
    "                                      'tol': 1e-6}, \n",
    "                             trainingsteps=1e4,\n",
    "                             learningrate=1e-4,\n",
    "                             bdry_lr=1e-5,\n",
    "                             resample_every= 1.1,\n",
    "                             walk= False,              \n",
    "                             importance_sampling= False)\n",
    "\n",
    "end = time.time()\n",
    "print('Time to train: {:3.0f} minutes'.format((end - start)/60))"
   ]
  },
  {
   "cell_type": "code",
   "execution_count": 12,
   "metadata": {},
   "outputs": [
    {
     "name": "stdout",
     "output_type": "stream",
     "text": [
      "step = 1000 of 10000, Elapsed Time: 9 min, Time to Go:83 min\n",
      "step = 2000 of 10000, Elapsed Time:19 min, Time to Go:74 min\n",
      "step = 3000 of 10000, Elapsed Time:28 min, Time to Go:65 min\n",
      "step = 4000 of 10000, Elapsed Time:37 min, Time to Go:56 min\n",
      "step = 5000 of 10000, Elapsed Time:47 min, Time to Go:47 min\n",
      "step = 6000 of 10000, Elapsed Time:56 min, Time to Go:37 min\n",
      "step = 7000 of 10000, Elapsed Time:65 min, Time to Go:28 min\n",
      "step = 8000 of 10000, Elapsed Time:75 min, Time to Go:19 min\n",
      "step = 9000 of 10000, Elapsed Time:84 min, Time to Go: 9 min\n",
      "Done\n",
      "Time to train:  94 minutes\n"
     ]
    }
   ],
   "source": [
    "import time\n",
    "import DRLPDE.main\n",
    "\n",
    "start = time.time()\n",
    "model = DRLPDE.main.solvePDE('JCPexample4',\n",
    "                             loadmodel='', \n",
    "                             savemodel='JCPexample4',\n",
    "                             nn_size= {'depth':2,\n",
    "                                       'width':256},\n",
    "                             method= {'type':'stochastic',\n",
    "                                      'dt':1e-4,\n",
    "                                      'num_ghost':128,\n",
    "                                      'tol': 1e-6}, \n",
    "                             trainingsteps=1e4,\n",
    "                             learningrate=1e-4,\n",
    "                             bdry_lr=1e-5,\n",
    "                             resample_every= 1.1,\n",
    "                             walk= False,              \n",
    "                             importance_sampling= False)\n",
    "\n",
    "end = time.time()\n",
    "print('Time to train: {:3.0f} minutes'.format((end - start)/60))"
   ]
  },
  {
   "cell_type": "code",
   "execution_count": 13,
   "metadata": {},
   "outputs": [
    {
     "name": "stdout",
     "output_type": "stream",
     "text": [
      "step = 1000 of 10000, Elapsed Time: 7 min, Time to Go:62 min\n",
      "step = 2000 of 10000, Elapsed Time:14 min, Time to Go:55 min\n",
      "step = 3000 of 10000, Elapsed Time:21 min, Time to Go:49 min\n",
      "step = 4000 of 10000, Elapsed Time:28 min, Time to Go:42 min\n",
      "step = 5000 of 10000, Elapsed Time:35 min, Time to Go:35 min\n",
      "step = 6000 of 10000, Elapsed Time:42 min, Time to Go:28 min\n",
      "step = 7000 of 10000, Elapsed Time:49 min, Time to Go:21 min\n",
      "step = 8000 of 10000, Elapsed Time:56 min, Time to Go:14 min\n",
      "step = 9000 of 10000, Elapsed Time:63 min, Time to Go: 7 min\n",
      "Done\n",
      "Time to train:  69 minutes\n"
     ]
    }
   ],
   "source": [
    "import time\n",
    "import DRLPDE.main\n",
    "\n",
    "start = time.time()\n",
    "model = DRLPDE.main.solvePDE('JCPexample5',\n",
    "                             loadmodel='', \n",
    "                             savemodel='JCPexample5',\n",
    "                             nn_size= {'depth':2,\n",
    "                                       'width':256},\n",
    "                             method= {'type':'stochastic',\n",
    "                                      'dt':1e-4,\n",
    "                                      'num_ghost':128,\n",
    "                                      'tol': 1e-6}, \n",
    "                             trainingsteps=1e4,\n",
    "                             learningrate=1e-4,\n",
    "                             bdry_lr=1e-5,\n",
    "                             resample_every= 1.1,\n",
    "                             walk= False,              \n",
    "                             importance_sampling= False)\n",
    "\n",
    "end = time.time()\n",
    "print('Time to train: {:3.0f} minutes'.format((end - start)/60))"
   ]
  },
  {
   "cell_type": "code",
   "execution_count": 14,
   "metadata": {},
   "outputs": [
    {
     "name": "stdout",
     "output_type": "stream",
     "text": [
      "step = 1000 of 10000, Elapsed Time: 7 min, Time to Go:67 min\n",
      "step = 2000 of 10000, Elapsed Time:15 min, Time to Go:59 min\n",
      "step = 3000 of 10000, Elapsed Time:22 min, Time to Go:52 min\n",
      "step = 4000 of 10000, Elapsed Time:30 min, Time to Go:45 min\n",
      "step = 5000 of 10000, Elapsed Time:37 min, Time to Go:37 min\n"
     ]
    }
   ],
   "source": [
    "import time\n",
    "import DRLPDE.main\n",
    "\n",
    "start = time.time()\n",
    "model = DRLPDE.main.solvePDE('JCPexample6',\n",
    "                             loadmodel='', \n",
    "                             savemodel='JCPexample6',\n",
    "                             nn_size= {'depth':2,\n",
    "                                       'width':256},\n",
    "                             method= {'type':'stochastic',\n",
    "                                      'dt':1e-4,\n",
    "                                      'num_ghost':128,\n",
    "                                      'tol': 1e-6}, \n",
    "                             trainingsteps=1e4,\n",
    "                             learningrate=1e-4,\n",
    "                             bdry_lr=1e-5,\n",
    "                             resample_every= 1.1,\n",
    "                             walk= False,              \n",
    "                             importance_sampling= False)\n",
    "\n",
    "end = time.time()\n",
    "print('Time to train: {:3.0f} minutes'.format((end - start)/60))"
   ]
  },
  {
   "cell_type": "code",
   "execution_count": null,
   "metadata": {},
   "outputs": [],
   "source": [
    "import time\n",
    "import DRLPDE.main\n",
    "\n",
    "start = time.time()\n",
    "model = DRLPDE.main.solvePDE('TaylorGreen',\n",
    "                             loadmodel='', \n",
    "                             savemodel='TaylorGreen',\n",
    "                             nn_size= {'depth':2,\n",
    "                                       'width':256},\n",
    "                             method= {'type':'stochastic',\n",
    "                                      'dt':1e-4,\n",
    "                                      'num_ghost':128,\n",
    "                                      'tol': 1e-6}, \n",
    "                             trainingsteps=1e4,\n",
    "                             learningrate=1e-4,\n",
    "                             bdry_lr=1e-5,\n",
    "                             resample_every= 1.1,\n",
    "                             walk= False,              \n",
    "                             importance_sampling= False)\n",
    "\n",
    "end = time.time()\n",
    "print('Time to train: {:3.0f} minutes'.format((end - start)/60))"
   ]
  },
  {
   "cell_type": "code",
   "execution_count": null,
   "metadata": {},
   "outputs": [],
   "source": []
  }
 ],
 "metadata": {
  "kernelspec": {
   "display_name": "Python 3",
   "language": "python",
   "name": "python3"
  },
  "language_info": {
   "codemirror_mode": {
    "name": "ipython",
    "version": 3
   },
   "file_extension": ".py",
   "mimetype": "text/x-python",
   "name": "python",
   "nbconvert_exporter": "python",
   "pygments_lexer": "ipython3",
   "version": "3.10.4"
  },
  "orig_nbformat": 4,
  "vscode": {
   "interpreter": {
    "hash": "916dbcbb3f70747c44a77c7bcd40155683ae19c65e1c03b4aa3499c5328201f1"
   }
  }
 },
 "nbformat": 4,
 "nbformat_minor": 2
}
