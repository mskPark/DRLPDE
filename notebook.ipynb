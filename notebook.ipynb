{
 "cells": [
  {
   "cell_type": "code",
   "execution_count": 1,
   "metadata": {},
   "outputs": [
    {
     "name": "stdout",
     "output_type": "stream",
     "text": [
      "step = 100 of 1000, Elapsed Time: 2 min, Time to Go:22 min\n",
      "step = 200 of 1000, Elapsed Time: 5 min, Time to Go:19 min\n",
      "step = 300 of 1000, Elapsed Time: 7 min, Time to Go:17 min\n",
      "step = 400 of 1000, Elapsed Time:10 min, Time to Go:14 min\n",
      "step = 500 of 1000, Elapsed Time:12 min, Time to Go:12 min\n",
      "step = 600 of 1000, Elapsed Time:14 min, Time to Go: 9 min\n",
      "step = 700 of 1000, Elapsed Time:16 min, Time to Go: 7 min\n",
      "step = 800 of 1000, Elapsed Time:18 min, Time to Go: 5 min\n",
      "step = 900 of 1000, Elapsed Time:21 min, Time to Go: 2 min\n",
      "Done\n",
      "Time to train:  23 minutes\n"
     ]
    }
   ],
   "source": [
    "import time\n",
    "import DRLPDE.main\n",
    "\n",
    "start = time.time()\n",
    "model = DRLPDE.main.solvePDE('example1',\n",
    "                             loadmodel='', \n",
    "                             savemodel='WideShallow_Bdry', \n",
    "                             trainingsteps=1e3,\n",
    "                             method={'type':'direct'},\n",
    "                             learningrate=1e-2)\n",
    "\n",
    "end = time.time()\n",
    "print('Time to train: {:3.0f} minutes'.format((end - start)/60))"
   ]
  },
  {
   "cell_type": "code",
   "execution_count": null,
   "metadata": {},
   "outputs": [],
   "source": []
  },
  {
   "cell_type": "code",
   "execution_count": null,
   "metadata": {},
   "outputs": [],
   "source": []
  },
  {
   "cell_type": "code",
   "execution_count": null,
   "metadata": {},
   "outputs": [],
   "source": []
  }
 ],
 "metadata": {
  "kernelspec": {
   "display_name": "Python 3",
   "language": "python",
   "name": "python3"
  },
  "language_info": {
   "codemirror_mode": {
    "name": "ipython",
    "version": 3
   },
   "file_extension": ".py",
   "mimetype": "text/x-python",
   "name": "python",
   "nbconvert_exporter": "python",
   "pygments_lexer": "ipython3",
   "version": "3.10.4"
  },
  "orig_nbformat": 4,
  "vscode": {
   "interpreter": {
    "hash": "916dbcbb3f70747c44a77c7bcd40155683ae19c65e1c03b4aa3499c5328201f1"
   }
  }
 },
 "nbformat": 4,
 "nbformat_minor": 2
}
