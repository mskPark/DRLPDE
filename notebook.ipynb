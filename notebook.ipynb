{
 "cells": [
  {
   "cell_type": "code",
   "execution_count": 1,
   "metadata": {},
   "outputs": [
    {
     "name": "stdout",
     "output_type": "stream",
     "text": [
      "No errors in first epoch, training will continue\n",
      "step = 10/100, Elapsed Time: 3 min, Time to Go: 3 min\n",
      "step = 20/100, Elapsed Time: 2 min, Time to Go: 2 min\n",
      "step = 30/100, Elapsed Time: 2 min, Time to Go: 2 min\n",
      "step = 40/100, Elapsed Time: 2 min, Time to Go: 2 min\n",
      "step = 50/100, Elapsed Time: 1 min, Time to Go: 1 min\n",
      "step = 60/100, Elapsed Time: 1 min, Time to Go: 1 min\n",
      "step = 70/100, Elapsed Time: 1 min, Time to Go: 1 min\n",
      "step = 80/100, Elapsed Time: 1 min, Time to Go: 1 min\n",
      "step = 90/100, Elapsed Time: 0 min, Time to Go: 0 min\n",
      "Done\n",
      "Time to train:   0 minutes\n"
     ]
    }
   ],
   "source": [
    "import time\n",
    "import DRLPDE.main\n",
    "\n",
    "start = time.time()\n",
    "model = DRLPDE.main.solvePDE('example1', \n",
    "                                 savemodel='Test1A', \n",
    "                                 trainingsteps=1e2,\n",
    "                                 method={'type':'direct'}\n",
    "                                 )\n",
    "\n",
    "end = time.time()\n",
    "print('Time to train: {:3.0f} minutes'.format((end - start)/60))"
   ]
  },
  {
   "cell_type": "code",
   "execution_count": null,
   "metadata": {},
   "outputs": [],
   "source": []
  },
  {
   "cell_type": "code",
   "execution_count": null,
   "metadata": {},
   "outputs": [],
   "source": []
  },
  {
   "cell_type": "code",
   "execution_count": null,
   "metadata": {},
   "outputs": [],
   "source": []
  }
 ],
 "metadata": {
  "kernelspec": {
   "display_name": "Python 3",
   "language": "python",
   "name": "python3"
  },
  "language_info": {
   "codemirror_mode": {
    "name": "ipython",
    "version": 3
   },
   "file_extension": ".py",
   "mimetype": "text/x-python",
   "name": "python",
   "nbconvert_exporter": "python",
   "pygments_lexer": "ipython3",
   "version": "3.10.6"
  },
  "orig_nbformat": 4,
  "vscode": {
   "interpreter": {
    "hash": "916dbcbb3f70747c44a77c7bcd40155683ae19c65e1c03b4aa3499c5328201f1"
   }
  }
 },
 "nbformat": 4,
 "nbformat_minor": 2
}
