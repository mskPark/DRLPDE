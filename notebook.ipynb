{
 "cells": [
  {
   "cell_type": "code",
   "execution_count": 1,
   "metadata": {},
   "outputs": [
    {
     "name": "stdout",
     "output_type": "stream",
     "text": [
      "step = 1000 of 10000, Elapsed Time: 3 min, Time to Go:31 min\n",
      "step = 2000 of 10000, Elapsed Time: 7 min, Time to Go:28 min\n",
      "step = 3000 of 10000, Elapsed Time:10 min, Time to Go:24 min\n",
      "step = 4000 of 10000, Elapsed Time:14 min, Time to Go:21 min\n",
      "step = 5000 of 10000, Elapsed Time:17 min, Time to Go:17 min\n",
      "step = 6000 of 10000, Elapsed Time:20 min, Time to Go:14 min\n",
      "step = 7000 of 10000, Elapsed Time:24 min, Time to Go:10 min\n",
      "step = 8000 of 10000, Elapsed Time:27 min, Time to Go: 7 min\n",
      "step = 9000 of 10000, Elapsed Time:31 min, Time to Go: 3 min\n",
      "Done\n",
      "Time to train:  34 minutes\n"
     ]
    }
   ],
   "source": [
    "import time\n",
    "import DRLPDE.main\n",
    "\n",
    "start = time.time()\n",
    "model = DRLPDE.main.solvePDE('example1',\n",
    "                             loadmodel='', \n",
    "                             savemodel='1_Baseline',\n",
    "                             nn_size= {'depth':2,\n",
    "                                       'width':256}, \n",
    "                             trainingsteps=1e4,\n",
    "                             method={'type':'direct'},\n",
    "                             learningrate=1e-4,\n",
    "                             resample_every= 1.1,\n",
    "                             walk= False,              \n",
    "                             importance_sampling= False)\n",
    "\n",
    "end = time.time()\n",
    "print('Time to train: {:3.0f} minutes'.format((end - start)/60))"
   ]
  },
  {
   "attachments": {},
   "cell_type": "markdown",
   "metadata": {},
   "source": [
    "## Test results\n",
    "\n",
    "TODO '1_Baseline' : Direct training with lr 1e-4, bdry_lr=1e-5\n",
    "TODO '1_Resample' : Direct training with resample = 50\n",
    "TODO '1_Walk'     : Direct training with walk\n",
    "\n",
    "TODO '1_Stochastic': lr 1e-4, "
   ]
  },
  {
   "cell_type": "code",
   "execution_count": 5,
   "metadata": {},
   "outputs": [
    {
     "data": {
      "text/plain": [
       "tensor(8.4800)"
      ]
     },
     "execution_count": 5,
     "metadata": {},
     "output_type": "execute_result"
    }
   ],
   "source": []
  },
  {
   "cell_type": "code",
   "execution_count": null,
   "metadata": {},
   "outputs": [],
   "source": []
  }
 ],
 "metadata": {
  "kernelspec": {
   "display_name": "Python 3",
   "language": "python",
   "name": "python3"
  },
  "language_info": {
   "codemirror_mode": {
    "name": "ipython",
    "version": 3
   },
   "file_extension": ".py",
   "mimetype": "text/x-python",
   "name": "python",
   "nbconvert_exporter": "python",
   "pygments_lexer": "ipython3",
   "version": "3.10.4"
  },
  "orig_nbformat": 4,
  "vscode": {
   "interpreter": {
    "hash": "916dbcbb3f70747c44a77c7bcd40155683ae19c65e1c03b4aa3499c5328201f1"
   }
  }
 },
 "nbformat": 4,
 "nbformat_minor": 2
}
