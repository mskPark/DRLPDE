{
 "cells": [
  {
   "cell_type": "code",
   "execution_count": 1,
   "metadata": {},
   "outputs": [
    {
     "name": "stdout",
     "output_type": "stream",
     "text": [
      "No errors in first epoch, training will continue\n",
      "Approx time: 0 minutes\n",
      "step = 100/100, 0.086 s/step, time-to-go: 0 min\n",
      "Saved the model state_dict at savedmodels/Testpt\n",
      "Time to train:   0 minutes\n"
     ]
    }
   ],
   "source": [
    "import time\n",
    "import DRLPDE.main\n",
    "\n",
    "start = time.time()\n",
    "model = DRLPDE.main.solvePDE()\n",
    "\n",
    "end = time.time()\n",
    "print('Time to train: {:3.0f} minutes'.format((end - start)/60))"
   ]
  },
  {
   "cell_type": "code",
   "execution_count": 1,
   "metadata": {},
   "outputs": [],
   "source": [
    "import torch\n",
    "import time\n",
    "class InteriorPoints(torch.utils.data.Dataset):\n",
    "    ###\n",
    "    ### Points that are inside the domain\n",
    "    ###\n",
    "\n",
    "    def __init__(self, num):\n",
    "        \n",
    "        self.location = torch.randn((num,2))\n",
    "        self.num_pts = num\n",
    "    \n",
    "    ### Required def for Dataset class\n",
    "    def __len__(self):\n",
    "        # How many data points are there?\n",
    "        return self.num_pts\n",
    "    \n",
    "    def __getitem__(self, index):\n",
    "        # Retrieves one sample of data\n",
    "        return self.location[index,:], index\n",
    "    \n"
   ]
  },
  {
   "cell_type": "code",
   "execution_count": 3,
   "metadata": {},
   "outputs": [
    {
     "name": "stdout",
     "output_type": "stream",
     "text": [
      "0.0010068416595458984\n"
     ]
    }
   ],
   "source": [
    "x = InteriorPoints(10000)\n",
    "\n",
    "s = time.time()\n",
    "for ii in range(100):\n",
    "    t = torch.utils.data.DataLoader(x, batch_size=1000, shuffle=True)\n",
    "\n",
    "e = time.time()\n",
    "\n",
    "print(e - s)"
   ]
  },
  {
   "cell_type": "code",
   "execution_count": null,
   "metadata": {},
   "outputs": [],
   "source": []
  },
  {
   "cell_type": "code",
   "execution_count": null,
   "metadata": {},
   "outputs": [],
   "source": []
  }
 ],
 "metadata": {
  "kernelspec": {
   "display_name": "Python 3",
   "language": "python",
   "name": "python3"
  },
  "language_info": {
   "codemirror_mode": {
    "name": "ipython",
    "version": 3
   },
   "file_extension": ".py",
   "mimetype": "text/x-python",
   "name": "python",
   "nbconvert_exporter": "python",
   "pygments_lexer": "ipython3",
   "version": "3.10.6"
  },
  "orig_nbformat": 4,
  "vscode": {
   "interpreter": {
    "hash": "916dbcbb3f70747c44a77c7bcd40155683ae19c65e1c03b4aa3499c5328201f1"
   }
  }
 },
 "nbformat": 4,
 "nbformat_minor": 2
}
