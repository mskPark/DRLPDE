{
 "cells": [
  {
   "cell_type": "code",
   "execution_count": null,
   "metadata": {},
   "outputs": [],
   "source": [
    "### Test 1\n",
    "\n",
    "# Direct Solve of the harmonic function\n",
    "#      u(x,y) = 5.1*( X[:,0] - 0.87 )**2 - 5.1*( X[:,1] + 0.34 )**2\n",
    "# in a polar region \n",
    "#      r = 0.72*cos(theta)**5 + 1.2\n"
   ]
  },
  {
   "cell_type": "code",
   "execution_count": 1,
   "metadata": {},
   "outputs": [
    {
     "name": "stdout",
     "output_type": "stream",
     "text": [
      "No errors in first epoch, training will continue\n",
      "Approx time: 44 minutes\n"
     ]
    }
   ],
   "source": [
    "# Test A Training steps\n",
    "\n",
    "# TODO: Train for a long time\n",
    "# TODO: Do multiple times, get an average and a variance\n",
    "\n",
    "import DRLPDE.main\n",
    "\n",
    "model = DRLPDE.main.solvePDE('example1', \n",
    "                                 savemodel='Test1A', \n",
    "                                 trainingsteps=1e4,\n",
    "                                 method={'type':'direct'},\n",
    "                                 weights={'interior':1e0,\n",
    "                                           'wall':0.0},\n",
    "                                 optimizer={'learningrate': 1e-4,\n",
    "                                            'beta': (0.9, 0.999),\n",
    "                                            'weightdecay': 0},\n",
    "                                 adaptive_weighting= {'reweight_every':1.1,\n",
    "                                                      'stepsize': 1e-3})"
   ]
  },
  {
   "cell_type": "code",
   "execution_count": null,
   "metadata": {},
   "outputs": [],
   "source": [
    "# Test B Number of interior points\n",
    "\n",
    "import DRLPDE.main\n",
    "for ii in range(7,17):\n",
    "    num = 2**ii\n",
    "    model = DRLPDE.main.solvePDE('example1', \n",
    "                                 savemodel='Test1B_' + str(ii), \n",
    "                                 numpts=num,\n",
    "                                 method={'type':'direct'},\n",
    "                                 weights={'interior':1e0,\n",
    "                                           'wall':0.0},\n",
    "                                 resample_every= 1.1)"
   ]
  },
  {
   "cell_type": "code",
   "execution_count": null,
   "metadata": {},
   "outputs": [],
   "source": [
    "# Test c Depth\n",
    "\n",
    "import DRLPDE.main\n",
    "\n",
    "for d in [2, 4, 8, 16, 32, 64]:\n",
    "    model = DRLPDE.main.solvePDE('example1', \n",
    "                                 savemodel='Test1C_' + str(d), \n",
    "                                 nn_size = {'depth': d,\n",
    "                                            'width': 60},\n",
    "                                 method={'type':'direct'},\n",
    "                                 weights={'interior':1e0,\n",
    "                                           'wall':0.0},\n",
    "                                 resample_every= 1.1)"
   ]
  },
  {
   "cell_type": "code",
   "execution_count": null,
   "metadata": {},
   "outputs": [],
   "source": [
    "# Test d Width\n",
    "\n",
    "import DRLPDE.main\n",
    "\n",
    "for w in [32, 64, 128, 256, 512, 1024]:\n",
    "    model = DRLPDE.main.solvePDE('example1', \n",
    "                                 savemodel='Test1D' + str(w), \n",
    "                                 nn_size = {'depth': 4,\n",
    "                                            'width': w},\n",
    "                                 method={'type':'direct'},\n",
    "                                 weights={'interior':1e0,\n",
    "                                           'wall':0.0},\n",
    "                                 resample_every= 1.1)"
   ]
  },
  {
   "cell_type": "code",
   "execution_count": null,
   "metadata": {},
   "outputs": [],
   "source": [
    "# Test e Large Depth + Width\n",
    "\n",
    "model = DRLPDE.main.solvePDE('example1', \n",
    "                            savemodel='Test1E' + str(ii), \n",
    "                            nn_size = {'depth': 64,\n",
    "                                    'width': 1024},\n",
    "                            method={'type':'direct'},\n",
    "                            weights={'interior':1e0,\n",
    "                                           'wall':0.0},\n",
    "                                 resample_every= 1.1)\n"
   ]
  },
  {
   "cell_type": "code",
   "execution_count": null,
   "metadata": {},
   "outputs": [],
   "source": [
    "# Test f Resampling interior points\n",
    "\n",
    "import DRLPDE.main\n",
    "\n",
    "model = DRLPDE.main.solvePDE('example1', \n",
    "                                 savemodel='Test1F', \n",
    "                                 trainingsteps=5000,\n",
    "                                 method={'type':'direct'},\n",
    "                                 weights={'interior':1e0,\n",
    "                                           'wall':0.0},\n",
    "                                 optimizer={'learningrate': 1e-4,\n",
    "                                            'beta': (0.9, 0.999),\n",
    "                                            'weightdecay': 0},\n",
    "                                 resample_every= 10)"
   ]
  },
  {
   "cell_type": "code",
   "execution_count": null,
   "metadata": {},
   "outputs": [],
   "source": [
    "# Test g Include boundary points + resample\n",
    "\n",
    "import DRLPDE.main\n",
    "\n",
    "model = DRLPDE.main.solvePDE('example1', \n",
    "                                 savemodel='Test1G', \n",
    "                                 trainingsteps=10000,\n",
    "                                 method={'type':'direct'},\n",
    "                                 weights={'interior':1e0,\n",
    "                                           'wall':1e0},\n",
    "                                 optimizer={'learningrate': 1e-4,\n",
    "                                            'beta': (0.9, 0.999),\n",
    "                                            'weightdecay': 0},\n",
    "                                 resample_every= 10)"
   ]
  },
  {
   "cell_type": "code",
   "execution_count": null,
   "metadata": {},
   "outputs": [],
   "source": []
  }
 ],
 "metadata": {
  "kernelspec": {
   "display_name": "Python 3",
   "language": "python",
   "name": "python3"
  },
  "language_info": {
   "codemirror_mode": {
    "name": "ipython",
    "version": 3
   },
   "file_extension": ".py",
   "mimetype": "text/x-python",
   "name": "python",
   "nbconvert_exporter": "python",
   "pygments_lexer": "ipython3",
   "version": "3.10.4"
  },
  "orig_nbformat": 4,
  "vscode": {
   "interpreter": {
    "hash": "916dbcbb3f70747c44a77c7bcd40155683ae19c65e1c03b4aa3499c5328201f1"
   }
  }
 },
 "nbformat": 4,
 "nbformat_minor": 2
}
