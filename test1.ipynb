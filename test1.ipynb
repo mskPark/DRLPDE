{
 "cells": [
  {
   "cell_type": "code",
   "execution_count": null,
   "metadata": {},
   "outputs": [],
   "source": [
    "### Test 1\n",
    "\n",
    "# Direct Solve of the harmonic function\n",
    "#      u(x,y) = 5.1*( X[:,0] - 0.87 )**2 - 5.1*( X[:,1] + 0.34 )**2\n",
    "# in a polar region \n",
    "#      r = 0.72*cos(theta)**5 + 1.3\n"
   ]
  },
  {
   "cell_type": "code",
   "execution_count": null,
   "metadata": {},
   "outputs": [],
   "source": [
    "# Test A Training steps\n",
    "\n",
    "# TODO: Train for a long time\n",
    "# TODO: Do multiple times, get an average and a variance\n",
    "\n",
    "import DRLPDE.main\n",
    "\n",
    "model = DRLPDE.main.solvePDE('example1', \n",
    "                                 savemodel='Test1A', \n",
    "                                 trainingsteps=10**2,\n",
    "                                 method={'type':'direct'})"
   ]
  },
  {
   "cell_type": "code",
   "execution_count": null,
   "metadata": {},
   "outputs": [],
   "source": [
    "# Test B Number of interior points\n",
    "\n",
    "# TODO: Train for varying number of interior points\n",
    "\n",
    "import DRLPDE.main\n",
    "for ii in range(7,14):\n",
    "    num = 2**ii\n",
    "    model = DRLPDE.main.solvePDE('example1', \n",
    "                                 savemodel='Test1B' + str(ii), \n",
    "                                 numpts=num,\n",
    "                                 method={'type':'direct'})"
   ]
  },
  {
   "cell_type": "code",
   "execution_count": null,
   "metadata": {},
   "outputs": [],
   "source": [
    "# Test c Width\n",
    "\n",
    "import DRLPDE.main\n",
    "\n",
    "for ii in range(5):\n",
    "    w = 2 + 2*ii\n",
    "    model = DRLPDE.main.solvePDE('example1', \n",
    "                                 savemodel='Test1C' + str(ii), \n",
    "                                 nn_size = {'depth': 60,\n",
    "                                            'width': w},\n",
    "                                 method={'type':'direct'})"
   ]
  },
  {
   "cell_type": "code",
   "execution_count": null,
   "metadata": {},
   "outputs": [],
   "source": [
    "# Test d Depth\n",
    "\n",
    "import DRLPDE.main\n",
    "\n",
    "for ii in range(5):\n",
    "    d = 20 + 40*ii\n",
    "    model = DRLPDE.main.solvePDE('example1', \n",
    "                                 savemodel='Test1D' + str(ii), \n",
    "                                 nn_size = {'depth': d,\n",
    "                                            'width': 4},\n",
    "                                 method={'type':'direct'})"
   ]
  },
  {
   "cell_type": "code",
   "execution_count": null,
   "metadata": {},
   "outputs": [],
   "source": [
    "# Test e Large Depth + Width\n"
   ]
  },
  {
   "cell_type": "code",
   "execution_count": null,
   "metadata": {},
   "outputs": [],
   "source": [
    "# Test f Resampling interior points"
   ]
  }
 ],
 "metadata": {
  "kernelspec": {
   "display_name": "Python 3",
   "language": "python",
   "name": "python3"
  },
  "language_info": {
   "codemirror_mode": {
    "name": "ipython",
    "version": 3
   },
   "file_extension": ".py",
   "mimetype": "text/x-python",
   "name": "python",
   "nbconvert_exporter": "python",
   "pygments_lexer": "ipython3",
   "version": "3.10.6"
  },
  "orig_nbformat": 4,
  "vscode": {
   "interpreter": {
    "hash": "916dbcbb3f70747c44a77c7bcd40155683ae19c65e1c03b4aa3499c5328201f1"
   }
  }
 },
 "nbformat": 4,
 "nbformat_minor": 2
}
