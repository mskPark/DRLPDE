{
 "cells": [
  {
   "cell_type": "code",
   "execution_count": 2,
   "metadata": {},
   "outputs": [],
   "source": [
    "### Test 2\n",
    "\n",
    "# Martingale Solve of the harmonic function\n",
    "#      u(x,y) = 5.1*( X[:,0] - 0.87 )**2 - 5.1*( X[:,1] + 0.34 )**2\n",
    "# in a polar region \n",
    "#      r = 0.72*cos(theta)**5 + 1.2\n"
   ]
  },
  {
   "cell_type": "code",
   "execution_count": 3,
   "metadata": {},
   "outputs": [
    {
     "name": "stdout",
     "output_type": "stream",
     "text": [
      "step = 10 of 100, Elapsed Time: 0 min, Time to Go: 2 min\n"
     ]
    }
   ],
   "source": [
    "# A Training Steps\n",
    "\n",
    "import DRLPDE.main\n",
    "\n",
    "model = DRLPDE.main.solvePDE('example1', \n",
    "                                 savemodel='Test_Stochastic', \n",
    "                                 trainingsteps=10**2,\n",
    "                                 method={'type':'stochastic',\n",
    "                                      'dt':1e-4,\n",
    "                                      'num_ghost':128,\n",
    "                                      'tol': 1e-6},\n",
    "                                resample_every= 1.1,\n",
    "                                walk = False,\n",
    "                                importance_sampling = False)"
   ]
  },
  {
   "cell_type": "code",
   "execution_count": null,
   "metadata": {},
   "outputs": [],
   "source": [
    "# Test changes in dt\n",
    "# dt = 1e-1, 1e-2, 1e-3, 1e-4, 1e-5\n",
    "\n",
    "import DRLPDE.main\n",
    "for ii in range(1,6):\n",
    "    model = DRLPDE.main.solvePDE('example1', \n",
    "                                 savemodel='Test2C', \n",
    "                                 trainingsteps=10**4,\n",
    "                                 method={'type':'stochastic',\n",
    "                                      'dt':10**(-ii),\n",
    "                                      'num_ghost':128,\n",
    "                                      'tol': 1e-6},\n",
    "                                resample_every= 1.1,\n",
    "                                walk = False,\n",
    "                                importance_sampling = False)\n",
    "\n",
    "# Plot final errors"
   ]
  },
  {
   "cell_type": "code",
   "execution_count": null,
   "metadata": {},
   "outputs": [],
   "source": [
    "# Try walking vs Resampling points: Reinforcement Learning vs just searching randomly\n",
    "# walk_every = 10\n",
    "# resample = 10\n",
    "\n",
    "import DRLPDE.main\n",
    "\n",
    "model = DRLPDE.main.solvePDE('example1', \n",
    "                                 savemodel='Test2D', \n",
    "                                 trainingsteps=10**4,\n",
    "                                 method={'type':'stochastic',\n",
    "                                      'dt':1e-4,\n",
    "                                      'num_ghost':128,\n",
    "                                      'tol': 1e-6},\n",
    "                                 weight={'interior':1e0,\n",
    "                                         'wall': 0.0},\n",
    "                                resample_every= 1.1,\n",
    "                                walk = False,\n",
    "                                importance_sampling = False)"
   ]
  },
  {
   "cell_type": "code",
   "execution_count": 1,
   "metadata": {},
   "outputs": [
    {
     "name": "stdout",
     "output_type": "stream",
     "text": [
      "step = 10 of 100, Elapsed Time: 0 min, Time to Go: 2 min\n",
      "step = 20 of 100, Elapsed Time: 0 min, Time to Go: 2 min\n"
     ]
    }
   ],
   "source": [
    "## JCP example 4\n",
    "\n",
    "## TODO Fix create.thePoints\n",
    "\n",
    "import DRLPDE.main\n",
    "\n",
    "model = DRLPDE.main.solvePDE('TaylorGreen', \n",
    "                                 savemodel='Test_Stochastic', \n",
    "                                 trainingsteps=10**2,\n",
    "                                 method={'type':'stochastic',\n",
    "                                      'dt':1e-4,\n",
    "                                      'num_ghost':128,\n",
    "                                      'tol': 1e-6},\n",
    "                                resample_every= 1.1,\n",
    "                                walk = False,\n",
    "                                importance_sampling = False)"
   ]
  },
  {
   "cell_type": "code",
   "execution_count": 3,
   "metadata": {},
   "outputs": [],
   "source": [
    "import torch\n",
    "\n",
    "class Test(torch.utils.data.Dataset):\n",
    "    ###\n",
    "    ### Points that are inside the domain\n",
    "    ###\n",
    "\n",
    "    def __init__(self, num):\n",
    "        \n",
    "        self.location = torch.randn(num,2)\n",
    "        self.num_pts = num\n",
    "\n",
    "    ### Required def for Dataset class\n",
    "    def __len__(self):\n",
    "        # How many data points are there?\n",
    "        return self.num_pts\n",
    "    \n",
    "    def __getitem__(self, index):\n",
    "        # Retrieves one sample of data\n",
    "        return self.location[index,:], index\n",
    "  \n",
    "\n",
    "A = Test(10)\n",
    "\n",
    "B = torch.utils.data.DataLoader(A, batch_size=20, shuffle=True)"
   ]
  },
  {
   "cell_type": "code",
   "execution_count": 13,
   "metadata": {},
   "outputs": [
    {
     "name": "stdout",
     "output_type": "stream",
     "text": [
      "Okay\n"
     ]
    }
   ],
   "source": [
    "import torch\n",
    "\n",
    "A = torch.randn(10)\n",
    "if A.size():\n",
    "    print('Okay') "
   ]
  },
  {
   "cell_type": "code",
   "execution_count": null,
   "metadata": {},
   "outputs": [
    {
     "data": {
      "text/plain": [
       "tensor(2.1056)"
      ]
     },
     "execution_count": 4,
     "metadata": {},
     "output_type": "execute_result"
    }
   ],
   "source": []
  },
  {
   "cell_type": "code",
   "execution_count": null,
   "metadata": {},
   "outputs": [],
   "source": [
    "import torch\n",
    "A = torch.randn(10)\n",
    "ii = torch.tensor(3, dtype=torch.int64)\n"
   ]
  },
  {
   "cell_type": "code",
   "execution_count": null,
   "metadata": {},
   "outputs": [
    {
     "data": {
      "text/plain": [
       "tensor(-1.6510)"
      ]
     },
     "execution_count": 4,
     "metadata": {},
     "output_type": "execute_result"
    }
   ],
   "source": []
  },
  {
   "cell_type": "code",
   "execution_count": null,
   "metadata": {},
   "outputs": [],
   "source": []
  }
 ],
 "metadata": {
  "kernelspec": {
   "display_name": "Python 3",
   "language": "python",
   "name": "python3"
  },
  "language_info": {
   "codemirror_mode": {
    "name": "ipython",
    "version": 3
   },
   "file_extension": ".py",
   "mimetype": "text/x-python",
   "name": "python",
   "nbconvert_exporter": "python",
   "pygments_lexer": "ipython3",
   "version": "3.10.6"
  },
  "orig_nbformat": 4
 },
 "nbformat": 4,
 "nbformat_minor": 2
}
