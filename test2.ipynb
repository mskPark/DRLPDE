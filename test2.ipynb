{
 "cells": [
  {
   "cell_type": "code",
   "execution_count": 1,
   "metadata": {},
   "outputs": [],
   "source": [
    "### Test 2\n",
    "\n",
    "# Martingale Solve of the harmonic function\n",
    "#      u(x,y) = 5.1*( X[:,0] - 0.87 )**2 - 5.1*( X[:,1] + 0.34 )**2\n",
    "# in a polar region \n",
    "#      r = 0.72*cos(theta)**5 + 1.2\n"
   ]
  },
  {
   "cell_type": "code",
   "execution_count": 2,
   "metadata": {},
   "outputs": [
    {
     "name": "stdout",
     "output_type": "stream",
     "text": [
      "No errors in first epoch, training will continue\n"
     ]
    },
    {
     "ename": "RuntimeError",
     "evalue": "Expected all tensors to be on the same device, but found at least two devices, cuda:0 and cpu! (when checking argument for argument mat1 in method wrapper_addmm)",
     "output_type": "error",
     "traceback": [
      "\u001b[1;31m---------------------------------------------------------------------------\u001b[0m",
      "\u001b[1;31mRuntimeError\u001b[0m                              Traceback (most recent call last)",
      "\u001b[1;32mc:\\Users\\Kevin\\Documents\\GitHub\\DRLPDE\\test2.ipynb Cell 2\u001b[0m in \u001b[0;36m<cell line: 7>\u001b[1;34m()\u001b[0m\n\u001b[0;32m      <a href='vscode-notebook-cell:/c%3A/Users/Kevin/Documents/GitHub/DRLPDE/test2.ipynb#X14sZmlsZQ%3D%3D?line=0'>1</a>\u001b[0m \u001b[39m# A Training Steps\u001b[39;00m\n\u001b[0;32m      <a href='vscode-notebook-cell:/c%3A/Users/Kevin/Documents/GitHub/DRLPDE/test2.ipynb#X14sZmlsZQ%3D%3D?line=1'>2</a>\u001b[0m \u001b[39m# Show that it works for some ''default'' parameters\u001b[39;00m\n\u001b[0;32m      <a href='vscode-notebook-cell:/c%3A/Users/Kevin/Documents/GitHub/DRLPDE/test2.ipynb#X14sZmlsZQ%3D%3D?line=2'>3</a>\u001b[0m \u001b[39m# Train for a long time, so that it converges\u001b[39;00m\n\u001b[0;32m      <a href='vscode-notebook-cell:/c%3A/Users/Kevin/Documents/GitHub/DRLPDE/test2.ipynb#X14sZmlsZQ%3D%3D?line=4'>5</a>\u001b[0m \u001b[39mimport\u001b[39;00m \u001b[39mDRLPDE\u001b[39;00m\u001b[39m.\u001b[39;00m\u001b[39mmain\u001b[39;00m\n\u001b[1;32m----> <a href='vscode-notebook-cell:/c%3A/Users/Kevin/Documents/GitHub/DRLPDE/test2.ipynb#X14sZmlsZQ%3D%3D?line=6'>7</a>\u001b[0m model \u001b[39m=\u001b[39m DRLPDE\u001b[39m.\u001b[39;49mmain\u001b[39m.\u001b[39;49msolvePDE(\u001b[39m'\u001b[39;49m\u001b[39mexample1\u001b[39;49m\u001b[39m'\u001b[39;49m, \n\u001b[0;32m      <a href='vscode-notebook-cell:/c%3A/Users/Kevin/Documents/GitHub/DRLPDE/test2.ipynb#X14sZmlsZQ%3D%3D?line=7'>8</a>\u001b[0m                                  savemodel\u001b[39m=\u001b[39;49m\u001b[39m'\u001b[39;49m\u001b[39mTest2A\u001b[39;49m\u001b[39m'\u001b[39;49m, \n\u001b[0;32m      <a href='vscode-notebook-cell:/c%3A/Users/Kevin/Documents/GitHub/DRLPDE/test2.ipynb#X14sZmlsZQ%3D%3D?line=8'>9</a>\u001b[0m                                  trainingsteps\u001b[39m=\u001b[39;49m\u001b[39m10\u001b[39;49m\u001b[39m*\u001b[39;49m\u001b[39m*\u001b[39;49m\u001b[39m4\u001b[39;49m,\n\u001b[0;32m     <a href='vscode-notebook-cell:/c%3A/Users/Kevin/Documents/GitHub/DRLPDE/test2.ipynb#X14sZmlsZQ%3D%3D?line=9'>10</a>\u001b[0m                                  method\u001b[39m=\u001b[39;49m{\u001b[39m'\u001b[39;49m\u001b[39mtype\u001b[39;49m\u001b[39m'\u001b[39;49m:\u001b[39m'\u001b[39;49m\u001b[39mstochastic\u001b[39;49m\u001b[39m'\u001b[39;49m,\n\u001b[0;32m     <a href='vscode-notebook-cell:/c%3A/Users/Kevin/Documents/GitHub/DRLPDE/test2.ipynb#X14sZmlsZQ%3D%3D?line=10'>11</a>\u001b[0m                                       \u001b[39m'\u001b[39;49m\u001b[39mdt\u001b[39;49m\u001b[39m'\u001b[39;49m:\u001b[39m1e-4\u001b[39;49m,\n\u001b[0;32m     <a href='vscode-notebook-cell:/c%3A/Users/Kevin/Documents/GitHub/DRLPDE/test2.ipynb#X14sZmlsZQ%3D%3D?line=11'>12</a>\u001b[0m                                       \u001b[39m'\u001b[39;49m\u001b[39mnum_ghost\u001b[39;49m\u001b[39m'\u001b[39;49m:\u001b[39m128\u001b[39;49m,\n\u001b[0;32m     <a href='vscode-notebook-cell:/c%3A/Users/Kevin/Documents/GitHub/DRLPDE/test2.ipynb#X14sZmlsZQ%3D%3D?line=12'>13</a>\u001b[0m                                       \u001b[39m'\u001b[39;49m\u001b[39mtol\u001b[39;49m\u001b[39m'\u001b[39;49m: \u001b[39m1e-6\u001b[39;49m},\n\u001b[0;32m     <a href='vscode-notebook-cell:/c%3A/Users/Kevin/Documents/GitHub/DRLPDE/test2.ipynb#X14sZmlsZQ%3D%3D?line=13'>14</a>\u001b[0m                                  weight\u001b[39m=\u001b[39;49m{\u001b[39m'\u001b[39;49m\u001b[39minterior\u001b[39;49m\u001b[39m'\u001b[39;49m:\u001b[39m1e0\u001b[39;49m,\n\u001b[0;32m     <a href='vscode-notebook-cell:/c%3A/Users/Kevin/Documents/GitHub/DRLPDE/test2.ipynb#X14sZmlsZQ%3D%3D?line=14'>15</a>\u001b[0m                                          \u001b[39m'\u001b[39;49m\u001b[39mwall\u001b[39;49m\u001b[39m'\u001b[39;49m: \u001b[39m0.0\u001b[39;49m},\n\u001b[0;32m     <a href='vscode-notebook-cell:/c%3A/Users/Kevin/Documents/GitHub/DRLPDE/test2.ipynb#X14sZmlsZQ%3D%3D?line=15'>16</a>\u001b[0m                                 resample_every\u001b[39m=\u001b[39;49m \u001b[39m1\u001b[39;49m,\n\u001b[0;32m     <a href='vscode-notebook-cell:/c%3A/Users/Kevin/Documents/GitHub/DRLPDE/test2.ipynb#X14sZmlsZQ%3D%3D?line=16'>17</a>\u001b[0m                                 walk \u001b[39m=\u001b[39;49m \u001b[39mTrue\u001b[39;49;00m,\n\u001b[0;32m     <a href='vscode-notebook-cell:/c%3A/Users/Kevin/Documents/GitHub/DRLPDE/test2.ipynb#X14sZmlsZQ%3D%3D?line=17'>18</a>\u001b[0m                                 importance_sampling \u001b[39m=\u001b[39;49m \u001b[39mFalse\u001b[39;49;00m)\n",
      "File \u001b[1;32mc:\\Users\\Kevin\\Documents\\GitHub\\DRLPDE\\DRLPDE\\main.py:414\u001b[0m, in \u001b[0;36msolvePDE\u001b[1;34m(parameters, **solver)\u001b[0m\n\u001b[0;32m    412\u001b[0m     indices \u001b[39m=\u001b[39m indices[resample_interior]\n\u001b[0;32m    413\u001b[0m \u001b[39mif\u001b[39;00m walk:\n\u001b[1;32m--> 414\u001b[0m     IntPoints\u001b[39m.\u001b[39mlocation[indices,:] \u001b[39m=\u001b[39m method\u001b[39m.\u001b[39mwalk(IntPoints\u001b[39m.\u001b[39mlocation[indices,:], num, model, input_dim, input_range, \u001b[39m*\u001b[39m\u001b[39m*\u001b[39mvar_train)\n\u001b[0;32m    415\u001b[0m \u001b[39melse\u001b[39;00m:\n\u001b[0;32m    416\u001b[0m     IntPoints\u001b[39m.\u001b[39mlocation[indices,:] \u001b[39m=\u001b[39m create\u001b[39m.\u001b[39mgenerate_interior_points(indices\u001b[39m.\u001b[39msize(\u001b[39m0\u001b[39m), input_dim, input_range, Domain, Domain\u001b[39m.\u001b[39minside)\n",
      "File \u001b[1;32mc:\\Users\\Kevin\\Documents\\GitHub\\DRLPDE\\DRLPDE\\stochastic.py:306\u001b[0m, in \u001b[0;36mwalk\u001b[1;34m(X, num, model, input_dim, input_range, diffusion, x_dim, domain, dt, **var_train)\u001b[0m\n\u001b[0;32m    303\u001b[0m \u001b[39mdef\u001b[39;00m \u001b[39mwalk\u001b[39m(X, num, model, input_dim, input_range, diffusion, x_dim, domain, dt, \u001b[39m*\u001b[39m\u001b[39m*\u001b[39mvar_train):\n\u001b[0;32m    304\u001b[0m     \n\u001b[0;32m    305\u001b[0m     \u001b[39m# Evaluate at X\u001b[39;00m\n\u001b[1;32m--> 306\u001b[0m     Uold \u001b[39m=\u001b[39m model(X)\n\u001b[0;32m    308\u001b[0m     \u001b[39m# Diffusion coefficient\u001b[39;00m\n\u001b[0;32m    309\u001b[0m     mu \u001b[39m=\u001b[39m diffusion(X)\u001b[39m.\u001b[39mdetach()\n",
      "File \u001b[1;32mc:\\Users\\Kevin\\AppData\\Local\\Programs\\Python\\Python310\\lib\\site-packages\\torch\\nn\\modules\\module.py:1110\u001b[0m, in \u001b[0;36mModule._call_impl\u001b[1;34m(self, *input, **kwargs)\u001b[0m\n\u001b[0;32m   1106\u001b[0m \u001b[39m# If we don't have any hooks, we want to skip the rest of the logic in\u001b[39;00m\n\u001b[0;32m   1107\u001b[0m \u001b[39m# this function, and just call forward.\u001b[39;00m\n\u001b[0;32m   1108\u001b[0m \u001b[39mif\u001b[39;00m \u001b[39mnot\u001b[39;00m (\u001b[39mself\u001b[39m\u001b[39m.\u001b[39m_backward_hooks \u001b[39mor\u001b[39;00m \u001b[39mself\u001b[39m\u001b[39m.\u001b[39m_forward_hooks \u001b[39mor\u001b[39;00m \u001b[39mself\u001b[39m\u001b[39m.\u001b[39m_forward_pre_hooks \u001b[39mor\u001b[39;00m _global_backward_hooks\n\u001b[0;32m   1109\u001b[0m         \u001b[39mor\u001b[39;00m _global_forward_hooks \u001b[39mor\u001b[39;00m _global_forward_pre_hooks):\n\u001b[1;32m-> 1110\u001b[0m     \u001b[39mreturn\u001b[39;00m forward_call(\u001b[39m*\u001b[39m\u001b[39minput\u001b[39m, \u001b[39m*\u001b[39m\u001b[39m*\u001b[39mkwargs)\n\u001b[0;32m   1111\u001b[0m \u001b[39m# Do not call functions when jit is used\u001b[39;00m\n\u001b[0;32m   1112\u001b[0m full_backward_hooks, non_full_backward_hooks \u001b[39m=\u001b[39m [], []\n",
      "File \u001b[1;32mc:\\Users\\Kevin\\Documents\\GitHub\\DRLPDE\\DRLPDE\\neuralnets.py:259\u001b[0m, in \u001b[0;36mFeedForwardNN.forward\u001b[1;34m(self, x)\u001b[0m\n\u001b[0;32m    258\u001b[0m \u001b[39mdef\u001b[39;00m \u001b[39mforward\u001b[39m(\u001b[39mself\u001b[39m, x):\n\u001b[1;32m--> 259\u001b[0m     a \u001b[39m=\u001b[39m \u001b[39mself\u001b[39;49m\u001b[39m.\u001b[39;49msequential_model(x)\n\u001b[0;32m    261\u001b[0m     \u001b[39mreturn\u001b[39;00m a\n",
      "File \u001b[1;32mc:\\Users\\Kevin\\AppData\\Local\\Programs\\Python\\Python310\\lib\\site-packages\\torch\\nn\\modules\\module.py:1110\u001b[0m, in \u001b[0;36mModule._call_impl\u001b[1;34m(self, *input, **kwargs)\u001b[0m\n\u001b[0;32m   1106\u001b[0m \u001b[39m# If we don't have any hooks, we want to skip the rest of the logic in\u001b[39;00m\n\u001b[0;32m   1107\u001b[0m \u001b[39m# this function, and just call forward.\u001b[39;00m\n\u001b[0;32m   1108\u001b[0m \u001b[39mif\u001b[39;00m \u001b[39mnot\u001b[39;00m (\u001b[39mself\u001b[39m\u001b[39m.\u001b[39m_backward_hooks \u001b[39mor\u001b[39;00m \u001b[39mself\u001b[39m\u001b[39m.\u001b[39m_forward_hooks \u001b[39mor\u001b[39;00m \u001b[39mself\u001b[39m\u001b[39m.\u001b[39m_forward_pre_hooks \u001b[39mor\u001b[39;00m _global_backward_hooks\n\u001b[0;32m   1109\u001b[0m         \u001b[39mor\u001b[39;00m _global_forward_hooks \u001b[39mor\u001b[39;00m _global_forward_pre_hooks):\n\u001b[1;32m-> 1110\u001b[0m     \u001b[39mreturn\u001b[39;00m forward_call(\u001b[39m*\u001b[39m\u001b[39minput\u001b[39m, \u001b[39m*\u001b[39m\u001b[39m*\u001b[39mkwargs)\n\u001b[0;32m   1111\u001b[0m \u001b[39m# Do not call functions when jit is used\u001b[39;00m\n\u001b[0;32m   1112\u001b[0m full_backward_hooks, non_full_backward_hooks \u001b[39m=\u001b[39m [], []\n",
      "File \u001b[1;32mc:\\Users\\Kevin\\AppData\\Local\\Programs\\Python\\Python310\\lib\\site-packages\\torch\\nn\\modules\\container.py:141\u001b[0m, in \u001b[0;36mSequential.forward\u001b[1;34m(self, input)\u001b[0m\n\u001b[0;32m    139\u001b[0m \u001b[39mdef\u001b[39;00m \u001b[39mforward\u001b[39m(\u001b[39mself\u001b[39m, \u001b[39minput\u001b[39m):\n\u001b[0;32m    140\u001b[0m     \u001b[39mfor\u001b[39;00m module \u001b[39min\u001b[39;00m \u001b[39mself\u001b[39m:\n\u001b[1;32m--> 141\u001b[0m         \u001b[39minput\u001b[39m \u001b[39m=\u001b[39m module(\u001b[39minput\u001b[39;49m)\n\u001b[0;32m    142\u001b[0m     \u001b[39mreturn\u001b[39;00m \u001b[39minput\u001b[39m\n",
      "File \u001b[1;32mc:\\Users\\Kevin\\AppData\\Local\\Programs\\Python\\Python310\\lib\\site-packages\\torch\\nn\\modules\\module.py:1110\u001b[0m, in \u001b[0;36mModule._call_impl\u001b[1;34m(self, *input, **kwargs)\u001b[0m\n\u001b[0;32m   1106\u001b[0m \u001b[39m# If we don't have any hooks, we want to skip the rest of the logic in\u001b[39;00m\n\u001b[0;32m   1107\u001b[0m \u001b[39m# this function, and just call forward.\u001b[39;00m\n\u001b[0;32m   1108\u001b[0m \u001b[39mif\u001b[39;00m \u001b[39mnot\u001b[39;00m (\u001b[39mself\u001b[39m\u001b[39m.\u001b[39m_backward_hooks \u001b[39mor\u001b[39;00m \u001b[39mself\u001b[39m\u001b[39m.\u001b[39m_forward_hooks \u001b[39mor\u001b[39;00m \u001b[39mself\u001b[39m\u001b[39m.\u001b[39m_forward_pre_hooks \u001b[39mor\u001b[39;00m _global_backward_hooks\n\u001b[0;32m   1109\u001b[0m         \u001b[39mor\u001b[39;00m _global_forward_hooks \u001b[39mor\u001b[39;00m _global_forward_pre_hooks):\n\u001b[1;32m-> 1110\u001b[0m     \u001b[39mreturn\u001b[39;00m forward_call(\u001b[39m*\u001b[39m\u001b[39minput\u001b[39m, \u001b[39m*\u001b[39m\u001b[39m*\u001b[39mkwargs)\n\u001b[0;32m   1111\u001b[0m \u001b[39m# Do not call functions when jit is used\u001b[39;00m\n\u001b[0;32m   1112\u001b[0m full_backward_hooks, non_full_backward_hooks \u001b[39m=\u001b[39m [], []\n",
      "File \u001b[1;32mc:\\Users\\Kevin\\AppData\\Local\\Programs\\Python\\Python310\\lib\\site-packages\\torch\\nn\\modules\\linear.py:103\u001b[0m, in \u001b[0;36mLinear.forward\u001b[1;34m(self, input)\u001b[0m\n\u001b[0;32m    102\u001b[0m \u001b[39mdef\u001b[39;00m \u001b[39mforward\u001b[39m(\u001b[39mself\u001b[39m, \u001b[39minput\u001b[39m: Tensor) \u001b[39m-\u001b[39m\u001b[39m>\u001b[39m Tensor:\n\u001b[1;32m--> 103\u001b[0m     \u001b[39mreturn\u001b[39;00m F\u001b[39m.\u001b[39;49mlinear(\u001b[39minput\u001b[39;49m, \u001b[39mself\u001b[39;49m\u001b[39m.\u001b[39;49mweight, \u001b[39mself\u001b[39;49m\u001b[39m.\u001b[39;49mbias)\n",
      "\u001b[1;31mRuntimeError\u001b[0m: Expected all tensors to be on the same device, but found at least two devices, cuda:0 and cpu! (when checking argument for argument mat1 in method wrapper_addmm)"
     ]
    }
   ],
   "source": [
    "# A Training Steps\n",
    "# Show that it works for some ''default'' parameters\n",
    "# Train for a long time, so that it converges\n",
    "\n",
    "import DRLPDE.main\n",
    "\n",
    "model = DRLPDE.main.solvePDE('example1', \n",
    "                                 savemodel='Test2A', \n",
    "                                 trainingsteps=10**4,\n",
    "                                 method={'type':'stochastic',\n",
    "                                      'dt':1e-4,\n",
    "                                      'num_ghost':128,\n",
    "                                      'tol': 1e-6},\n",
    "                                 weight={'interior':1e0,\n",
    "                                         'wall': 0.0},\n",
    "                                resample_every= 1,\n",
    "                                walk = True,\n",
    "                                importance_sampling = False)"
   ]
  },
  {
   "cell_type": "code",
   "execution_count": null,
   "metadata": {},
   "outputs": [],
   "source": [
    "# B Incorporate wall weighting\n",
    "\n",
    "# Looking for faster convergence\n",
    "\n",
    "import DRLPDE.main\n",
    "for ii in range(0,3):\n",
    "    model = DRLPDE.main.solvePDE('example1', \n",
    "                                 savemodel='Test2B', \n",
    "                                 trainingsteps=10**4,\n",
    "                                 method={'type':'stochastic',\n",
    "                                      'dt':1e-4,\n",
    "                                      'num_ghost':128,\n",
    "                                      'tol': 1e-6},\n",
    "                                 weight={'interior':1e2,\n",
    "                                         'wall': 1e0})\n",
    "\n"
   ]
  },
  {
   "cell_type": "code",
   "execution_count": null,
   "metadata": {},
   "outputs": [],
   "source": [
    "# C Changes in dt\n",
    "# dt = 1e-1, 1e-2, 1e-3, 1e-4, 1e-5\n",
    "\n",
    "import DRLPDE.main\n",
    "for ii in range(1,6):\n",
    "    model = DRLPDE.main.solvePDE('example1', \n",
    "                                 savemodel='Test2C', \n",
    "                                 trainingsteps=10**4,\n",
    "                                 method={'type':'stochastic',\n",
    "                                      'dt':10**(-ii),\n",
    "                                      'num_ghost':128,\n",
    "                                      'tol': 1e-6},\n",
    "                                 weight={'interior':1e2,\n",
    "                                         'wall': 1e0})\n",
    "\n",
    "# Plot final errors"
   ]
  },
  {
   "cell_type": "code",
   "execution_count": null,
   "metadata": {},
   "outputs": [],
   "source": [
    "# D Try walking vs Resampling points: Reinforcement Learning vs just searching randomly\n",
    "# walk_every = 10\n",
    "# resample = 10\n",
    "\n",
    "import DRLPDE.main\n",
    "\n",
    "model = DRLPDE.main.solvePDE('example1', \n",
    "                                 savemodel='Test2D', \n",
    "                                 trainingsteps=10**4,\n",
    "                                 method={'type':'stochastic',\n",
    "                                      'dt':1e-4,\n",
    "                                      'num_ghost':128,\n",
    "                                      'tol': 1e-6},\n",
    "                                 weight={'interior':1e0,\n",
    "                                         'wall': 0.0},\n",
    "                                resample_every= 1,\n",
    "                                walk = True,\n",
    "                                importance_sampling = False)"
   ]
  },
  {
   "cell_type": "code",
   "execution_count": null,
   "metadata": {},
   "outputs": [],
   "source": []
  },
  {
   "cell_type": "code",
   "execution_count": null,
   "metadata": {},
   "outputs": [],
   "source": [
    "\n"
   ]
  },
  {
   "cell_type": "code",
   "execution_count": null,
   "metadata": {},
   "outputs": [],
   "source": []
  },
  {
   "cell_type": "code",
   "execution_count": null,
   "metadata": {},
   "outputs": [],
   "source": [
    "A = torch.arange(100)\n",
    "A.size(0)"
   ]
  },
  {
   "cell_type": "code",
   "execution_count": null,
   "metadata": {},
   "outputs": [],
   "source": []
  }
 ],
 "metadata": {
  "kernelspec": {
   "display_name": "Python 3",
   "language": "python",
   "name": "python3"
  },
  "language_info": {
   "codemirror_mode": {
    "name": "ipython",
    "version": 3
   },
   "file_extension": ".py",
   "mimetype": "text/x-python",
   "name": "python",
   "nbconvert_exporter": "python",
   "pygments_lexer": "ipython3",
   "version": "3.10.4"
  },
  "orig_nbformat": 4
 },
 "nbformat": 4,
 "nbformat_minor": 2
}
