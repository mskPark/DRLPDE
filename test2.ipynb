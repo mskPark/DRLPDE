{
 "cells": [
  {
   "cell_type": "code",
   "execution_count": 2,
   "metadata": {},
   "outputs": [],
   "source": [
    "### Test 2\n",
    "\n",
    "# Martingale Solve of the harmonic function\n",
    "#      u(x,y) = 5.1*( X[:,0] - 0.87 )**2 - 5.1*( X[:,1] + 0.34 )**2\n",
    "# in a polar region \n",
    "#      r = 0.72*cos(theta)**5 + 1.2\n"
   ]
  },
  {
   "cell_type": "code",
   "execution_count": 3,
   "metadata": {},
   "outputs": [
    {
     "name": "stdout",
     "output_type": "stream",
     "text": [
      "step = 10 of 100, Elapsed Time: 0 min, Time to Go: 2 min\n"
     ]
    }
   ],
   "source": [
    "# A Training Steps\n",
    "\n",
    "import DRLPDE.main\n",
    "\n",
    "model = DRLPDE.main.solvePDE('example1', \n",
    "                                 savemodel='Test_Stochastic', \n",
    "                                 trainingsteps=10**2,\n",
    "                                 method={'type':'stochastic',\n",
    "                                      'dt':1e-4,\n",
    "                                      'num_ghost':128,\n",
    "                                      'tol': 1e-6},\n",
    "                                resample_every= 1.1,\n",
    "                                walk = False,\n",
    "                                importance_sampling = False)"
   ]
  },
  {
   "cell_type": "code",
   "execution_count": null,
   "metadata": {},
   "outputs": [],
   "source": [
    "# Test changes in dt\n",
    "# dt = 1e-1, 1e-2, 1e-3, 1e-4, 1e-5\n",
    "\n",
    "import DRLPDE.main\n",
    "for ii in range(1,6):\n",
    "    model = DRLPDE.main.solvePDE('example1', \n",
    "                                 savemodel='Test2C', \n",
    "                                 trainingsteps=10**4,\n",
    "                                 method={'type':'stochastic',\n",
    "                                      'dt':10**(-ii),\n",
    "                                      'num_ghost':128,\n",
    "                                      'tol': 1e-6},\n",
    "                                resample_every= 1.1,\n",
    "                                walk = False,\n",
    "                                importance_sampling = False)\n",
    "\n",
    "# Plot final errors"
   ]
  },
  {
   "cell_type": "code",
   "execution_count": null,
   "metadata": {},
   "outputs": [],
   "source": [
    "# Try walking vs Resampling points: Reinforcement Learning vs just searching randomly\n",
    "# walk_every = 10\n",
    "# resample = 10\n",
    "\n",
    "import DRLPDE.main\n",
    "\n",
    "model = DRLPDE.main.solvePDE('example1', \n",
    "                                 savemodel='Test2D', \n",
    "                                 trainingsteps=10**4,\n",
    "                                 method={'type':'stochastic',\n",
    "                                      'dt':1e-4,\n",
    "                                      'num_ghost':128,\n",
    "                                      'tol': 1e-6},\n",
    "                                 weight={'interior':1e0,\n",
    "                                         'wall': 0.0},\n",
    "                                resample_every= 1.1,\n",
    "                                walk = False,\n",
    "                                importance_sampling = False)"
   ]
  },
  {
   "cell_type": "code",
   "execution_count": 1,
   "metadata": {},
   "outputs": [
    {
     "name": "stdout",
     "output_type": "stream",
     "text": [
      "0\n",
      "1\n"
     ]
    },
    {
     "ename": "IndexError",
     "evalue": "index 52252 is out of bounds for dimension 0 with size 2633",
     "output_type": "error",
     "traceback": [
      "\u001b[0;31m---------------------------------------------------------------------------\u001b[0m",
      "\u001b[0;31mIndexError\u001b[0m                                Traceback (most recent call last)",
      "\u001b[1;32m/home/mskpark/Research/DRLPDE/test2.ipynb Cell 5\u001b[0m in \u001b[0;36m<cell line: 7>\u001b[0;34m()\u001b[0m\n\u001b[1;32m      <a href='vscode-notebook-cell:/home/mskpark/Research/DRLPDE/test2.ipynb#W5sZmlsZQ%3D%3D?line=0'>1</a>\u001b[0m \u001b[39m## JCP example 3\u001b[39;00m\n\u001b[1;32m      <a href='vscode-notebook-cell:/home/mskpark/Research/DRLPDE/test2.ipynb#W5sZmlsZQ%3D%3D?line=1'>2</a>\u001b[0m \n\u001b[1;32m      <a href='vscode-notebook-cell:/home/mskpark/Research/DRLPDE/test2.ipynb#W5sZmlsZQ%3D%3D?line=2'>3</a>\u001b[0m \u001b[39m## TODO Fix create.thePoints\u001b[39;00m\n\u001b[1;32m      <a href='vscode-notebook-cell:/home/mskpark/Research/DRLPDE/test2.ipynb#W5sZmlsZQ%3D%3D?line=4'>5</a>\u001b[0m \u001b[39mimport\u001b[39;00m \u001b[39mDRLPDE\u001b[39;00m\u001b[39m.\u001b[39;00m\u001b[39mmain\u001b[39;00m\n\u001b[0;32m----> <a href='vscode-notebook-cell:/home/mskpark/Research/DRLPDE/test2.ipynb#W5sZmlsZQ%3D%3D?line=6'>7</a>\u001b[0m model \u001b[39m=\u001b[39m DRLPDE\u001b[39m.\u001b[39;49mmain\u001b[39m.\u001b[39;49msolvePDE(\u001b[39m'\u001b[39;49m\u001b[39mJCPexample3\u001b[39;49m\u001b[39m'\u001b[39;49m, \n\u001b[1;32m      <a href='vscode-notebook-cell:/home/mskpark/Research/DRLPDE/test2.ipynb#W5sZmlsZQ%3D%3D?line=7'>8</a>\u001b[0m                                  savemodel\u001b[39m=\u001b[39;49m\u001b[39m'\u001b[39;49m\u001b[39mTest_Stochastic\u001b[39;49m\u001b[39m'\u001b[39;49m, \n\u001b[1;32m      <a href='vscode-notebook-cell:/home/mskpark/Research/DRLPDE/test2.ipynb#W5sZmlsZQ%3D%3D?line=8'>9</a>\u001b[0m                                  trainingsteps\u001b[39m=\u001b[39;49m\u001b[39m10\u001b[39;49m\u001b[39m*\u001b[39;49m\u001b[39m*\u001b[39;49m\u001b[39m2\u001b[39;49m,\n\u001b[1;32m     <a href='vscode-notebook-cell:/home/mskpark/Research/DRLPDE/test2.ipynb#W5sZmlsZQ%3D%3D?line=9'>10</a>\u001b[0m                                  method\u001b[39m=\u001b[39;49m{\u001b[39m'\u001b[39;49m\u001b[39mtype\u001b[39;49m\u001b[39m'\u001b[39;49m:\u001b[39m'\u001b[39;49m\u001b[39mstochastic\u001b[39;49m\u001b[39m'\u001b[39;49m,\n\u001b[1;32m     <a href='vscode-notebook-cell:/home/mskpark/Research/DRLPDE/test2.ipynb#W5sZmlsZQ%3D%3D?line=10'>11</a>\u001b[0m                                       \u001b[39m'\u001b[39;49m\u001b[39mdt\u001b[39;49m\u001b[39m'\u001b[39;49m:\u001b[39m1e-4\u001b[39;49m,\n\u001b[1;32m     <a href='vscode-notebook-cell:/home/mskpark/Research/DRLPDE/test2.ipynb#W5sZmlsZQ%3D%3D?line=11'>12</a>\u001b[0m                                       \u001b[39m'\u001b[39;49m\u001b[39mnum_ghost\u001b[39;49m\u001b[39m'\u001b[39;49m:\u001b[39m128\u001b[39;49m,\n\u001b[1;32m     <a href='vscode-notebook-cell:/home/mskpark/Research/DRLPDE/test2.ipynb#W5sZmlsZQ%3D%3D?line=12'>13</a>\u001b[0m                                       \u001b[39m'\u001b[39;49m\u001b[39mtol\u001b[39;49m\u001b[39m'\u001b[39;49m: \u001b[39m1e-6\u001b[39;49m},\n\u001b[1;32m     <a href='vscode-notebook-cell:/home/mskpark/Research/DRLPDE/test2.ipynb#W5sZmlsZQ%3D%3D?line=13'>14</a>\u001b[0m                                 resample_every\u001b[39m=\u001b[39;49m \u001b[39m1.1\u001b[39;49m,\n\u001b[1;32m     <a href='vscode-notebook-cell:/home/mskpark/Research/DRLPDE/test2.ipynb#W5sZmlsZQ%3D%3D?line=14'>15</a>\u001b[0m                                 walk \u001b[39m=\u001b[39;49m \u001b[39mFalse\u001b[39;49;00m,\n\u001b[1;32m     <a href='vscode-notebook-cell:/home/mskpark/Research/DRLPDE/test2.ipynb#W5sZmlsZQ%3D%3D?line=15'>16</a>\u001b[0m                                 importance_sampling \u001b[39m=\u001b[39;49m \u001b[39mFalse\u001b[39;49;00m)\n",
      "File \u001b[0;32m~/Research/DRLPDE/DRLPDE/main.py:211\u001b[0m, in \u001b[0;36msolvePDE\u001b[0;34m(parameters, **solver)\u001b[0m\n\u001b[1;32m    208\u001b[0m     squarederrors[\u001b[39m0\u001b[39m,:,:] \u001b[39m=\u001b[39m ErrorPoints\u001b[39m.\u001b[39mCalculateError(model, dev, numbatch)\n\u001b[1;32m    210\u001b[0m \u001b[39m# Train once\u001b[39;00m\n\u001b[0;32m--> 211\u001b[0m squaredlosses[\u001b[39m0\u001b[39m,:,:] \u001b[39m=\u001b[39m Points\u001b[39m.\u001b[39;49mTrainL2LinfLoss(model, Domain, dev, numbatch, squaredlosses[\u001b[39m0\u001b[39;49m,:,:])\n\u001b[1;32m    213\u001b[0m \u001b[39mif\u001b[39;00m collect_error:\n\u001b[1;32m    214\u001b[0m     squarederrors[\u001b[39m1\u001b[39m,:,:] \u001b[39m=\u001b[39m ErrorPoints\u001b[39m.\u001b[39mCalculateError(model, dev, numbatch)\n",
      "File \u001b[0;32m~/Research/DRLPDE/DRLPDE/create.py:337\u001b[0m, in \u001b[0;36mthePoints.TrainL2LinfLoss\u001b[0;34m(self, model, domain, dev, numbatch, squaredlosses, importance_sampling)\u001b[0m\n\u001b[1;32m    334\u001b[0m \u001b[39mself\u001b[39m\u001b[39m.\u001b[39mLinfoptimizers[ii]\u001b[39m.\u001b[39mzero_grad()\n\u001b[1;32m    336\u001b[0m \u001b[39mif\u001b[39;00m \u001b[39mself\u001b[39m\u001b[39m.\u001b[39moutput_dim \u001b[39m>\u001b[39m \u001b[39m1\u001b[39m:\n\u001b[0;32m--> 337\u001b[0m     Linfloss \u001b[39m=\u001b[39m \u001b[39mself\u001b[39m\u001b[39m.\u001b[39mtarget[ii](X[max_index,:]\u001b[39m.\u001b[39mrequires_grad_(), model, domain, \u001b[39m*\u001b[39m\u001b[39m*\u001b[39m\u001b[39mself\u001b[39m\u001b[39m.\u001b[39mvar[ii])[\u001b[39m0\u001b[39m,kk]\n\u001b[1;32m    338\u001b[0m \u001b[39melse\u001b[39;00m:\n\u001b[1;32m    339\u001b[0m     Linfloss \u001b[39m=\u001b[39m \u001b[39mself\u001b[39m\u001b[39m.\u001b[39mtarget[ii](X[max_index,:]\u001b[39m.\u001b[39mrequires_grad_(), model, domain, \u001b[39m*\u001b[39m\u001b[39m*\u001b[39m\u001b[39mself\u001b[39m\u001b[39m.\u001b[39mvar[ii])\n",
      "\u001b[0;31mIndexError\u001b[0m: index 52252 is out of bounds for dimension 0 with size 2633"
     ]
    }
   ],
   "source": [
    "## JCP example 3\n",
    "\n",
    "## TODO Fix create.thePoints\n",
    "\n",
    "import DRLPDE.main\n",
    "\n",
    "model = DRLPDE.main.solvePDE('JCPexample3', \n",
    "                                 savemodel='Test_Stochastic', \n",
    "                                 trainingsteps=10**2,\n",
    "                                 method={'type':'stochastic',\n",
    "                                      'dt':1e-4,\n",
    "                                      'num_ghost':128,\n",
    "                                      'tol': 1e-6},\n",
    "                                resample_every= 1.1,\n",
    "                                walk = False,\n",
    "                                importance_sampling = False)"
   ]
  },
  {
   "cell_type": "code",
   "execution_count": 3,
   "metadata": {},
   "outputs": [
    {
     "data": {
      "text/plain": [
       "tensor([-0.8114+0.4967j,  0.5324-0.9191j,  1.4084+1.3416j, -0.0965+0.2542j,\n",
       "        -1.4394+0.0717j,  0.1723+0.1958j,  0.5031-1.0765j, -0.1585+0.3783j,\n",
       "         0.1669-1.2237j, -0.9035+0.6982j])"
      ]
     },
     "execution_count": 3,
     "metadata": {},
     "output_type": "execute_result"
    }
   ],
   "source": []
  },
  {
   "cell_type": "code",
   "execution_count": null,
   "metadata": {},
   "outputs": [],
   "source": []
  },
  {
   "cell_type": "code",
   "execution_count": null,
   "metadata": {},
   "outputs": [
    {
     "data": {
      "text/plain": [
       "tensor(2.1056)"
      ]
     },
     "execution_count": 4,
     "metadata": {},
     "output_type": "execute_result"
    }
   ],
   "source": []
  },
  {
   "cell_type": "code",
   "execution_count": null,
   "metadata": {},
   "outputs": [],
   "source": [
    "import torch\n",
    "A = torch.randn(10)\n",
    "ii = torch.tensor(3, dtype=torch.int64)\n"
   ]
  },
  {
   "cell_type": "code",
   "execution_count": null,
   "metadata": {},
   "outputs": [
    {
     "data": {
      "text/plain": [
       "tensor(-1.6510)"
      ]
     },
     "execution_count": 4,
     "metadata": {},
     "output_type": "execute_result"
    }
   ],
   "source": []
  },
  {
   "cell_type": "code",
   "execution_count": null,
   "metadata": {},
   "outputs": [],
   "source": []
  }
 ],
 "metadata": {
  "kernelspec": {
   "display_name": "Python 3",
   "language": "python",
   "name": "python3"
  },
  "language_info": {
   "codemirror_mode": {
    "name": "ipython",
    "version": 3
   },
   "file_extension": ".py",
   "mimetype": "text/x-python",
   "name": "python",
   "nbconvert_exporter": "python",
   "pygments_lexer": "ipython3",
   "version": "3.10.6"
  },
  "orig_nbformat": 4
 },
 "nbformat": 4,
 "nbformat_minor": 2
}
