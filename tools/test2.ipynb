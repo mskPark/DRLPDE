{
 "cells": [
  {
   "cell_type": "code",
   "execution_count": 2,
   "metadata": {},
   "outputs": [],
   "source": [
    "### Test 2\n",
    "\n",
    "# Martingale Solve of the harmonic function\n",
    "#      u(x,y) = 5.1*( X[:,0] - 0.87 )**2 - 5.1*( X[:,1] + 0.34 )**2\n",
    "# in a polar region \n",
    "#      r = 0.72*cos(theta)**5 + 1.2\n"
   ]
  },
  {
   "cell_type": "code",
   "execution_count": 1,
   "metadata": {},
   "outputs": [
    {
     "name": "stdout",
     "output_type": "stream",
     "text": [
      "step = 1000 of 10000, Elapsed Time: 8 min, Time to Go:72 min\n",
      "step = 2000 of 10000, Elapsed Time:16 min, Time to Go:64 min\n",
      "step = 3000 of 10000, Elapsed Time:25 min, Time to Go:58 min\n",
      "step = 4000 of 10000, Elapsed Time:33 min, Time to Go:49 min\n",
      "step = 5000 of 10000, Elapsed Time:41 min, Time to Go:41 min\n",
      "step = 6000 of 10000, Elapsed Time:49 min, Time to Go:33 min\n",
      "step = 7000 of 10000, Elapsed Time:57 min, Time to Go:24 min\n",
      "step = 8000 of 10000, Elapsed Time:65 min, Time to Go:16 min\n",
      "step = 9000 of 10000, Elapsed Time:73 min, Time to Go: 8 min\n",
      "Done\n"
     ]
    }
   ],
   "source": [
    "# Stochastic\n",
    "#   The contour looks bad but the Linf error and L2 error are not capturing it\n",
    "#   Increase\n",
    "#     num_ghost\n",
    "#     num_points\n",
    "#  \n",
    "\n",
    "import DRLPDE.main\n",
    "\n",
    "model = DRLPDE.main.solvePDE('example1', \n",
    "                                 savemodel='Test2_Stochastic', \n",
    "                                 trainingsteps=10**4,\n",
    "                                 method={'type':'stochastic',\n",
    "                                         'dt':1e-4,\n",
    "                                        'num_ghost':128,\n",
    "                                        'tol': 1e-6},\n",
    "                                resample_every= 1.1,\n",
    "                                walk = False,\n",
    "                                importance_sampling = False)"
   ]
  },
  {
   "cell_type": "code",
   "execution_count": null,
   "metadata": {},
   "outputs": [],
   "source": [
    "# Test changes in dt\n",
    "# dt = 1e-1, 1e-2, 1e-3, 1e-4, 1e-5\n",
    "\n",
    "import DRLPDE.main\n",
    "for ii in range(1,6):\n",
    "    model = DRLPDE.main.solvePDE('example1', \n",
    "                                 savemodel='Test2C', \n",
    "                                 trainingsteps=10**4,\n",
    "                                 method={'type':'stochastic',\n",
    "                                      'dt':10**(-ii),\n",
    "                                      'num_ghost':128,\n",
    "                                      'tol': 1e-6},\n",
    "                                resample_every= 1.1,\n",
    "                                walk = False,\n",
    "                                importance_sampling = False)\n",
    "\n",
    "# Plot final errors"
   ]
  },
  {
   "cell_type": "code",
   "execution_count": null,
   "metadata": {},
   "outputs": [],
   "source": [
    "# Try walking vs Resampling points: Reinforcement Learning vs just searching randomly\n",
    "# walk_every = 10\n",
    "# resample = 10\n",
    "\n",
    "import DRLPDE.main\n",
    "\n",
    "model = DRLPDE.main.solvePDE('example1', \n",
    "                                 savemodel='Test2D', \n",
    "                                 trainingsteps=10**4,\n",
    "                                 method={'type':'stochastic',\n",
    "                                      'dt':1e-4,\n",
    "                                      'num_ghost':128,\n",
    "                                      'tol': 1e-6},\n",
    "                                 weight={'interior':1e0,\n",
    "                                         'wall': 0.0},\n",
    "                                resample_every= 1.1,\n",
    "                                walk = False,\n",
    "                                importance_sampling = False)"
   ]
  },
  {
   "cell_type": "code",
   "execution_count": 1,
   "metadata": {},
   "outputs": [
    {
     "name": "stdout",
     "output_type": "stream",
     "text": [
      "Here\n"
     ]
    },
    {
     "ename": "RuntimeError",
     "evalue": "One of the differentiated Tensors appears to not have been used in the graph. Set allow_unused=True if this is the desired behavior.",
     "output_type": "error",
     "traceback": [
      "\u001b[0;31m---------------------------------------------------------------------------\u001b[0m",
      "\u001b[0;31mRuntimeError\u001b[0m                              Traceback (most recent call last)",
      "\u001b[1;32m/home/mskpark/Research/DRLPDE/test2.ipynb Cell 5\u001b[0m in \u001b[0;36m<cell line: 7>\u001b[0;34m()\u001b[0m\n\u001b[1;32m      <a href='vscode-notebook-cell:/home/mskpark/Research/DRLPDE/test2.ipynb#W4sZmlsZQ%3D%3D?line=0'>1</a>\u001b[0m \u001b[39m## JCP example 4\u001b[39;00m\n\u001b[1;32m      <a href='vscode-notebook-cell:/home/mskpark/Research/DRLPDE/test2.ipynb#W4sZmlsZQ%3D%3D?line=1'>2</a>\u001b[0m \n\u001b[1;32m      <a href='vscode-notebook-cell:/home/mskpark/Research/DRLPDE/test2.ipynb#W4sZmlsZQ%3D%3D?line=2'>3</a>\u001b[0m \u001b[39m## TODO Fix create.thePoints\u001b[39;00m\n\u001b[1;32m      <a href='vscode-notebook-cell:/home/mskpark/Research/DRLPDE/test2.ipynb#W4sZmlsZQ%3D%3D?line=4'>5</a>\u001b[0m \u001b[39mimport\u001b[39;00m \u001b[39mDRLPDE\u001b[39;00m\u001b[39m.\u001b[39;00m\u001b[39mmain\u001b[39;00m\n\u001b[0;32m----> <a href='vscode-notebook-cell:/home/mskpark/Research/DRLPDE/test2.ipynb#W4sZmlsZQ%3D%3D?line=6'>7</a>\u001b[0m model \u001b[39m=\u001b[39m DRLPDE\u001b[39m.\u001b[39;49mmain\u001b[39m.\u001b[39;49msolvePDE(\u001b[39m'\u001b[39;49m\u001b[39mexample3\u001b[39;49m\u001b[39m'\u001b[39;49m, \n\u001b[1;32m      <a href='vscode-notebook-cell:/home/mskpark/Research/DRLPDE/test2.ipynb#W4sZmlsZQ%3D%3D?line=7'>8</a>\u001b[0m                                  savemodel\u001b[39m=\u001b[39;49m\u001b[39m'\u001b[39;49m\u001b[39mTest_Stochastic\u001b[39;49m\u001b[39m'\u001b[39;49m, \n\u001b[1;32m      <a href='vscode-notebook-cell:/home/mskpark/Research/DRLPDE/test2.ipynb#W4sZmlsZQ%3D%3D?line=8'>9</a>\u001b[0m                                  trainingsteps\u001b[39m=\u001b[39;49m\u001b[39m10\u001b[39;49m\u001b[39m*\u001b[39;49m\u001b[39m*\u001b[39;49m\u001b[39m2\u001b[39;49m,\n\u001b[1;32m     <a href='vscode-notebook-cell:/home/mskpark/Research/DRLPDE/test2.ipynb#W4sZmlsZQ%3D%3D?line=9'>10</a>\u001b[0m                                  method\u001b[39m=\u001b[39;49m{\u001b[39m'\u001b[39;49m\u001b[39mtype\u001b[39;49m\u001b[39m'\u001b[39;49m:\u001b[39m'\u001b[39;49m\u001b[39mstochastic\u001b[39;49m\u001b[39m'\u001b[39;49m,\n\u001b[1;32m     <a href='vscode-notebook-cell:/home/mskpark/Research/DRLPDE/test2.ipynb#W4sZmlsZQ%3D%3D?line=10'>11</a>\u001b[0m                                       \u001b[39m'\u001b[39;49m\u001b[39mdt\u001b[39;49m\u001b[39m'\u001b[39;49m:\u001b[39m1e-4\u001b[39;49m,\n\u001b[1;32m     <a href='vscode-notebook-cell:/home/mskpark/Research/DRLPDE/test2.ipynb#W4sZmlsZQ%3D%3D?line=11'>12</a>\u001b[0m                                       \u001b[39m'\u001b[39;49m\u001b[39mnum_ghost\u001b[39;49m\u001b[39m'\u001b[39;49m:\u001b[39m128\u001b[39;49m,\n\u001b[1;32m     <a href='vscode-notebook-cell:/home/mskpark/Research/DRLPDE/test2.ipynb#W4sZmlsZQ%3D%3D?line=12'>13</a>\u001b[0m                                       \u001b[39m'\u001b[39;49m\u001b[39mtol\u001b[39;49m\u001b[39m'\u001b[39;49m: \u001b[39m1e-6\u001b[39;49m},\n\u001b[1;32m     <a href='vscode-notebook-cell:/home/mskpark/Research/DRLPDE/test2.ipynb#W4sZmlsZQ%3D%3D?line=13'>14</a>\u001b[0m                                 resample_every\u001b[39m=\u001b[39;49m \u001b[39m1.1\u001b[39;49m,\n\u001b[1;32m     <a href='vscode-notebook-cell:/home/mskpark/Research/DRLPDE/test2.ipynb#W4sZmlsZQ%3D%3D?line=14'>15</a>\u001b[0m                                 walk \u001b[39m=\u001b[39;49m \u001b[39mFalse\u001b[39;49;00m,\n\u001b[1;32m     <a href='vscode-notebook-cell:/home/mskpark/Research/DRLPDE/test2.ipynb#W4sZmlsZQ%3D%3D?line=15'>16</a>\u001b[0m                                 importance_sampling \u001b[39m=\u001b[39;49m \u001b[39mFalse\u001b[39;49;00m)\n",
      "File \u001b[0;32m~/Research/DRLPDE/DRLPDE/main.py:216\u001b[0m, in \u001b[0;36msolvePDE\u001b[0;34m(parameters, **solver)\u001b[0m\n\u001b[1;32m    213\u001b[0m     squarederrors[\u001b[39m0\u001b[39m,:,:] \u001b[39m=\u001b[39m ErrorPoints\u001b[39m.\u001b[39mCalculateError(model, dev, numbatch)\n\u001b[1;32m    215\u001b[0m \u001b[39m# Train once\u001b[39;00m\n\u001b[0;32m--> 216\u001b[0m squaredlosses[\u001b[39m0\u001b[39m,:,:] \u001b[39m=\u001b[39m Points\u001b[39m.\u001b[39;49mTrainL2LinfLoss(model, Domain, dev, numbatch, squaredlosses[\u001b[39m0\u001b[39;49m,:,:])\n\u001b[1;32m    218\u001b[0m \u001b[39mif\u001b[39;00m collect_error:\n\u001b[1;32m    219\u001b[0m     squarederrors[\u001b[39m1\u001b[39m,:,:] \u001b[39m=\u001b[39m ErrorPoints\u001b[39m.\u001b[39mCalculateError(model, dev, numbatch)\n",
      "File \u001b[0;32m~/Research/DRLPDE/DRLPDE/create.py:301\u001b[0m, in \u001b[0;36mthePoints.TrainL2LinfLoss\u001b[0;34m(self, model, domain, dev, numbatch, squaredlosses, importance_sampling)\u001b[0m\n\u001b[1;32m    299\u001b[0m \u001b[39mself\u001b[39m\u001b[39m.\u001b[39mL2optimizers[ii]\u001b[39m.\u001b[39mzero_grad()\n\u001b[1;32m    300\u001b[0m \u001b[39mfor\u001b[39;00m X, index \u001b[39min\u001b[39;00m Batch:\n\u001b[0;32m--> 301\u001b[0m     loss \u001b[39m=\u001b[39m \u001b[39mself\u001b[39;49m\u001b[39m.\u001b[39;49mtarget[ii](X\u001b[39m.\u001b[39;49mrequires_grad_(), model, domain, \u001b[39m*\u001b[39;49m\u001b[39m*\u001b[39;49m\u001b[39mself\u001b[39;49m\u001b[39m.\u001b[39;49mvar[ii])\n\u001b[1;32m    303\u001b[0m     \u001b[39m# Collect the index where the max happens                \u001b[39;00m\n\u001b[1;32m    304\u001b[0m     \u001b[39mmax\u001b[39m, jj \u001b[39m=\u001b[39m torch\u001b[39m.\u001b[39mmax(loss, dim\u001b[39m=\u001b[39m\u001b[39m0\u001b[39m)\n",
      "File \u001b[0;32m~/Research/DRLPDE/DRLPDE/stochastic.py:141\u001b[0m, in \u001b[0;36munsteadyNavierStokes\u001b[0;34m(X, model, domain, x_dim, diffusion, forcing, dt, num_ghost, tol, ic, **var_train)\u001b[0m\n\u001b[1;32m    139\u001b[0m \u001b[39mprint\u001b[39m(\u001b[39m'\u001b[39m\u001b[39mHere\u001b[39m\u001b[39m'\u001b[39m)\n\u001b[1;32m    140\u001b[0m \u001b[39m# Evaluate grad(p) at Xnew\u001b[39;00m\n\u001b[0;32m--> 141\u001b[0m gradPnew \u001b[39m=\u001b[39m ad\u001b[39m.\u001b[39;49mgradient(UPnew[:,\u001b[39m-\u001b[39;49m\u001b[39m1\u001b[39;49m], Xnew)[:,:x_dim]\n\u001b[1;32m    143\u001b[0m \u001b[39m# Calculate Loss = Residual Squared Error\u001b[39;00m\n\u001b[1;32m    144\u001b[0m Loss \u001b[39m=\u001b[39m SquaredError( UPnew[:,:x_dim]\u001b[39m.\u001b[39mdetach()\u001b[39m.\u001b[39mreshape(num_ghost, X\u001b[39m.\u001b[39msize(\u001b[39m0\u001b[39m), x_dim)\u001b[39m.\u001b[39mmean(\u001b[39m0\u001b[39m) \u001b[39m+\u001b[39m dt\u001b[39m/\u001b[39m\u001b[39m2\u001b[39m \u001b[39m*\u001b[39m( gradPnew\u001b[39m.\u001b[39mdetach()\u001b[39m.\u001b[39mreshape(num_ghost, X\u001b[39m.\u001b[39msize(\u001b[39m0\u001b[39m), x_dim)\u001b[39m.\u001b[39mmean(\u001b[39m0\u001b[39m), UPold \u001b[39m+\u001b[39m gradPold) )\n",
      "File \u001b[0;32m~/Research/DRLPDE/DRLPDE/autodiff.py:19\u001b[0m, in \u001b[0;36mgradient\u001b[0;34m(y, x)\u001b[0m\n\u001b[1;32m     11\u001b[0m \u001b[39mdef\u001b[39;00m \u001b[39mgradient\u001b[39m(y,x):\n\u001b[1;32m     12\u001b[0m     \u001b[39m### Calculates the gradient of (y) wrt (x)\u001b[39;00m\n\u001b[1;32m     13\u001b[0m     \u001b[39m### x - torch vector (Npoints x dim_in)\u001b[39;00m\n\u001b[0;32m   (...)\u001b[0m\n\u001b[1;32m     16\u001b[0m     \u001b[39m###\u001b[39;00m\n\u001b[1;32m     17\u001b[0m     \u001b[39m### CARE: If (y) vector, then gradient will be sum of gradients of y_i\u001b[39;00m\n\u001b[0;32m---> 19\u001b[0m     gradient \u001b[39m=\u001b[39m torch\u001b[39m.\u001b[39;49mautograd\u001b[39m.\u001b[39;49mgrad(y, x, grad_outputs\u001b[39m=\u001b[39;49mtorch\u001b[39m.\u001b[39;49mones_like(y), \n\u001b[1;32m     20\u001b[0m                                    create_graph\u001b[39m=\u001b[39;49m\u001b[39mTrue\u001b[39;49;00m, retain_graph\u001b[39m=\u001b[39;49m\u001b[39mTrue\u001b[39;49;00m)[\u001b[39m0\u001b[39m]\n\u001b[1;32m     22\u001b[0m     \u001b[39mreturn\u001b[39;00m gradient\n",
      "File \u001b[0;32m~/.local/lib/python3.10/site-packages/torch/autograd/__init__.py:276\u001b[0m, in \u001b[0;36mgrad\u001b[0;34m(outputs, inputs, grad_outputs, retain_graph, create_graph, only_inputs, allow_unused, is_grads_batched)\u001b[0m\n\u001b[1;32m    274\u001b[0m     \u001b[39mreturn\u001b[39;00m _vmap_internals\u001b[39m.\u001b[39m_vmap(vjp, \u001b[39m0\u001b[39m, \u001b[39m0\u001b[39m, allow_none_pass_through\u001b[39m=\u001b[39m\u001b[39mTrue\u001b[39;00m)(grad_outputs_)\n\u001b[1;32m    275\u001b[0m \u001b[39melse\u001b[39;00m:\n\u001b[0;32m--> 276\u001b[0m     \u001b[39mreturn\u001b[39;00m Variable\u001b[39m.\u001b[39;49m_execution_engine\u001b[39m.\u001b[39;49mrun_backward(  \u001b[39m# Calls into the C++ engine to run the backward pass\u001b[39;49;00m\n\u001b[1;32m    277\u001b[0m         t_outputs, grad_outputs_, retain_graph, create_graph, t_inputs,\n\u001b[1;32m    278\u001b[0m         allow_unused, accumulate_grad\u001b[39m=\u001b[39;49m\u001b[39mFalse\u001b[39;49;00m)\n",
      "\u001b[0;31mRuntimeError\u001b[0m: One of the differentiated Tensors appears to not have been used in the graph. Set allow_unused=True if this is the desired behavior."
     ]
    }
   ],
   "source": [
    "## JCP example 4\n",
    "\n",
    "## TODO Fix create.thePoints\n",
    "\n",
    "import DRLPDE.main\n",
    "\n",
    "model = DRLPDE.main.solvePDE('example3', \n",
    "                                 savemodel='Test_Stochastic', \n",
    "                                 trainingsteps=10**2,\n",
    "                                 method={'type':'stochastic',\n",
    "                                      'dt':1e-4,\n",
    "                                      'num_ghost':128,\n",
    "                                      'tol': 1e-6},\n",
    "                                resample_every= 1.1,\n",
    "                                walk = False,\n",
    "                                importance_sampling = False)"
   ]
  },
  {
   "cell_type": "code",
   "execution_count": 3,
   "metadata": {},
   "outputs": [],
   "source": []
  },
  {
   "cell_type": "code",
   "execution_count": 13,
   "metadata": {},
   "outputs": [
    {
     "name": "stdout",
     "output_type": "stream",
     "text": [
      "Okay\n"
     ]
    }
   ],
   "source": []
  },
  {
   "cell_type": "code",
   "execution_count": null,
   "metadata": {},
   "outputs": [
    {
     "data": {
      "text/plain": [
       "tensor(2.1056)"
      ]
     },
     "execution_count": 4,
     "metadata": {},
     "output_type": "execute_result"
    }
   ],
   "source": []
  },
  {
   "cell_type": "code",
   "execution_count": null,
   "metadata": {},
   "outputs": [],
   "source": []
  },
  {
   "cell_type": "code",
   "execution_count": null,
   "metadata": {},
   "outputs": [
    {
     "data": {
      "text/plain": [
       "tensor(-1.6510)"
      ]
     },
     "execution_count": 4,
     "metadata": {},
     "output_type": "execute_result"
    }
   ],
   "source": []
  },
  {
   "cell_type": "code",
   "execution_count": null,
   "metadata": {},
   "outputs": [],
   "source": []
  }
 ],
 "metadata": {
  "kernelspec": {
   "display_name": "Python 3",
   "language": "python",
   "name": "python3"
  },
  "language_info": {
   "codemirror_mode": {
    "name": "ipython",
    "version": 3
   },
   "file_extension": ".py",
   "mimetype": "text/x-python",
   "name": "python",
   "nbconvert_exporter": "python",
   "pygments_lexer": "ipython3",
   "version": "3.10.4"
  },
  "orig_nbformat": 4
 },
 "nbformat": 4,
 "nbformat_minor": 2
}
